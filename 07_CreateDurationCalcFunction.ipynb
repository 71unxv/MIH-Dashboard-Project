{
 "cells": [
  {
   "cell_type": "code",
   "execution_count": 6,
   "metadata": {},
   "outputs": [],
   "source": [
    "import pandas as pd\n",
    "from IPython.display import display as display_DF"
   ]
  },
  {
   "cell_type": "code",
   "execution_count": 27,
   "metadata": {},
   "outputs": [
    {
     "name": "stdout",
     "output_type": "stream",
     "text": [
      "dt                          datetime64[ns]\n",
      "date                                object\n",
      "time                                object\n",
      "bitdepth                           float64\n",
      "md                                 float64\n",
      "blockpos                           float64\n",
      "rop                                float64\n",
      "hklda                              float64\n",
      "woba                               float64\n",
      "torqa                              float64\n",
      "rpm                                float64\n",
      "stppress                           float64\n",
      "mudflowin                          float64\n",
      "LABEL_ConnectionActivity            object\n",
      "LABEL_SubActivity                   object\n",
      "LABEL_Activity                      object\n",
      "dtype: object\n"
     ]
    },
    {
     "data": {
      "text/html": [
       "<div>\n",
       "<style scoped>\n",
       "    .dataframe tbody tr th:only-of-type {\n",
       "        vertical-align: middle;\n",
       "    }\n",
       "\n",
       "    .dataframe tbody tr th {\n",
       "        vertical-align: top;\n",
       "    }\n",
       "\n",
       "    .dataframe thead th {\n",
       "        text-align: right;\n",
       "    }\n",
       "</style>\n",
       "<table border=\"1\" class=\"dataframe\">\n",
       "  <thead>\n",
       "    <tr style=\"text-align: right;\">\n",
       "      <th></th>\n",
       "      <th>dt</th>\n",
       "      <th>date</th>\n",
       "      <th>time</th>\n",
       "      <th>bitdepth</th>\n",
       "      <th>md</th>\n",
       "      <th>blockpos</th>\n",
       "      <th>rop</th>\n",
       "      <th>hklda</th>\n",
       "      <th>woba</th>\n",
       "      <th>torqa</th>\n",
       "      <th>rpm</th>\n",
       "      <th>stppress</th>\n",
       "      <th>mudflowin</th>\n",
       "      <th>LABEL_ConnectionActivity</th>\n",
       "      <th>LABEL_SubActivity</th>\n",
       "      <th>LABEL_Activity</th>\n",
       "    </tr>\n",
       "  </thead>\n",
       "  <tbody>\n",
       "    <tr>\n",
       "      <th>0</th>\n",
       "      <td>2021-05-11 03:10:03</td>\n",
       "      <td>2021-05-11</td>\n",
       "      <td>03:10:03</td>\n",
       "      <td>0.00</td>\n",
       "      <td>343.85</td>\n",
       "      <td>9.65</td>\n",
       "      <td>0.0</td>\n",
       "      <td>29.75</td>\n",
       "      <td>0.0</td>\n",
       "      <td>0.0</td>\n",
       "      <td>0.0</td>\n",
       "      <td>0.0</td>\n",
       "      <td>0.0</td>\n",
       "      <td>NO DATA</td>\n",
       "      <td>WAIT ON CEMENT</td>\n",
       "      <td>WAIT ON CEMENT</td>\n",
       "    </tr>\n",
       "    <tr>\n",
       "      <th>1</th>\n",
       "      <td>2021-05-11 03:10:08</td>\n",
       "      <td>2021-05-11</td>\n",
       "      <td>03:10:08</td>\n",
       "      <td>0.00</td>\n",
       "      <td>343.85</td>\n",
       "      <td>9.65</td>\n",
       "      <td>0.0</td>\n",
       "      <td>29.75</td>\n",
       "      <td>0.0</td>\n",
       "      <td>0.0</td>\n",
       "      <td>0.0</td>\n",
       "      <td>0.0</td>\n",
       "      <td>0.0</td>\n",
       "      <td>NO DATA</td>\n",
       "      <td>WAIT ON CEMENT</td>\n",
       "      <td>WAIT ON CEMENT</td>\n",
       "    </tr>\n",
       "    <tr>\n",
       "      <th>2</th>\n",
       "      <td>2021-05-11 03:10:13</td>\n",
       "      <td>2021-05-11</td>\n",
       "      <td>03:10:13</td>\n",
       "      <td>0.00</td>\n",
       "      <td>343.85</td>\n",
       "      <td>9.65</td>\n",
       "      <td>0.0</td>\n",
       "      <td>29.75</td>\n",
       "      <td>0.0</td>\n",
       "      <td>0.0</td>\n",
       "      <td>0.0</td>\n",
       "      <td>0.0</td>\n",
       "      <td>0.0</td>\n",
       "      <td>NO DATA</td>\n",
       "      <td>WAIT ON CEMENT</td>\n",
       "      <td>WAIT ON CEMENT</td>\n",
       "    </tr>\n",
       "    <tr>\n",
       "      <th>3</th>\n",
       "      <td>2021-05-11 03:10:18</td>\n",
       "      <td>2021-05-11</td>\n",
       "      <td>03:10:18</td>\n",
       "      <td>0.00</td>\n",
       "      <td>343.85</td>\n",
       "      <td>9.65</td>\n",
       "      <td>0.0</td>\n",
       "      <td>29.75</td>\n",
       "      <td>0.0</td>\n",
       "      <td>0.0</td>\n",
       "      <td>0.0</td>\n",
       "      <td>0.0</td>\n",
       "      <td>0.0</td>\n",
       "      <td>NO DATA</td>\n",
       "      <td>WAIT ON CEMENT</td>\n",
       "      <td>WAIT ON CEMENT</td>\n",
       "    </tr>\n",
       "    <tr>\n",
       "      <th>4</th>\n",
       "      <td>2021-05-11 03:10:23</td>\n",
       "      <td>2021-05-11</td>\n",
       "      <td>03:10:23</td>\n",
       "      <td>0.00</td>\n",
       "      <td>343.85</td>\n",
       "      <td>9.65</td>\n",
       "      <td>0.0</td>\n",
       "      <td>29.75</td>\n",
       "      <td>0.0</td>\n",
       "      <td>0.0</td>\n",
       "      <td>0.0</td>\n",
       "      <td>0.0</td>\n",
       "      <td>0.0</td>\n",
       "      <td>NO DATA</td>\n",
       "      <td>WAIT ON CEMENT</td>\n",
       "      <td>WAIT ON CEMENT</td>\n",
       "    </tr>\n",
       "    <tr>\n",
       "      <th>...</th>\n",
       "      <td>...</td>\n",
       "      <td>...</td>\n",
       "      <td>...</td>\n",
       "      <td>...</td>\n",
       "      <td>...</td>\n",
       "      <td>...</td>\n",
       "      <td>...</td>\n",
       "      <td>...</td>\n",
       "      <td>...</td>\n",
       "      <td>...</td>\n",
       "      <td>...</td>\n",
       "      <td>...</td>\n",
       "      <td>...</td>\n",
       "      <td>...</td>\n",
       "      <td>...</td>\n",
       "      <td>...</td>\n",
       "    </tr>\n",
       "    <tr>\n",
       "      <th>35196</th>\n",
       "      <td>2021-05-13 05:24:01</td>\n",
       "      <td>2021-05-13</td>\n",
       "      <td>05:24:01</td>\n",
       "      <td>1084.25</td>\n",
       "      <td>1163.32</td>\n",
       "      <td>6.39</td>\n",
       "      <td>0.0</td>\n",
       "      <td>140.81</td>\n",
       "      <td>0.0</td>\n",
       "      <td>0.0</td>\n",
       "      <td>0.0</td>\n",
       "      <td>0.0</td>\n",
       "      <td>0.0</td>\n",
       "      <td>NO DATA</td>\n",
       "      <td>STATIONARY</td>\n",
       "      <td>STATIONARY</td>\n",
       "    </tr>\n",
       "    <tr>\n",
       "      <th>35197</th>\n",
       "      <td>2021-05-13 05:24:06</td>\n",
       "      <td>2021-05-13</td>\n",
       "      <td>05:24:06</td>\n",
       "      <td>1084.25</td>\n",
       "      <td>1163.32</td>\n",
       "      <td>6.39</td>\n",
       "      <td>0.0</td>\n",
       "      <td>140.81</td>\n",
       "      <td>0.0</td>\n",
       "      <td>0.0</td>\n",
       "      <td>0.0</td>\n",
       "      <td>0.0</td>\n",
       "      <td>0.0</td>\n",
       "      <td>NO DATA</td>\n",
       "      <td>STATIONARY</td>\n",
       "      <td>STATIONARY</td>\n",
       "    </tr>\n",
       "    <tr>\n",
       "      <th>35198</th>\n",
       "      <td>2021-05-13 05:24:11</td>\n",
       "      <td>2021-05-13</td>\n",
       "      <td>05:24:11</td>\n",
       "      <td>1084.25</td>\n",
       "      <td>1163.32</td>\n",
       "      <td>6.39</td>\n",
       "      <td>0.0</td>\n",
       "      <td>140.81</td>\n",
       "      <td>0.0</td>\n",
       "      <td>0.0</td>\n",
       "      <td>0.0</td>\n",
       "      <td>0.0</td>\n",
       "      <td>0.0</td>\n",
       "      <td>NO DATA</td>\n",
       "      <td>STATIONARY</td>\n",
       "      <td>STATIONARY</td>\n",
       "    </tr>\n",
       "    <tr>\n",
       "      <th>35199</th>\n",
       "      <td>2021-05-13 05:24:16</td>\n",
       "      <td>2021-05-13</td>\n",
       "      <td>05:24:16</td>\n",
       "      <td>1084.25</td>\n",
       "      <td>1163.32</td>\n",
       "      <td>6.39</td>\n",
       "      <td>0.0</td>\n",
       "      <td>140.88</td>\n",
       "      <td>0.0</td>\n",
       "      <td>0.0</td>\n",
       "      <td>0.0</td>\n",
       "      <td>0.0</td>\n",
       "      <td>0.0</td>\n",
       "      <td>NO DATA</td>\n",
       "      <td>STATIONARY</td>\n",
       "      <td>STATIONARY</td>\n",
       "    </tr>\n",
       "    <tr>\n",
       "      <th>35200</th>\n",
       "      <td>2021-05-13 05:24:21</td>\n",
       "      <td>2021-05-13</td>\n",
       "      <td>05:24:21</td>\n",
       "      <td>1084.25</td>\n",
       "      <td>1163.32</td>\n",
       "      <td>6.39</td>\n",
       "      <td>0.0</td>\n",
       "      <td>141.07</td>\n",
       "      <td>0.0</td>\n",
       "      <td>0.0</td>\n",
       "      <td>0.0</td>\n",
       "      <td>0.0</td>\n",
       "      <td>0.0</td>\n",
       "      <td>NO DATA</td>\n",
       "      <td>STATIONARY</td>\n",
       "      <td>STATIONARY</td>\n",
       "    </tr>\n",
       "  </tbody>\n",
       "</table>\n",
       "<p>35201 rows × 16 columns</p>\n",
       "</div>"
      ],
      "text/plain": [
       "                       dt        date      time  bitdepth       md  blockpos  \\\n",
       "0     2021-05-11 03:10:03  2021-05-11  03:10:03      0.00   343.85      9.65   \n",
       "1     2021-05-11 03:10:08  2021-05-11  03:10:08      0.00   343.85      9.65   \n",
       "2     2021-05-11 03:10:13  2021-05-11  03:10:13      0.00   343.85      9.65   \n",
       "3     2021-05-11 03:10:18  2021-05-11  03:10:18      0.00   343.85      9.65   \n",
       "4     2021-05-11 03:10:23  2021-05-11  03:10:23      0.00   343.85      9.65   \n",
       "...                   ...         ...       ...       ...      ...       ...   \n",
       "35196 2021-05-13 05:24:01  2021-05-13  05:24:01   1084.25  1163.32      6.39   \n",
       "35197 2021-05-13 05:24:06  2021-05-13  05:24:06   1084.25  1163.32      6.39   \n",
       "35198 2021-05-13 05:24:11  2021-05-13  05:24:11   1084.25  1163.32      6.39   \n",
       "35199 2021-05-13 05:24:16  2021-05-13  05:24:16   1084.25  1163.32      6.39   \n",
       "35200 2021-05-13 05:24:21  2021-05-13  05:24:21   1084.25  1163.32      6.39   \n",
       "\n",
       "       rop   hklda  woba  torqa  rpm  stppress  mudflowin  \\\n",
       "0      0.0   29.75   0.0    0.0  0.0       0.0        0.0   \n",
       "1      0.0   29.75   0.0    0.0  0.0       0.0        0.0   \n",
       "2      0.0   29.75   0.0    0.0  0.0       0.0        0.0   \n",
       "3      0.0   29.75   0.0    0.0  0.0       0.0        0.0   \n",
       "4      0.0   29.75   0.0    0.0  0.0       0.0        0.0   \n",
       "...    ...     ...   ...    ...  ...       ...        ...   \n",
       "35196  0.0  140.81   0.0    0.0  0.0       0.0        0.0   \n",
       "35197  0.0  140.81   0.0    0.0  0.0       0.0        0.0   \n",
       "35198  0.0  140.81   0.0    0.0  0.0       0.0        0.0   \n",
       "35199  0.0  140.88   0.0    0.0  0.0       0.0        0.0   \n",
       "35200  0.0  141.07   0.0    0.0  0.0       0.0        0.0   \n",
       "\n",
       "      LABEL_ConnectionActivity LABEL_SubActivity  LABEL_Activity  \n",
       "0                      NO DATA    WAIT ON CEMENT  WAIT ON CEMENT  \n",
       "1                      NO DATA    WAIT ON CEMENT  WAIT ON CEMENT  \n",
       "2                      NO DATA    WAIT ON CEMENT  WAIT ON CEMENT  \n",
       "3                      NO DATA    WAIT ON CEMENT  WAIT ON CEMENT  \n",
       "4                      NO DATA    WAIT ON CEMENT  WAIT ON CEMENT  \n",
       "...                        ...               ...             ...  \n",
       "35196                  NO DATA        STATIONARY      STATIONARY  \n",
       "35197                  NO DATA        STATIONARY      STATIONARY  \n",
       "35198                  NO DATA        STATIONARY      STATIONARY  \n",
       "35199                  NO DATA        STATIONARY      STATIONARY  \n",
       "35200                  NO DATA        STATIONARY      STATIONARY  \n",
       "\n",
       "[35201 rows x 16 columns]"
      ]
     },
     "execution_count": 27,
     "metadata": {},
     "output_type": "execute_result"
    }
   ],
   "source": [
    "fileRealtime = \"RealTime_Test\\\\AAE-03_RealtimeSimulation.csv\"\n",
    "\n",
    "RealTime_DB = pd.read_csv(fileRealtime).iloc[:,2:]\n",
    "\n",
    "RealTime_DB['dt'] = pd.to_datetime(RealTime_DB['dt'])\n",
    "print(RealTime_DB.dtypes)\n",
    "RealTime_DB\n"
   ]
  },
  {
   "cell_type": "code",
   "execution_count": 29,
   "metadata": {},
   "outputs": [
    {
     "data": {
      "text/html": [
       "<div>\n",
       "<style scoped>\n",
       "    .dataframe tbody tr th:only-of-type {\n",
       "        vertical-align: middle;\n",
       "    }\n",
       "\n",
       "    .dataframe tbody tr th {\n",
       "        vertical-align: top;\n",
       "    }\n",
       "\n",
       "    .dataframe thead th {\n",
       "        text-align: right;\n",
       "    }\n",
       "</style>\n",
       "<table border=\"1\" class=\"dataframe\">\n",
       "  <thead>\n",
       "    <tr style=\"text-align: right;\">\n",
       "      <th></th>\n",
       "      <th>dt</th>\n",
       "      <th>date</th>\n",
       "      <th>time</th>\n",
       "      <th>bitdepth</th>\n",
       "      <th>md</th>\n",
       "      <th>blockpos</th>\n",
       "      <th>rop</th>\n",
       "      <th>hklda</th>\n",
       "      <th>woba</th>\n",
       "      <th>torqa</th>\n",
       "      <th>rpm</th>\n",
       "      <th>stppress</th>\n",
       "      <th>mudflowin</th>\n",
       "      <th>LABEL_ConnectionActivity</th>\n",
       "      <th>LABEL_SubActivity</th>\n",
       "      <th>LABEL_Activity</th>\n",
       "      <th>LABEL_All</th>\n",
       "    </tr>\n",
       "  </thead>\n",
       "  <tbody>\n",
       "    <tr>\n",
       "      <th>0</th>\n",
       "      <td>2021-05-11 03:10:03</td>\n",
       "      <td>2021-05-11</td>\n",
       "      <td>03:10:03</td>\n",
       "      <td>0.0</td>\n",
       "      <td>343.85</td>\n",
       "      <td>9.65</td>\n",
       "      <td>0.0</td>\n",
       "      <td>29.75</td>\n",
       "      <td>0.0</td>\n",
       "      <td>0.0</td>\n",
       "      <td>0.0</td>\n",
       "      <td>0.0</td>\n",
       "      <td>0.0</td>\n",
       "      <td>NO DATA</td>\n",
       "      <td>WAIT ON CEMENT</td>\n",
       "      <td>WAIT ON CEMENT</td>\n",
       "      <td>NO DATA--WAIT ON CEMENT--WAIT ON CEMENT</td>\n",
       "    </tr>\n",
       "    <tr>\n",
       "      <th>1</th>\n",
       "      <td>2021-05-11 03:10:08</td>\n",
       "      <td>2021-05-11</td>\n",
       "      <td>03:10:08</td>\n",
       "      <td>0.0</td>\n",
       "      <td>343.85</td>\n",
       "      <td>9.65</td>\n",
       "      <td>0.0</td>\n",
       "      <td>29.75</td>\n",
       "      <td>0.0</td>\n",
       "      <td>0.0</td>\n",
       "      <td>0.0</td>\n",
       "      <td>0.0</td>\n",
       "      <td>0.0</td>\n",
       "      <td>NO DATA</td>\n",
       "      <td>WAIT ON CEMENT</td>\n",
       "      <td>WAIT ON CEMENT</td>\n",
       "      <td>NO DATA--WAIT ON CEMENT--WAIT ON CEMENT</td>\n",
       "    </tr>\n",
       "    <tr>\n",
       "      <th>2</th>\n",
       "      <td>2021-05-11 03:10:13</td>\n",
       "      <td>2021-05-11</td>\n",
       "      <td>03:10:13</td>\n",
       "      <td>0.0</td>\n",
       "      <td>343.85</td>\n",
       "      <td>9.65</td>\n",
       "      <td>0.0</td>\n",
       "      <td>29.75</td>\n",
       "      <td>0.0</td>\n",
       "      <td>0.0</td>\n",
       "      <td>0.0</td>\n",
       "      <td>0.0</td>\n",
       "      <td>0.0</td>\n",
       "      <td>NO DATA</td>\n",
       "      <td>WAIT ON CEMENT</td>\n",
       "      <td>WAIT ON CEMENT</td>\n",
       "      <td>NO DATA--WAIT ON CEMENT--WAIT ON CEMENT</td>\n",
       "    </tr>\n",
       "    <tr>\n",
       "      <th>3</th>\n",
       "      <td>2021-05-11 03:10:18</td>\n",
       "      <td>2021-05-11</td>\n",
       "      <td>03:10:18</td>\n",
       "      <td>0.0</td>\n",
       "      <td>343.85</td>\n",
       "      <td>9.65</td>\n",
       "      <td>0.0</td>\n",
       "      <td>29.75</td>\n",
       "      <td>0.0</td>\n",
       "      <td>0.0</td>\n",
       "      <td>0.0</td>\n",
       "      <td>0.0</td>\n",
       "      <td>0.0</td>\n",
       "      <td>NO DATA</td>\n",
       "      <td>WAIT ON CEMENT</td>\n",
       "      <td>WAIT ON CEMENT</td>\n",
       "      <td>NO DATA--WAIT ON CEMENT--WAIT ON CEMENT</td>\n",
       "    </tr>\n",
       "    <tr>\n",
       "      <th>4</th>\n",
       "      <td>2021-05-11 03:10:23</td>\n",
       "      <td>2021-05-11</td>\n",
       "      <td>03:10:23</td>\n",
       "      <td>0.0</td>\n",
       "      <td>343.85</td>\n",
       "      <td>9.65</td>\n",
       "      <td>0.0</td>\n",
       "      <td>29.75</td>\n",
       "      <td>0.0</td>\n",
       "      <td>0.0</td>\n",
       "      <td>0.0</td>\n",
       "      <td>0.0</td>\n",
       "      <td>0.0</td>\n",
       "      <td>NO DATA</td>\n",
       "      <td>WAIT ON CEMENT</td>\n",
       "      <td>WAIT ON CEMENT</td>\n",
       "      <td>NO DATA--WAIT ON CEMENT--WAIT ON CEMENT</td>\n",
       "    </tr>\n",
       "  </tbody>\n",
       "</table>\n",
       "</div>"
      ],
      "text/plain": [
       "                   dt        date      time  bitdepth      md  blockpos  rop  \\\n",
       "0 2021-05-11 03:10:03  2021-05-11  03:10:03       0.0  343.85      9.65  0.0   \n",
       "1 2021-05-11 03:10:08  2021-05-11  03:10:08       0.0  343.85      9.65  0.0   \n",
       "2 2021-05-11 03:10:13  2021-05-11  03:10:13       0.0  343.85      9.65  0.0   \n",
       "3 2021-05-11 03:10:18  2021-05-11  03:10:18       0.0  343.85      9.65  0.0   \n",
       "4 2021-05-11 03:10:23  2021-05-11  03:10:23       0.0  343.85      9.65  0.0   \n",
       "\n",
       "   hklda  woba  torqa  rpm  stppress  mudflowin LABEL_ConnectionActivity  \\\n",
       "0  29.75   0.0    0.0  0.0       0.0        0.0                  NO DATA   \n",
       "1  29.75   0.0    0.0  0.0       0.0        0.0                  NO DATA   \n",
       "2  29.75   0.0    0.0  0.0       0.0        0.0                  NO DATA   \n",
       "3  29.75   0.0    0.0  0.0       0.0        0.0                  NO DATA   \n",
       "4  29.75   0.0    0.0  0.0       0.0        0.0                  NO DATA   \n",
       "\n",
       "  LABEL_SubActivity  LABEL_Activity                                LABEL_All  \n",
       "0    WAIT ON CEMENT  WAIT ON CEMENT  NO DATA--WAIT ON CEMENT--WAIT ON CEMENT  \n",
       "1    WAIT ON CEMENT  WAIT ON CEMENT  NO DATA--WAIT ON CEMENT--WAIT ON CEMENT  \n",
       "2    WAIT ON CEMENT  WAIT ON CEMENT  NO DATA--WAIT ON CEMENT--WAIT ON CEMENT  \n",
       "3    WAIT ON CEMENT  WAIT ON CEMENT  NO DATA--WAIT ON CEMENT--WAIT ON CEMENT  \n",
       "4    WAIT ON CEMENT  WAIT ON CEMENT  NO DATA--WAIT ON CEMENT--WAIT ON CEMENT  "
      ]
     },
     "metadata": {},
     "output_type": "display_data"
    },
    {
     "data": {
      "text/html": [
       "<div>\n",
       "<style scoped>\n",
       "    .dataframe tbody tr th:only-of-type {\n",
       "        vertical-align: middle;\n",
       "    }\n",
       "\n",
       "    .dataframe tbody tr th {\n",
       "        vertical-align: top;\n",
       "    }\n",
       "\n",
       "    .dataframe thead th {\n",
       "        text-align: right;\n",
       "    }\n",
       "</style>\n",
       "<table border=\"1\" class=\"dataframe\">\n",
       "  <thead>\n",
       "    <tr style=\"text-align: right;\">\n",
       "      <th></th>\n",
       "      <th>dt</th>\n",
       "      <th>date</th>\n",
       "      <th>time</th>\n",
       "      <th>bitdepth</th>\n",
       "      <th>md</th>\n",
       "      <th>blockpos</th>\n",
       "      <th>rop</th>\n",
       "      <th>hklda</th>\n",
       "      <th>woba</th>\n",
       "      <th>torqa</th>\n",
       "      <th>rpm</th>\n",
       "      <th>stppress</th>\n",
       "      <th>mudflowin</th>\n",
       "      <th>LABEL_ConnectionActivity</th>\n",
       "      <th>LABEL_SubActivity</th>\n",
       "      <th>LABEL_Activity</th>\n",
       "      <th>LABEL_All</th>\n",
       "    </tr>\n",
       "  </thead>\n",
       "  <tbody>\n",
       "    <tr>\n",
       "      <th>35196</th>\n",
       "      <td>2021-05-13 05:24:01</td>\n",
       "      <td>2021-05-13</td>\n",
       "      <td>05:24:01</td>\n",
       "      <td>1084.25</td>\n",
       "      <td>1163.32</td>\n",
       "      <td>6.39</td>\n",
       "      <td>0.0</td>\n",
       "      <td>140.81</td>\n",
       "      <td>0.0</td>\n",
       "      <td>0.0</td>\n",
       "      <td>0.0</td>\n",
       "      <td>0.0</td>\n",
       "      <td>0.0</td>\n",
       "      <td>NO DATA</td>\n",
       "      <td>STATIONARY</td>\n",
       "      <td>STATIONARY</td>\n",
       "      <td>NO DATA--STATIONARY--STATIONARY</td>\n",
       "    </tr>\n",
       "    <tr>\n",
       "      <th>35197</th>\n",
       "      <td>2021-05-13 05:24:06</td>\n",
       "      <td>2021-05-13</td>\n",
       "      <td>05:24:06</td>\n",
       "      <td>1084.25</td>\n",
       "      <td>1163.32</td>\n",
       "      <td>6.39</td>\n",
       "      <td>0.0</td>\n",
       "      <td>140.81</td>\n",
       "      <td>0.0</td>\n",
       "      <td>0.0</td>\n",
       "      <td>0.0</td>\n",
       "      <td>0.0</td>\n",
       "      <td>0.0</td>\n",
       "      <td>NO DATA</td>\n",
       "      <td>STATIONARY</td>\n",
       "      <td>STATIONARY</td>\n",
       "      <td>NO DATA--STATIONARY--STATIONARY</td>\n",
       "    </tr>\n",
       "    <tr>\n",
       "      <th>35198</th>\n",
       "      <td>2021-05-13 05:24:11</td>\n",
       "      <td>2021-05-13</td>\n",
       "      <td>05:24:11</td>\n",
       "      <td>1084.25</td>\n",
       "      <td>1163.32</td>\n",
       "      <td>6.39</td>\n",
       "      <td>0.0</td>\n",
       "      <td>140.81</td>\n",
       "      <td>0.0</td>\n",
       "      <td>0.0</td>\n",
       "      <td>0.0</td>\n",
       "      <td>0.0</td>\n",
       "      <td>0.0</td>\n",
       "      <td>NO DATA</td>\n",
       "      <td>STATIONARY</td>\n",
       "      <td>STATIONARY</td>\n",
       "      <td>NO DATA--STATIONARY--STATIONARY</td>\n",
       "    </tr>\n",
       "    <tr>\n",
       "      <th>35199</th>\n",
       "      <td>2021-05-13 05:24:16</td>\n",
       "      <td>2021-05-13</td>\n",
       "      <td>05:24:16</td>\n",
       "      <td>1084.25</td>\n",
       "      <td>1163.32</td>\n",
       "      <td>6.39</td>\n",
       "      <td>0.0</td>\n",
       "      <td>140.88</td>\n",
       "      <td>0.0</td>\n",
       "      <td>0.0</td>\n",
       "      <td>0.0</td>\n",
       "      <td>0.0</td>\n",
       "      <td>0.0</td>\n",
       "      <td>NO DATA</td>\n",
       "      <td>STATIONARY</td>\n",
       "      <td>STATIONARY</td>\n",
       "      <td>NO DATA--STATIONARY--STATIONARY</td>\n",
       "    </tr>\n",
       "    <tr>\n",
       "      <th>35200</th>\n",
       "      <td>2021-05-13 05:24:21</td>\n",
       "      <td>2021-05-13</td>\n",
       "      <td>05:24:21</td>\n",
       "      <td>1084.25</td>\n",
       "      <td>1163.32</td>\n",
       "      <td>6.39</td>\n",
       "      <td>0.0</td>\n",
       "      <td>141.07</td>\n",
       "      <td>0.0</td>\n",
       "      <td>0.0</td>\n",
       "      <td>0.0</td>\n",
       "      <td>0.0</td>\n",
       "      <td>0.0</td>\n",
       "      <td>NO DATA</td>\n",
       "      <td>STATIONARY</td>\n",
       "      <td>STATIONARY</td>\n",
       "      <td>NO DATA--STATIONARY--STATIONARY</td>\n",
       "    </tr>\n",
       "  </tbody>\n",
       "</table>\n",
       "</div>"
      ],
      "text/plain": [
       "                       dt        date      time  bitdepth       md  blockpos  \\\n",
       "35196 2021-05-13 05:24:01  2021-05-13  05:24:01   1084.25  1163.32      6.39   \n",
       "35197 2021-05-13 05:24:06  2021-05-13  05:24:06   1084.25  1163.32      6.39   \n",
       "35198 2021-05-13 05:24:11  2021-05-13  05:24:11   1084.25  1163.32      6.39   \n",
       "35199 2021-05-13 05:24:16  2021-05-13  05:24:16   1084.25  1163.32      6.39   \n",
       "35200 2021-05-13 05:24:21  2021-05-13  05:24:21   1084.25  1163.32      6.39   \n",
       "\n",
       "       rop   hklda  woba  torqa  rpm  stppress  mudflowin  \\\n",
       "35196  0.0  140.81   0.0    0.0  0.0       0.0        0.0   \n",
       "35197  0.0  140.81   0.0    0.0  0.0       0.0        0.0   \n",
       "35198  0.0  140.81   0.0    0.0  0.0       0.0        0.0   \n",
       "35199  0.0  140.88   0.0    0.0  0.0       0.0        0.0   \n",
       "35200  0.0  141.07   0.0    0.0  0.0       0.0        0.0   \n",
       "\n",
       "      LABEL_ConnectionActivity LABEL_SubActivity LABEL_Activity  \\\n",
       "35196                  NO DATA        STATIONARY     STATIONARY   \n",
       "35197                  NO DATA        STATIONARY     STATIONARY   \n",
       "35198                  NO DATA        STATIONARY     STATIONARY   \n",
       "35199                  NO DATA        STATIONARY     STATIONARY   \n",
       "35200                  NO DATA        STATIONARY     STATIONARY   \n",
       "\n",
       "                             LABEL_All  \n",
       "35196  NO DATA--STATIONARY--STATIONARY  \n",
       "35197  NO DATA--STATIONARY--STATIONARY  \n",
       "35198  NO DATA--STATIONARY--STATIONARY  \n",
       "35199  NO DATA--STATIONARY--STATIONARY  \n",
       "35200  NO DATA--STATIONARY--STATIONARY  "
      ]
     },
     "metadata": {},
     "output_type": "display_data"
    }
   ],
   "source": [
    "RealTime_DB[\"LABEL_All\"] =RealTime_DB['LABEL_ConnectionActivity'].astype(str) + '--' +RealTime_DB['LABEL_SubActivity']+'--'+RealTime_DB['LABEL_Activity']\n",
    "\n",
    "display_DF(RealTime_DB.head(5))\n",
    "display_DF(RealTime_DB.tail(5))"
   ]
  },
  {
   "cell_type": "code",
   "execution_count": 34,
   "metadata": {},
   "outputs": [
    {
     "name": "stdout",
     "output_type": "stream",
     "text": [
      "1\n",
      "2\n",
      "3\n",
      "4\n",
      "5\n",
      "6\n",
      "7\n",
      "8\n",
      "9\n",
      "10\n",
      "11\n",
      "12\n",
      "13\n",
      "14\n",
      "15\n",
      "16\n",
      "17\n",
      "18\n",
      "19\n",
      "20\n",
      "21\n",
      "22\n",
      "23\n",
      "24\n",
      "25\n",
      "26\n",
      "27\n",
      "28\n",
      "29\n",
      "30\n",
      "31\n",
      "32\n",
      "33\n",
      "34\n",
      "35\n",
      "36\n",
      "37\n",
      "38\n",
      "39\n",
      "40\n",
      "41\n",
      "42\n",
      "43\n",
      "44\n",
      "45\n",
      "46\n",
      "47\n",
      "48\n",
      "49\n",
      "50\n",
      "51\n",
      "52\n",
      "53\n",
      "54\n",
      "55\n",
      "56\n",
      "57\n",
      "58\n",
      "59\n",
      "60\n",
      "61\n",
      "62\n",
      "63\n",
      "64\n",
      "65\n",
      "66\n",
      "67\n",
      "68\n",
      "69\n",
      "70\n",
      "71\n",
      "72\n",
      "73\n",
      "74\n",
      "75\n",
      "76\n",
      "77\n",
      "78\n",
      "79\n",
      "80\n",
      "81\n",
      "82\n",
      "83\n",
      "84\n",
      "85\n",
      "86\n",
      "87\n",
      "88\n",
      "89\n",
      "90\n",
      "91\n",
      "92\n",
      "93\n",
      "94\n",
      "95\n",
      "96\n",
      "97\n",
      "98\n",
      "99\n",
      "100\n",
      "101\n",
      "102\n",
      "103\n",
      "104\n",
      "105\n",
      "106\n",
      "107\n",
      "108\n",
      "109\n",
      "110\n",
      "111\n",
      "112\n",
      "113\n",
      "114\n",
      "115\n",
      "116\n",
      "117\n",
      "118\n",
      "119\n",
      "120\n",
      "121\n",
      "122\n",
      "123\n",
      "124\n",
      "125\n",
      "126\n",
      "127\n"
     ]
    },
    {
     "data": {
      "text/html": [
       "<div>\n",
       "<style scoped>\n",
       "    .dataframe tbody tr th:only-of-type {\n",
       "        vertical-align: middle;\n",
       "    }\n",
       "\n",
       "    .dataframe tbody tr th {\n",
       "        vertical-align: top;\n",
       "    }\n",
       "\n",
       "    .dataframe thead th {\n",
       "        text-align: right;\n",
       "    }\n",
       "</style>\n",
       "<table border=\"1\" class=\"dataframe\">\n",
       "  <thead>\n",
       "    <tr style=\"text-align: right;\">\n",
       "      <th></th>\n",
       "      <th>date</th>\n",
       "      <th>Time_start</th>\n",
       "      <th>Time_end</th>\n",
       "      <th>date_time</th>\n",
       "      <th>Duration(minutes)</th>\n",
       "      <th>Hole Depth(max)</th>\n",
       "      <th>Bit Depth(mean)</th>\n",
       "      <th>Meterage(m)(Drilling)</th>\n",
       "      <th>RotateDrilling</th>\n",
       "      <th>Slide Drilling</th>\n",
       "      <th>ReamingTime</th>\n",
       "      <th>ConnectionTime</th>\n",
       "      <th>On Bottom Hours</th>\n",
       "      <th>Stand Duration</th>\n",
       "      <th>LABEL_ConnectionActivity</th>\n",
       "      <th>LABEL_SubActivity</th>\n",
       "      <th>LABEL_Activity</th>\n",
       "    </tr>\n",
       "  </thead>\n",
       "  <tbody>\n",
       "    <tr>\n",
       "      <th>0</th>\n",
       "      <td>2021-05-11</td>\n",
       "      <td>03:10:03</td>\n",
       "      <td>09:30:00</td>\n",
       "      <td>2021-05-11 03:10:03</td>\n",
       "      <td>379.95</td>\n",
       "      <td>343.85</td>\n",
       "      <td>0.000000</td>\n",
       "      <td></td>\n",
       "      <td></td>\n",
       "      <td></td>\n",
       "      <td></td>\n",
       "      <td></td>\n",
       "      <td></td>\n",
       "      <td></td>\n",
       "      <td>NO DATA</td>\n",
       "      <td>WAIT ON CEMENT</td>\n",
       "      <td>WAIT ON CEMENT</td>\n",
       "    </tr>\n",
       "    <tr>\n",
       "      <th>1</th>\n",
       "      <td>2021-05-11</td>\n",
       "      <td>09:30:05</td>\n",
       "      <td>16:10:00</td>\n",
       "      <td>2021-05-11 09:30:05</td>\n",
       "      <td>399.92</td>\n",
       "      <td>343.85</td>\n",
       "      <td>0.405436</td>\n",
       "      <td></td>\n",
       "      <td></td>\n",
       "      <td></td>\n",
       "      <td></td>\n",
       "      <td></td>\n",
       "      <td></td>\n",
       "      <td></td>\n",
       "      <td>NO DATA</td>\n",
       "      <td>OTHER</td>\n",
       "      <td>OTHER</td>\n",
       "    </tr>\n",
       "    <tr>\n",
       "      <th>2</th>\n",
       "      <td>2021-05-11</td>\n",
       "      <td>16:10:05</td>\n",
       "      <td>18:20:57</td>\n",
       "      <td>2021-05-11 16:10:05</td>\n",
       "      <td>130.87</td>\n",
       "      <td>343.85</td>\n",
       "      <td>16.891414</td>\n",
       "      <td></td>\n",
       "      <td></td>\n",
       "      <td></td>\n",
       "      <td></td>\n",
       "      <td></td>\n",
       "      <td></td>\n",
       "      <td></td>\n",
       "      <td>NO DATA</td>\n",
       "      <td>MAKE UP BHA</td>\n",
       "      <td>MAKE UP BHA</td>\n",
       "    </tr>\n",
       "    <tr>\n",
       "      <th>3</th>\n",
       "      <td>2021-05-11</td>\n",
       "      <td>18:21:02</td>\n",
       "      <td>18:26:07</td>\n",
       "      <td>2021-05-11 18:21:02</td>\n",
       "      <td>5.08</td>\n",
       "      <td>343.85</td>\n",
       "      <td>33.460645</td>\n",
       "      <td></td>\n",
       "      <td></td>\n",
       "      <td></td>\n",
       "      <td></td>\n",
       "      <td></td>\n",
       "      <td></td>\n",
       "      <td></td>\n",
       "      <td>NO DATA</td>\n",
       "      <td>MOVING</td>\n",
       "      <td>TRIP IN</td>\n",
       "    </tr>\n",
       "    <tr>\n",
       "      <th>4</th>\n",
       "      <td>2021-05-11</td>\n",
       "      <td>18:26:12</td>\n",
       "      <td>18:51:52</td>\n",
       "      <td>2021-05-11 18:26:12</td>\n",
       "      <td>25.67</td>\n",
       "      <td>343.85</td>\n",
       "      <td>41.699676</td>\n",
       "      <td></td>\n",
       "      <td></td>\n",
       "      <td></td>\n",
       "      <td></td>\n",
       "      <td></td>\n",
       "      <td></td>\n",
       "      <td></td>\n",
       "      <td>NO DATA</td>\n",
       "      <td>CONNECTION</td>\n",
       "      <td>TRIP IN</td>\n",
       "    </tr>\n",
       "    <tr>\n",
       "      <th>...</th>\n",
       "      <td>...</td>\n",
       "      <td>...</td>\n",
       "      <td>...</td>\n",
       "      <td>...</td>\n",
       "      <td>...</td>\n",
       "      <td>...</td>\n",
       "      <td>...</td>\n",
       "      <td>...</td>\n",
       "      <td>...</td>\n",
       "      <td>...</td>\n",
       "      <td>...</td>\n",
       "      <td>...</td>\n",
       "      <td>...</td>\n",
       "      <td>...</td>\n",
       "      <td>...</td>\n",
       "      <td>...</td>\n",
       "      <td>...</td>\n",
       "    </tr>\n",
       "    <tr>\n",
       "      <th>122</th>\n",
       "      <td>2021-05-13</td>\n",
       "      <td>04:28:31</td>\n",
       "      <td>04:33:36</td>\n",
       "      <td>2021-05-13 04:28:31</td>\n",
       "      <td>5.08</td>\n",
       "      <td>1163.32</td>\n",
       "      <td>1131.346935</td>\n",
       "      <td></td>\n",
       "      <td></td>\n",
       "      <td></td>\n",
       "      <td></td>\n",
       "      <td></td>\n",
       "      <td></td>\n",
       "      <td></td>\n",
       "      <td>NO DATA</td>\n",
       "      <td>MOVING</td>\n",
       "      <td>TRIP OUT</td>\n",
       "    </tr>\n",
       "    <tr>\n",
       "      <th>123</th>\n",
       "      <td>2021-05-13</td>\n",
       "      <td>04:33:41</td>\n",
       "      <td>04:43:41</td>\n",
       "      <td>2021-05-13 04:33:41</td>\n",
       "      <td>10.00</td>\n",
       "      <td>1163.32</td>\n",
       "      <td>1116.291736</td>\n",
       "      <td></td>\n",
       "      <td></td>\n",
       "      <td></td>\n",
       "      <td></td>\n",
       "      <td></td>\n",
       "      <td></td>\n",
       "      <td></td>\n",
       "      <td>NO DATA</td>\n",
       "      <td>CONNECTION</td>\n",
       "      <td>TRIP OUT</td>\n",
       "    </tr>\n",
       "    <tr>\n",
       "      <th>124</th>\n",
       "      <td>2021-05-13</td>\n",
       "      <td>04:43:46</td>\n",
       "      <td>04:55:51</td>\n",
       "      <td>2021-05-13 04:43:46</td>\n",
       "      <td>12.08</td>\n",
       "      <td>1163.32</td>\n",
       "      <td>1100.023836</td>\n",
       "      <td></td>\n",
       "      <td></td>\n",
       "      <td></td>\n",
       "      <td></td>\n",
       "      <td></td>\n",
       "      <td></td>\n",
       "      <td></td>\n",
       "      <td>NO DATA</td>\n",
       "      <td>MOVING</td>\n",
       "      <td>TRIP OUT</td>\n",
       "    </tr>\n",
       "    <tr>\n",
       "      <th>125</th>\n",
       "      <td>2021-05-13</td>\n",
       "      <td>04:55:56</td>\n",
       "      <td>05:03:31</td>\n",
       "      <td>2021-05-13 04:55:56</td>\n",
       "      <td>7.58</td>\n",
       "      <td>1163.32</td>\n",
       "      <td>1088.289130</td>\n",
       "      <td></td>\n",
       "      <td></td>\n",
       "      <td></td>\n",
       "      <td></td>\n",
       "      <td></td>\n",
       "      <td></td>\n",
       "      <td></td>\n",
       "      <td>NO DATA</td>\n",
       "      <td>CONNECTION</td>\n",
       "      <td>TRIP OUT</td>\n",
       "    </tr>\n",
       "    <tr>\n",
       "      <th>126</th>\n",
       "      <td>2021-05-13</td>\n",
       "      <td>05:03:36</td>\n",
       "      <td>05:24:21</td>\n",
       "      <td>2021-05-13 05:03:36</td>\n",
       "      <td>20.75</td>\n",
       "      <td>1163.32</td>\n",
       "      <td>1085.171600</td>\n",
       "      <td></td>\n",
       "      <td></td>\n",
       "      <td></td>\n",
       "      <td></td>\n",
       "      <td></td>\n",
       "      <td></td>\n",
       "      <td></td>\n",
       "      <td>NO DATA</td>\n",
       "      <td>STATIONARY</td>\n",
       "      <td>STATIONARY</td>\n",
       "    </tr>\n",
       "  </tbody>\n",
       "</table>\n",
       "<p>127 rows × 17 columns</p>\n",
       "</div>"
      ],
      "text/plain": [
       "           date Time_start  Time_end           date_time  Duration(minutes)  \\\n",
       "0    2021-05-11   03:10:03  09:30:00 2021-05-11 03:10:03             379.95   \n",
       "1    2021-05-11   09:30:05  16:10:00 2021-05-11 09:30:05             399.92   \n",
       "2    2021-05-11   16:10:05  18:20:57 2021-05-11 16:10:05             130.87   \n",
       "3    2021-05-11   18:21:02  18:26:07 2021-05-11 18:21:02               5.08   \n",
       "4    2021-05-11   18:26:12  18:51:52 2021-05-11 18:26:12              25.67   \n",
       "..          ...        ...       ...                 ...                ...   \n",
       "122  2021-05-13   04:28:31  04:33:36 2021-05-13 04:28:31               5.08   \n",
       "123  2021-05-13   04:33:41  04:43:41 2021-05-13 04:33:41              10.00   \n",
       "124  2021-05-13   04:43:46  04:55:51 2021-05-13 04:43:46              12.08   \n",
       "125  2021-05-13   04:55:56  05:03:31 2021-05-13 04:55:56               7.58   \n",
       "126  2021-05-13   05:03:36  05:24:21 2021-05-13 05:03:36              20.75   \n",
       "\n",
       "     Hole Depth(max)  Bit Depth(mean) Meterage(m)(Drilling) RotateDrilling  \\\n",
       "0             343.85         0.000000                                        \n",
       "1             343.85         0.405436                                        \n",
       "2             343.85        16.891414                                        \n",
       "3             343.85        33.460645                                        \n",
       "4             343.85        41.699676                                        \n",
       "..               ...              ...                   ...            ...   \n",
       "122          1163.32      1131.346935                                        \n",
       "123          1163.32      1116.291736                                        \n",
       "124          1163.32      1100.023836                                        \n",
       "125          1163.32      1088.289130                                        \n",
       "126          1163.32      1085.171600                                        \n",
       "\n",
       "    Slide Drilling ReamingTime ConnectionTime On Bottom Hours Stand Duration  \\\n",
       "0                                                                              \n",
       "1                                                                              \n",
       "2                                                                              \n",
       "3                                                                              \n",
       "4                                                                              \n",
       "..             ...         ...            ...             ...            ...   \n",
       "122                                                                            \n",
       "123                                                                            \n",
       "124                                                                            \n",
       "125                                                                            \n",
       "126                                                                            \n",
       "\n",
       "    LABEL_ConnectionActivity LABEL_SubActivity  LABEL_Activity  \n",
       "0                    NO DATA    WAIT ON CEMENT  WAIT ON CEMENT  \n",
       "1                    NO DATA             OTHER           OTHER  \n",
       "2                    NO DATA       MAKE UP BHA     MAKE UP BHA  \n",
       "3                    NO DATA            MOVING         TRIP IN  \n",
       "4                    NO DATA        CONNECTION         TRIP IN  \n",
       "..                       ...               ...             ...  \n",
       "122                  NO DATA            MOVING        TRIP OUT  \n",
       "123                  NO DATA        CONNECTION        TRIP OUT  \n",
       "124                  NO DATA            MOVING        TRIP OUT  \n",
       "125                  NO DATA        CONNECTION        TRIP OUT  \n",
       "126                  NO DATA        STATIONARY      STATIONARY  \n",
       "\n",
       "[127 rows x 17 columns]"
      ]
     },
     "execution_count": 34,
     "metadata": {},
     "output_type": "execute_result"
    }
   ],
   "source": [
    "Duration_DB = pd.DataFrame(\n",
    "    columns=[\n",
    "        'date',\n",
    "        'Time_start',\n",
    "        'Time_end',\n",
    "        'date_time',\n",
    "        'Duration(minutes)',\n",
    "        'Hole Depth(max)',\n",
    "        'Bit Depth(mean)',\n",
    "        \"Meterage(m)(Drilling)\",\n",
    "        'RotateDrilling',\n",
    "        'Slide Drilling',\n",
    "        'ReamingTime',\n",
    "        'ConnectionTime',\n",
    "        'On Bottom Hours',\n",
    "        'Stand Duration',\n",
    "        \"LABEL_ConnectionActivity\", 'LABEL_SubActivity', \"LABEL_Activity\"\n",
    "        ]\n",
    "    )\n",
    "\n",
    "for k,DF_Temp in RealTime_DB.groupby((RealTime_DB['LABEL_All'].shift() != RealTime_DB['LABEL_All']).cumsum()):\n",
    "\n",
    "    if not((\"Hole_Depth\" in locals()) or (\"Hole_Depth\" in globals())):\n",
    "        Hole_Depth = 0\n",
    "\n",
    "    list_temp = []\n",
    "\n",
    "    date = DF_Temp.head(1)['date'].values[0]\n",
    "    Time_start = DF_Temp.head(1)['time'].values[0]\n",
    "    Time_end = DF_Temp.tail(1)['time'].values[0]\n",
    "    date_time = DF_Temp.head(1)['dt'].values[0]\n",
    "    LABEL_ConnectionActivity = DF_Temp.head(1)['LABEL_ConnectionActivity'].values[0]\n",
    "    LABEL_SubActivity = DF_Temp.head(1)['LABEL_SubActivity'].values[0]\n",
    "    LABEL_Activity = DF_Temp.head(1)['LABEL_Activity'].values[0]\n",
    "\n",
    "    Duration = round(((DF_Temp['dt'].max()-DF_Temp['dt'].min()).total_seconds())/60,2)\n",
    "    Hole_Depth_Temp = DF_Temp['md'].max()\n",
    "\n",
    "    if Hole_Depth_Temp>= Hole_Depth:\n",
    "        Hole_Depth = Hole_Depth_Temp\n",
    "    \n",
    "    # Bit_Depth = DF_Temp['md'].max()\n",
    "    Bit_Depth = DF_Temp['bitdepth'].mean()\n",
    "    # date = DF_Temp.head(1)['t'].values\n",
    "    list_Out = [date, Time_start,Time_end, date_time, Duration, Hole_Depth, Bit_Depth, \"\", \"\", \"\", \"\", \"\", \"\", \"\",LABEL_ConnectionActivity, LABEL_SubActivity, LABEL_Activity]\n",
    "    Duration_DB.loc[len(Duration_DB)] = list_Out\n",
    "    \n",
    "    # if k >20:\n",
    "    #     break\n",
    "Duration_DB"
   ]
  },
  {
   "cell_type": "code",
   "execution_count": 11,
   "metadata": {},
   "outputs": [
    {
     "data": {
      "text/plain": [
       "0       2021-05-11 03:10:03\n",
       "1       2021-05-11 03:10:08\n",
       "2       2021-05-11 03:10:13\n",
       "3       2021-05-11 03:10:18\n",
       "4       2021-05-11 03:10:23\n",
       "                ...        \n",
       "35196   2021-05-13 05:24:01\n",
       "35197   2021-05-13 05:24:06\n",
       "35198   2021-05-13 05:24:11\n",
       "35199   2021-05-13 05:24:16\n",
       "35200   2021-05-13 05:24:21\n",
       "Name: dt, Length: 35201, dtype: datetime64[ns]"
      ]
     },
     "execution_count": 11,
     "metadata": {},
     "output_type": "execute_result"
    }
   ],
   "source": []
  },
  {
   "cell_type": "markdown",
   "metadata": {},
   "source": [
    "## Test Function"
   ]
  },
  {
   "cell_type": "code",
   "execution_count": 37,
   "metadata": {},
   "outputs": [],
   "source": [
    "\n",
    "def GenerateDuration_DF(RealTime_DB):\n",
    "    RealTime_DB['dt'] = pd.to_datetime(RealTime_DB['dt'])\n",
    "    RealTime_DB[\"LABEL_All\"] =RealTime_DB['LABEL_ConnectionActivity'].astype(str) + '--' +RealTime_DB['LABEL_SubActivity']+'--'+RealTime_DB['LABEL_Activity']\n",
    "\n",
    "    Duration_DB = pd.DataFrame(\n",
    "        columns=[\n",
    "            'date',\n",
    "            'Time_start',\n",
    "            'Time_end',\n",
    "            'date_time',\n",
    "            'Duration(minutes)',\n",
    "            'Hole Depth(max)',\n",
    "            'Bit Depth(mean)',\n",
    "            \"Meterage(m)(Drilling)\",\n",
    "            'RotateDrilling',\n",
    "            'Slide Drilling',\n",
    "            'ReamingTime',\n",
    "            'ConnectionTime',\n",
    "            'On Bottom Hours',\n",
    "            'Stand Duration',\n",
    "            \"LABEL_ConnectionActivity\", 'LABEL_SubActivity', \"LABEL_Activity\"\n",
    "            ]\n",
    "        )\n",
    "\n",
    "    for k,DF_Temp in RealTime_DB.groupby((RealTime_DB['LABEL_All'].shift() != RealTime_DB['LABEL_All']).cumsum()):\n",
    "\n",
    "        if ((\"Hole_Depth\" in locals()) or (\"Hole_Depth\" in globals())):\n",
    "            Hole_Depth = 0\n",
    "\n",
    "        list_temp = []\n",
    "\n",
    "        date = DF_Temp.head(1)['date'].values[0]\n",
    "        Time_start = DF_Temp.head(1)['time'].values[0]\n",
    "        Time_end = DF_Temp.tail(1)['time'].values[0]\n",
    "        date_time = DF_Temp.head(1)['dt'].values[0]\n",
    "        LABEL_ConnectionActivity = DF_Temp.head(1)['LABEL_ConnectionActivity'].values[0]\n",
    "        LABEL_SubActivity = DF_Temp.head(1)['LABEL_SubActivity'].values[0]\n",
    "        LABEL_Activity = DF_Temp.head(1)['LABEL_Activity'].values[0]\n",
    "\n",
    "        Duration = round(((DF_Temp['dt'].max()-DF_Temp['dt'].min()).total_seconds())/60,2)\n",
    "        Hole_Depth_Temp = DF_Temp['md'].max()\n",
    "\n",
    "        if Hole_Depth_Temp>= Hole_Depth:\n",
    "            Hole_Depth = Hole_Depth_Temp\n",
    "        \n",
    "\n",
    "        Bit_Depth = DF_Temp['bitdepth'].mean()\n",
    "\n",
    "        list_Out = [date, Time_start,Time_end, date_time, Duration, Hole_Depth, Bit_Depth, \"\", \"\", \"\", \"\", \"\", \"\", \"\",LABEL_ConnectionActivity, LABEL_SubActivity, LABEL_Activity]\n",
    "        Duration_DB.loc[len(Duration_DB)] = list_Out\n",
    "\n",
    "        \n",
    "    # SubActivityOutput.loc[SubActivityOutput['SubActivity'] == 'Rotary Drilling', 'RotateDrilling'] = SubActivityOutput.loc[SubActivityOutput['SubActivity'] == 'Rotary Drilling', 'Duration']\n",
    "    # SubActivityOutput.loc[SubActivityOutput['SubActivity'] == 'Slide Drilling', 'Slide Drilling'] = SubActivityOutput.loc[SubActivityOutput['SubActivity'] == 'Slide Drilling', 'Duration']\n",
    "    # SubActivityOutput.loc[SubActivityOutput['SubActivity'] == 'Reaming', 'ReamingTime'] = SubActivityOutput.loc[SubActivityOutput['SubActivity'] == 'Reaming', 'Duration']\n",
    "    # SubActivityOutput.loc[SubActivityOutput['SubActivity'] == 'Connection', 'ConnectionTime'] = SubActivityOutput.loc[SubActivityOutput['SubActivity'] == 'Connection', 'Duration']\n",
    "    return Duration_DB\n"
   ]
  },
  {
   "cell_type": "code",
   "execution_count": 38,
   "metadata": {},
   "outputs": [],
   "source": [
    "fileRealtime = \"RealTime_Test\\\\AAE-03_RealtimeSimulation.csv\"\n",
    "\n",
    "RealTime_DBx = pd.read_csv(fileRealtime)\n",
    "Out = GenerateDuration_DF(RealTime_DBx)\n"
   ]
  },
  {
   "cell_type": "code",
   "execution_count": null,
   "metadata": {},
   "outputs": [],
   "source": []
  },
  {
   "cell_type": "markdown",
   "metadata": {},
   "source": [
    "# New Function"
   ]
  },
  {
   "cell_type": "code",
   "execution_count": 24,
   "metadata": {},
   "outputs": [],
   "source": [
    "import numpy as np \n",
    "# import matplotlib.pyplot as plt \n",
    "import pandas as pd \n",
    "pd.set_option(\"display.max_rows\", 100)"
   ]
  },
  {
   "cell_type": "code",
   "execution_count": 25,
   "metadata": {},
   "outputs": [
    {
     "data": {
      "text/html": [
       "<div>\n",
       "<style scoped>\n",
       "    .dataframe tbody tr th:only-of-type {\n",
       "        vertical-align: middle;\n",
       "    }\n",
       "\n",
       "    .dataframe tbody tr th {\n",
       "        vertical-align: top;\n",
       "    }\n",
       "\n",
       "    .dataframe thead th {\n",
       "        text-align: right;\n",
       "    }\n",
       "</style>\n",
       "<table border=\"1\" class=\"dataframe\">\n",
       "  <thead>\n",
       "    <tr style=\"text-align: right;\">\n",
       "      <th></th>\n",
       "      <th>Date</th>\n",
       "      <th>Time</th>\n",
       "      <th>Date/Time</th>\n",
       "      <th>Duration</th>\n",
       "      <th>Hole Depth</th>\n",
       "      <th>Bit Depth</th>\n",
       "      <th>Meterage (m) (Drilling)</th>\n",
       "      <th>Rotate Drilling Time (hrs)</th>\n",
       "      <th>Slide Drilling Time (hrs)</th>\n",
       "      <th>Reaming Time (hrs)</th>\n",
       "      <th>Connection Time (hrs)</th>\n",
       "      <th>On Bottom Hours</th>\n",
       "      <th>Stand Duration (hrs)</th>\n",
       "      <th>Stand Group</th>\n",
       "      <th>Connection Activity</th>\n",
       "      <th>Sub Activity</th>\n",
       "      <th>Activity</th>\n",
       "    </tr>\n",
       "  </thead>\n",
       "  <tbody>\n",
       "    <tr>\n",
       "      <th>0</th>\n",
       "      <td>44614</td>\n",
       "      <td>0.291678</td>\n",
       "      <td>44614.291678</td>\n",
       "      <td>8.333333e-01</td>\n",
       "      <td>1109.33</td>\n",
       "      <td>1109.33</td>\n",
       "      <td></td>\n",
       "      <td></td>\n",
       "      <td></td>\n",
       "      <td>0.000579</td>\n",
       "      <td></td>\n",
       "      <td>NaN</td>\n",
       "      <td>NaN</td>\n",
       "      <td>NaN</td>\n",
       "      <td>NaN</td>\n",
       "      <td>Reaming</td>\n",
       "      <td>Drilling Formation</td>\n",
       "    </tr>\n",
       "    <tr>\n",
       "      <th>1</th>\n",
       "      <td>44614</td>\n",
       "      <td>0.292257</td>\n",
       "      <td>44614.292257</td>\n",
       "      <td>2.416667e+01</td>\n",
       "      <td>1124.00</td>\n",
       "      <td>1124.00</td>\n",
       "      <td>14.67</td>\n",
       "      <td>0.016782</td>\n",
       "      <td></td>\n",
       "      <td></td>\n",
       "      <td></td>\n",
       "      <td>NaN</td>\n",
       "      <td>NaN</td>\n",
       "      <td>NaN</td>\n",
       "      <td>NaN</td>\n",
       "      <td>Rotary Drilling</td>\n",
       "      <td>Drilling Formation</td>\n",
       "    </tr>\n",
       "    <tr>\n",
       "      <th>2</th>\n",
       "      <td>44614</td>\n",
       "      <td>0.309039</td>\n",
       "      <td>44614.309039</td>\n",
       "      <td>1.575000e+01</td>\n",
       "      <td>1124.01</td>\n",
       "      <td>1124.01</td>\n",
       "      <td></td>\n",
       "      <td></td>\n",
       "      <td></td>\n",
       "      <td>0.010938</td>\n",
       "      <td></td>\n",
       "      <td>NaN</td>\n",
       "      <td>NaN</td>\n",
       "      <td>NaN</td>\n",
       "      <td>NaN</td>\n",
       "      <td>Reaming</td>\n",
       "      <td>Drilling Formation</td>\n",
       "    </tr>\n",
       "    <tr>\n",
       "      <th>3</th>\n",
       "      <td>44614</td>\n",
       "      <td>0.319977</td>\n",
       "      <td>44614.319977</td>\n",
       "      <td>4.710000e+01</td>\n",
       "      <td>1132.00</td>\n",
       "      <td>1131.64</td>\n",
       "      <td>7.99</td>\n",
       "      <td>0.032708</td>\n",
       "      <td></td>\n",
       "      <td></td>\n",
       "      <td></td>\n",
       "      <td>NaN</td>\n",
       "      <td>NaN</td>\n",
       "      <td>NaN</td>\n",
       "      <td>NaN</td>\n",
       "      <td>Rotary Drilling</td>\n",
       "      <td>Drilling Formation</td>\n",
       "    </tr>\n",
       "    <tr>\n",
       "      <th>4</th>\n",
       "      <td>44614</td>\n",
       "      <td>0.352685</td>\n",
       "      <td>44614.352685</td>\n",
       "      <td>5.085000e+01</td>\n",
       "      <td>1132.01</td>\n",
       "      <td>1108.53</td>\n",
       "      <td></td>\n",
       "      <td></td>\n",
       "      <td></td>\n",
       "      <td>0.035312</td>\n",
       "      <td></td>\n",
       "      <td>NaN</td>\n",
       "      <td>NaN</td>\n",
       "      <td>NaN</td>\n",
       "      <td>NaN</td>\n",
       "      <td>Reaming</td>\n",
       "      <td>Drilling Formation</td>\n",
       "    </tr>\n",
       "    <tr>\n",
       "      <th>5</th>\n",
       "      <td>44614</td>\n",
       "      <td>0.387998</td>\n",
       "      <td>44614.387998</td>\n",
       "      <td>5.166667e+00</td>\n",
       "      <td>1132.01</td>\n",
       "      <td>1108.67</td>\n",
       "      <td></td>\n",
       "      <td></td>\n",
       "      <td></td>\n",
       "      <td></td>\n",
       "      <td>0.003588</td>\n",
       "      <td>NaN</td>\n",
       "      <td>NaN</td>\n",
       "      <td>NaN</td>\n",
       "      <td>NaN</td>\n",
       "      <td>Connection</td>\n",
       "      <td>Drilling Formation</td>\n",
       "    </tr>\n",
       "    <tr>\n",
       "      <th>6</th>\n",
       "      <td>44614</td>\n",
       "      <td>0.391586</td>\n",
       "      <td>44614.391586</td>\n",
       "      <td>5.128333e+01</td>\n",
       "      <td>1132.01</td>\n",
       "      <td>1108.91</td>\n",
       "      <td></td>\n",
       "      <td></td>\n",
       "      <td></td>\n",
       "      <td></td>\n",
       "      <td></td>\n",
       "      <td>NaN</td>\n",
       "      <td>NaN</td>\n",
       "      <td>NaN</td>\n",
       "      <td>NaN</td>\n",
       "      <td>Stationary</td>\n",
       "      <td>Drilling Formation</td>\n",
       "    </tr>\n",
       "    <tr>\n",
       "      <th>7</th>\n",
       "      <td>44614</td>\n",
       "      <td>0.427199</td>\n",
       "      <td>44614.427199</td>\n",
       "      <td>6.368333e+01</td>\n",
       "      <td>1132.01</td>\n",
       "      <td>1108.91</td>\n",
       "      <td></td>\n",
       "      <td></td>\n",
       "      <td></td>\n",
       "      <td></td>\n",
       "      <td>0.044225</td>\n",
       "      <td>NaN</td>\n",
       "      <td>NaN</td>\n",
       "      <td>NaN</td>\n",
       "      <td>NaN</td>\n",
       "      <td>Connection</td>\n",
       "      <td>Drilling Formation</td>\n",
       "    </tr>\n",
       "    <tr>\n",
       "      <th>8</th>\n",
       "      <td>44614</td>\n",
       "      <td>0.471424</td>\n",
       "      <td>44614.471424</td>\n",
       "      <td>5.083333e+00</td>\n",
       "      <td>1132.43</td>\n",
       "      <td>1132.43</td>\n",
       "      <td></td>\n",
       "      <td></td>\n",
       "      <td></td>\n",
       "      <td>0.00353</td>\n",
       "      <td></td>\n",
       "      <td>NaN</td>\n",
       "      <td>NaN</td>\n",
       "      <td>1.0</td>\n",
       "      <td>NaN</td>\n",
       "      <td>Reaming</td>\n",
       "      <td>Drilling Formation</td>\n",
       "    </tr>\n",
       "    <tr>\n",
       "      <th>9</th>\n",
       "      <td>44614</td>\n",
       "      <td>0.474954</td>\n",
       "      <td>44614.474954</td>\n",
       "      <td>4.923333e+01</td>\n",
       "      <td>1138.42</td>\n",
       "      <td>1138.28</td>\n",
       "      <td>5.99</td>\n",
       "      <td>0.03419</td>\n",
       "      <td></td>\n",
       "      <td></td>\n",
       "      <td></td>\n",
       "      <td>NaN</td>\n",
       "      <td>NaN</td>\n",
       "      <td>1.0</td>\n",
       "      <td>NaN</td>\n",
       "      <td>Rotary Drilling</td>\n",
       "      <td>Drilling Formation</td>\n",
       "    </tr>\n",
       "    <tr>\n",
       "      <th>10</th>\n",
       "      <td>44614</td>\n",
       "      <td>0.509144</td>\n",
       "      <td>44614.509144</td>\n",
       "      <td>1.175000e+01</td>\n",
       "      <td>1138.42</td>\n",
       "      <td>1138.35</td>\n",
       "      <td></td>\n",
       "      <td></td>\n",
       "      <td></td>\n",
       "      <td>0.00816</td>\n",
       "      <td></td>\n",
       "      <td>NaN</td>\n",
       "      <td>NaN</td>\n",
       "      <td>1.0</td>\n",
       "      <td>Pre Connection</td>\n",
       "      <td>Reaming</td>\n",
       "      <td>Drilling Formation</td>\n",
       "    </tr>\n",
       "    <tr>\n",
       "      <th>11</th>\n",
       "      <td>44614</td>\n",
       "      <td>0.517303</td>\n",
       "      <td>44614.517303</td>\n",
       "      <td>1.916667e+00</td>\n",
       "      <td>1138.42</td>\n",
       "      <td>1138.35</td>\n",
       "      <td>6</td>\n",
       "      <td></td>\n",
       "      <td></td>\n",
       "      <td></td>\n",
       "      <td>0.001331</td>\n",
       "      <td>0.034190</td>\n",
       "      <td>0.047211</td>\n",
       "      <td>1.0</td>\n",
       "      <td>Connection</td>\n",
       "      <td>Connection</td>\n",
       "      <td>Drilling Formation</td>\n",
       "    </tr>\n",
       "    <tr>\n",
       "      <th>12</th>\n",
       "      <td>44614</td>\n",
       "      <td>0.518634</td>\n",
       "      <td>44614.518634</td>\n",
       "      <td>6.833333e+00</td>\n",
       "      <td>1138.42</td>\n",
       "      <td>1138.42</td>\n",
       "      <td></td>\n",
       "      <td></td>\n",
       "      <td></td>\n",
       "      <td>0.004745</td>\n",
       "      <td></td>\n",
       "      <td>NaN</td>\n",
       "      <td>NaN</td>\n",
       "      <td>2.0</td>\n",
       "      <td>Post Connection</td>\n",
       "      <td>Reaming</td>\n",
       "      <td>Drilling Formation</td>\n",
       "    </tr>\n",
       "    <tr>\n",
       "      <th>13</th>\n",
       "      <td>44614</td>\n",
       "      <td>0.523380</td>\n",
       "      <td>44614.523380</td>\n",
       "      <td>4.791667e+01</td>\n",
       "      <td>1145.78</td>\n",
       "      <td>1144.93</td>\n",
       "      <td>7.36</td>\n",
       "      <td>0.033275</td>\n",
       "      <td></td>\n",
       "      <td></td>\n",
       "      <td></td>\n",
       "      <td>NaN</td>\n",
       "      <td>NaN</td>\n",
       "      <td>2.0</td>\n",
       "      <td>NaN</td>\n",
       "      <td>Rotary Drilling</td>\n",
       "      <td>Drilling Formation</td>\n",
       "    </tr>\n",
       "    <tr>\n",
       "      <th>14</th>\n",
       "      <td>44614</td>\n",
       "      <td>0.556655</td>\n",
       "      <td>44614.556655</td>\n",
       "      <td>1.091667e+01</td>\n",
       "      <td>1145.92</td>\n",
       "      <td>1145.92</td>\n",
       "      <td></td>\n",
       "      <td></td>\n",
       "      <td></td>\n",
       "      <td>0.007581</td>\n",
       "      <td></td>\n",
       "      <td>NaN</td>\n",
       "      <td>NaN</td>\n",
       "      <td>2.0</td>\n",
       "      <td>NaN</td>\n",
       "      <td>Reaming</td>\n",
       "      <td>Drilling Formation</td>\n",
       "    </tr>\n",
       "    <tr>\n",
       "      <th>15</th>\n",
       "      <td>44614</td>\n",
       "      <td>0.564236</td>\n",
       "      <td>44614.564236</td>\n",
       "      <td>1.315167e+02</td>\n",
       "      <td>1168.22</td>\n",
       "      <td>1168.08</td>\n",
       "      <td>22.3</td>\n",
       "      <td>0.091331</td>\n",
       "      <td></td>\n",
       "      <td></td>\n",
       "      <td></td>\n",
       "      <td>NaN</td>\n",
       "      <td>NaN</td>\n",
       "      <td>2.0</td>\n",
       "      <td>NaN</td>\n",
       "      <td>Rotary Drilling</td>\n",
       "      <td>Drilling Formation</td>\n",
       "    </tr>\n",
       "    <tr>\n",
       "      <th>16</th>\n",
       "      <td>44614</td>\n",
       "      <td>0.655567</td>\n",
       "      <td>44614.655567</td>\n",
       "      <td>2.341667e+01</td>\n",
       "      <td>1168.22</td>\n",
       "      <td>1168.10</td>\n",
       "      <td></td>\n",
       "      <td></td>\n",
       "      <td></td>\n",
       "      <td>0.016262</td>\n",
       "      <td></td>\n",
       "      <td>NaN</td>\n",
       "      <td>NaN</td>\n",
       "      <td>2.0</td>\n",
       "      <td>Pre Connection</td>\n",
       "      <td>Reaming</td>\n",
       "      <td>Drilling Formation</td>\n",
       "    </tr>\n",
       "    <tr>\n",
       "      <th>17</th>\n",
       "      <td>44614</td>\n",
       "      <td>0.671829</td>\n",
       "      <td>44614.671829</td>\n",
       "      <td>3.500000e+00</td>\n",
       "      <td>1168.22</td>\n",
       "      <td>1167.74</td>\n",
       "      <td>29.66</td>\n",
       "      <td></td>\n",
       "      <td></td>\n",
       "      <td></td>\n",
       "      <td>0.002431</td>\n",
       "      <td>0.124606</td>\n",
       "      <td>0.155625</td>\n",
       "      <td>2.0</td>\n",
       "      <td>Connection</td>\n",
       "      <td>Connection</td>\n",
       "      <td>Drilling Formation</td>\n",
       "    </tr>\n",
       "    <tr>\n",
       "      <th>18</th>\n",
       "      <td>44614</td>\n",
       "      <td>0.674259</td>\n",
       "      <td>44614.674259</td>\n",
       "      <td>2.583333e+00</td>\n",
       "      <td>1168.26</td>\n",
       "      <td>1168.26</td>\n",
       "      <td></td>\n",
       "      <td></td>\n",
       "      <td></td>\n",
       "      <td>0.001794</td>\n",
       "      <td></td>\n",
       "      <td>NaN</td>\n",
       "      <td>NaN</td>\n",
       "      <td>3.0</td>\n",
       "      <td>Post Connection</td>\n",
       "      <td>Reaming</td>\n",
       "      <td>Drilling Formation</td>\n",
       "    </tr>\n",
       "    <tr>\n",
       "      <th>19</th>\n",
       "      <td>44614</td>\n",
       "      <td>0.676053</td>\n",
       "      <td>44614.676053</td>\n",
       "      <td>1.275667e+02</td>\n",
       "      <td>1198.03</td>\n",
       "      <td>1197.83</td>\n",
       "      <td>29.77</td>\n",
       "      <td>0.088588</td>\n",
       "      <td></td>\n",
       "      <td></td>\n",
       "      <td></td>\n",
       "      <td>NaN</td>\n",
       "      <td>NaN</td>\n",
       "      <td>3.0</td>\n",
       "      <td>NaN</td>\n",
       "      <td>Rotary Drilling</td>\n",
       "      <td>Drilling Formation</td>\n",
       "    </tr>\n",
       "    <tr>\n",
       "      <th>20</th>\n",
       "      <td>44614</td>\n",
       "      <td>0.764641</td>\n",
       "      <td>44614.764641</td>\n",
       "      <td>1.808333e+01</td>\n",
       "      <td>1198.03</td>\n",
       "      <td>1197.88</td>\n",
       "      <td></td>\n",
       "      <td></td>\n",
       "      <td></td>\n",
       "      <td>0.012558</td>\n",
       "      <td></td>\n",
       "      <td>NaN</td>\n",
       "      <td>NaN</td>\n",
       "      <td>3.0</td>\n",
       "      <td>Pre Connection</td>\n",
       "      <td>Reaming</td>\n",
       "      <td>Drilling Formation</td>\n",
       "    </tr>\n",
       "    <tr>\n",
       "      <th>21</th>\n",
       "      <td>44614</td>\n",
       "      <td>0.777199</td>\n",
       "      <td>44614.777199</td>\n",
       "      <td>3.083333e+00</td>\n",
       "      <td>1198.03</td>\n",
       "      <td>1197.38</td>\n",
       "      <td>29.77</td>\n",
       "      <td></td>\n",
       "      <td></td>\n",
       "      <td></td>\n",
       "      <td>0.002141</td>\n",
       "      <td>0.088588</td>\n",
       "      <td>0.105081</td>\n",
       "      <td>3.0</td>\n",
       "      <td>Connection</td>\n",
       "      <td>Connection</td>\n",
       "      <td>Drilling Formation</td>\n",
       "    </tr>\n",
       "    <tr>\n",
       "      <th>22</th>\n",
       "      <td>44614</td>\n",
       "      <td>0.779340</td>\n",
       "      <td>44614.779340</td>\n",
       "      <td>6.916667e+00</td>\n",
       "      <td>1198.03</td>\n",
       "      <td>1198.03</td>\n",
       "      <td></td>\n",
       "      <td></td>\n",
       "      <td></td>\n",
       "      <td>0.004803</td>\n",
       "      <td></td>\n",
       "      <td>NaN</td>\n",
       "      <td>NaN</td>\n",
       "      <td>4.0</td>\n",
       "      <td>Post Connection</td>\n",
       "      <td>Reaming</td>\n",
       "      <td>Drilling Formation</td>\n",
       "    </tr>\n",
       "    <tr>\n",
       "      <th>23</th>\n",
       "      <td>44614</td>\n",
       "      <td>0.784144</td>\n",
       "      <td>44614.784144</td>\n",
       "      <td>1.296667e+02</td>\n",
       "      <td>1227.64</td>\n",
       "      <td>1226.77</td>\n",
       "      <td>29.61</td>\n",
       "      <td>0.090046</td>\n",
       "      <td></td>\n",
       "      <td></td>\n",
       "      <td></td>\n",
       "      <td>NaN</td>\n",
       "      <td>NaN</td>\n",
       "      <td>4.0</td>\n",
       "      <td>NaN</td>\n",
       "      <td>Rotary Drilling</td>\n",
       "      <td>Drilling Formation</td>\n",
       "    </tr>\n",
       "    <tr>\n",
       "      <th>24</th>\n",
       "      <td>44614</td>\n",
       "      <td>0.874190</td>\n",
       "      <td>44614.874190</td>\n",
       "      <td>2.516667e+01</td>\n",
       "      <td>1227.64</td>\n",
       "      <td>1224.35</td>\n",
       "      <td></td>\n",
       "      <td></td>\n",
       "      <td></td>\n",
       "      <td>0.017477</td>\n",
       "      <td></td>\n",
       "      <td>NaN</td>\n",
       "      <td>NaN</td>\n",
       "      <td>4.0</td>\n",
       "      <td>Pre Connection</td>\n",
       "      <td>Reaming</td>\n",
       "      <td>Drilling Formation</td>\n",
       "    </tr>\n",
       "    <tr>\n",
       "      <th>25</th>\n",
       "      <td>44614</td>\n",
       "      <td>0.891667</td>\n",
       "      <td>44614.891667</td>\n",
       "      <td>2.916667e+00</td>\n",
       "      <td>1227.64</td>\n",
       "      <td>1227.01</td>\n",
       "      <td>29.61</td>\n",
       "      <td></td>\n",
       "      <td></td>\n",
       "      <td></td>\n",
       "      <td>0.002025</td>\n",
       "      <td>0.090046</td>\n",
       "      <td>0.114352</td>\n",
       "      <td>4.0</td>\n",
       "      <td>Connection</td>\n",
       "      <td>Connection</td>\n",
       "      <td>Drilling Formation</td>\n",
       "    </tr>\n",
       "    <tr>\n",
       "      <th>26</th>\n",
       "      <td>44614</td>\n",
       "      <td>0.893692</td>\n",
       "      <td>44614.893692</td>\n",
       "      <td>1.941667e+01</td>\n",
       "      <td>1227.64</td>\n",
       "      <td>1227.64</td>\n",
       "      <td></td>\n",
       "      <td></td>\n",
       "      <td></td>\n",
       "      <td>0.013484</td>\n",
       "      <td></td>\n",
       "      <td>NaN</td>\n",
       "      <td>NaN</td>\n",
       "      <td>5.0</td>\n",
       "      <td>Post Connection</td>\n",
       "      <td>Reaming</td>\n",
       "      <td>Drilling Formation</td>\n",
       "    </tr>\n",
       "    <tr>\n",
       "      <th>27</th>\n",
       "      <td>44614</td>\n",
       "      <td>0.907176</td>\n",
       "      <td>44614.907176</td>\n",
       "      <td>1.691667e+01</td>\n",
       "      <td>1230.48</td>\n",
       "      <td>1230.14</td>\n",
       "      <td>2.84</td>\n",
       "      <td>0.011748</td>\n",
       "      <td></td>\n",
       "      <td></td>\n",
       "      <td></td>\n",
       "      <td>NaN</td>\n",
       "      <td>NaN</td>\n",
       "      <td>5.0</td>\n",
       "      <td>NaN</td>\n",
       "      <td>Rotary Drilling</td>\n",
       "      <td>Drilling Formation</td>\n",
       "    </tr>\n",
       "    <tr>\n",
       "      <th>28</th>\n",
       "      <td>44614</td>\n",
       "      <td>0.918924</td>\n",
       "      <td>44614.918924</td>\n",
       "      <td>7.500000e-01</td>\n",
       "      <td>1230.49</td>\n",
       "      <td>1230.49</td>\n",
       "      <td></td>\n",
       "      <td></td>\n",
       "      <td></td>\n",
       "      <td>0.000521</td>\n",
       "      <td></td>\n",
       "      <td>NaN</td>\n",
       "      <td>NaN</td>\n",
       "      <td>5.0</td>\n",
       "      <td>NaN</td>\n",
       "      <td>Reaming</td>\n",
       "      <td>Drilling Formation</td>\n",
       "    </tr>\n",
       "    <tr>\n",
       "      <th>29</th>\n",
       "      <td>44614</td>\n",
       "      <td>0.919444</td>\n",
       "      <td>44614.919444</td>\n",
       "      <td>1.473333e+02</td>\n",
       "      <td>1257.24</td>\n",
       "      <td>1257.24</td>\n",
       "      <td>26.75</td>\n",
       "      <td>0.102315</td>\n",
       "      <td></td>\n",
       "      <td></td>\n",
       "      <td></td>\n",
       "      <td>NaN</td>\n",
       "      <td>NaN</td>\n",
       "      <td>5.0</td>\n",
       "      <td>NaN</td>\n",
       "      <td>Rotary Drilling</td>\n",
       "      <td>Drilling Formation</td>\n",
       "    </tr>\n",
       "    <tr>\n",
       "      <th>30</th>\n",
       "      <td>44615</td>\n",
       "      <td>0.021759</td>\n",
       "      <td>44615.021759</td>\n",
       "      <td>2.558333e+01</td>\n",
       "      <td>1257.24</td>\n",
       "      <td>1257.24</td>\n",
       "      <td></td>\n",
       "      <td></td>\n",
       "      <td></td>\n",
       "      <td>0.017766</td>\n",
       "      <td></td>\n",
       "      <td>NaN</td>\n",
       "      <td>NaN</td>\n",
       "      <td>5.0</td>\n",
       "      <td>Pre Connection</td>\n",
       "      <td>Reaming</td>\n",
       "      <td>Drilling Formation</td>\n",
       "    </tr>\n",
       "    <tr>\n",
       "      <th>31</th>\n",
       "      <td>44615</td>\n",
       "      <td>0.039525</td>\n",
       "      <td>44615.039525</td>\n",
       "      <td>2.833333e+00</td>\n",
       "      <td>1257.24</td>\n",
       "      <td>1257.24</td>\n",
       "      <td>29.59</td>\n",
       "      <td>NaN</td>\n",
       "      <td></td>\n",
       "      <td>NaN</td>\n",
       "      <td>0.001968</td>\n",
       "      <td>0.114063</td>\n",
       "      <td>0.147801</td>\n",
       "      <td>5.0</td>\n",
       "      <td>Connection</td>\n",
       "      <td>Connection</td>\n",
       "      <td>Drilling Formation</td>\n",
       "    </tr>\n",
       "    <tr>\n",
       "      <th>32</th>\n",
       "      <td>44615</td>\n",
       "      <td>0.041493</td>\n",
       "      <td>44615.041493</td>\n",
       "      <td>1.258333e+01</td>\n",
       "      <td>1257.24</td>\n",
       "      <td>1257.24</td>\n",
       "      <td></td>\n",
       "      <td></td>\n",
       "      <td></td>\n",
       "      <td>0.008738</td>\n",
       "      <td></td>\n",
       "      <td>NaN</td>\n",
       "      <td>NaN</td>\n",
       "      <td>6.0</td>\n",
       "      <td>Post Connection</td>\n",
       "      <td>Reaming</td>\n",
       "      <td>Drilling Formation</td>\n",
       "    </tr>\n",
       "    <tr>\n",
       "      <th>33</th>\n",
       "      <td>44615</td>\n",
       "      <td>0.050231</td>\n",
       "      <td>44615.050231</td>\n",
       "      <td>1.485000e+01</td>\n",
       "      <td>1258.29</td>\n",
       "      <td>1257.91</td>\n",
       "      <td>1.05</td>\n",
       "      <td>0.010313</td>\n",
       "      <td></td>\n",
       "      <td></td>\n",
       "      <td></td>\n",
       "      <td>NaN</td>\n",
       "      <td>NaN</td>\n",
       "      <td>6.0</td>\n",
       "      <td>NaN</td>\n",
       "      <td>Rotary Drilling</td>\n",
       "      <td>Drilling Formation</td>\n",
       "    </tr>\n",
       "    <tr>\n",
       "      <th>34</th>\n",
       "      <td>44615</td>\n",
       "      <td>0.060544</td>\n",
       "      <td>44615.060544</td>\n",
       "      <td>6.666667e-01</td>\n",
       "      <td>1258.30</td>\n",
       "      <td>1258.30</td>\n",
       "      <td></td>\n",
       "      <td></td>\n",
       "      <td></td>\n",
       "      <td>0.000463</td>\n",
       "      <td></td>\n",
       "      <td>NaN</td>\n",
       "      <td>NaN</td>\n",
       "      <td>6.0</td>\n",
       "      <td>NaN</td>\n",
       "      <td>Reaming</td>\n",
       "      <td>Drilling Formation</td>\n",
       "    </tr>\n",
       "    <tr>\n",
       "      <th>35</th>\n",
       "      <td>44615</td>\n",
       "      <td>0.061007</td>\n",
       "      <td>44615.061007</td>\n",
       "      <td>2.064000e+02</td>\n",
       "      <td>1286.74</td>\n",
       "      <td>1286.72</td>\n",
       "      <td>28.44</td>\n",
       "      <td>0.143333</td>\n",
       "      <td></td>\n",
       "      <td></td>\n",
       "      <td></td>\n",
       "      <td>NaN</td>\n",
       "      <td>NaN</td>\n",
       "      <td>6.0</td>\n",
       "      <td>NaN</td>\n",
       "      <td>Rotary Drilling</td>\n",
       "      <td>Drilling Formation</td>\n",
       "    </tr>\n",
       "    <tr>\n",
       "      <th>36</th>\n",
       "      <td>44615</td>\n",
       "      <td>0.204340</td>\n",
       "      <td>44615.204340</td>\n",
       "      <td>1.650000e+01</td>\n",
       "      <td>1286.74</td>\n",
       "      <td>1282.35</td>\n",
       "      <td></td>\n",
       "      <td></td>\n",
       "      <td></td>\n",
       "      <td>0.011458</td>\n",
       "      <td></td>\n",
       "      <td>NaN</td>\n",
       "      <td>NaN</td>\n",
       "      <td>6.0</td>\n",
       "      <td>NaN</td>\n",
       "      <td>Reaming</td>\n",
       "      <td>Drilling Formation</td>\n",
       "    </tr>\n",
       "    <tr>\n",
       "      <th>37</th>\n",
       "      <td>44615</td>\n",
       "      <td>0.215799</td>\n",
       "      <td>44615.215799</td>\n",
       "      <td>2.500000e+00</td>\n",
       "      <td>1286.74</td>\n",
       "      <td>1286.48</td>\n",
       "      <td></td>\n",
       "      <td></td>\n",
       "      <td></td>\n",
       "      <td></td>\n",
       "      <td></td>\n",
       "      <td>NaN</td>\n",
       "      <td>NaN</td>\n",
       "      <td>6.0</td>\n",
       "      <td>Pre Connection</td>\n",
       "      <td>Wash Up/Down</td>\n",
       "      <td>Drilling Formation</td>\n",
       "    </tr>\n",
       "    <tr>\n",
       "      <th>38</th>\n",
       "      <td>44615</td>\n",
       "      <td>0.217535</td>\n",
       "      <td>44615.217535</td>\n",
       "      <td>2.916667e+00</td>\n",
       "      <td>1286.74</td>\n",
       "      <td>1285.90</td>\n",
       "      <td>29.49</td>\n",
       "      <td></td>\n",
       "      <td></td>\n",
       "      <td></td>\n",
       "      <td>0.002025</td>\n",
       "      <td>0.153646</td>\n",
       "      <td>0.176331</td>\n",
       "      <td>6.0</td>\n",
       "      <td>Connection</td>\n",
       "      <td>Connection</td>\n",
       "      <td>Drilling Formation</td>\n",
       "    </tr>\n",
       "    <tr>\n",
       "      <th>39</th>\n",
       "      <td>44615</td>\n",
       "      <td>0.219560</td>\n",
       "      <td>44615.219560</td>\n",
       "      <td>3.916667e+00</td>\n",
       "      <td>1286.74</td>\n",
       "      <td>1285.90</td>\n",
       "      <td></td>\n",
       "      <td></td>\n",
       "      <td></td>\n",
       "      <td></td>\n",
       "      <td></td>\n",
       "      <td>NaN</td>\n",
       "      <td>NaN</td>\n",
       "      <td>7.0</td>\n",
       "      <td>Post Connection</td>\n",
       "      <td>Wash Up/Down</td>\n",
       "      <td>Drilling Formation</td>\n",
       "    </tr>\n",
       "    <tr>\n",
       "      <th>40</th>\n",
       "      <td>44615</td>\n",
       "      <td>0.222280</td>\n",
       "      <td>44615.222280</td>\n",
       "      <td>1.166667e+00</td>\n",
       "      <td>1286.76</td>\n",
       "      <td>1286.76</td>\n",
       "      <td></td>\n",
       "      <td></td>\n",
       "      <td></td>\n",
       "      <td>0.00081</td>\n",
       "      <td></td>\n",
       "      <td>NaN</td>\n",
       "      <td>NaN</td>\n",
       "      <td>7.0</td>\n",
       "      <td>NaN</td>\n",
       "      <td>Reaming</td>\n",
       "      <td>Drilling Formation</td>\n",
       "    </tr>\n",
       "    <tr>\n",
       "      <th>41</th>\n",
       "      <td>44615</td>\n",
       "      <td>0.223090</td>\n",
       "      <td>44615.223090</td>\n",
       "      <td>2.833333e+00</td>\n",
       "      <td>1287.09</td>\n",
       "      <td>1286.84</td>\n",
       "      <td>0.33</td>\n",
       "      <td>0.001968</td>\n",
       "      <td></td>\n",
       "      <td></td>\n",
       "      <td></td>\n",
       "      <td>NaN</td>\n",
       "      <td>NaN</td>\n",
       "      <td>7.0</td>\n",
       "      <td>NaN</td>\n",
       "      <td>Rotary Drilling</td>\n",
       "      <td>Drilling Formation</td>\n",
       "    </tr>\n",
       "    <tr>\n",
       "      <th>42</th>\n",
       "      <td>44615</td>\n",
       "      <td>0.225058</td>\n",
       "      <td>44615.225058</td>\n",
       "      <td>3.416667e+00</td>\n",
       "      <td>1287.09</td>\n",
       "      <td>1287.08</td>\n",
       "      <td></td>\n",
       "      <td></td>\n",
       "      <td></td>\n",
       "      <td>0.002373</td>\n",
       "      <td></td>\n",
       "      <td>NaN</td>\n",
       "      <td>NaN</td>\n",
       "      <td>7.0</td>\n",
       "      <td>NaN</td>\n",
       "      <td>Reaming</td>\n",
       "      <td>Drilling Formation</td>\n",
       "    </tr>\n",
       "    <tr>\n",
       "      <th>43</th>\n",
       "      <td>44615</td>\n",
       "      <td>0.227431</td>\n",
       "      <td>44615.227431</td>\n",
       "      <td>1.583333e+01</td>\n",
       "      <td>1289.01</td>\n",
       "      <td>1288.53</td>\n",
       "      <td>1.92</td>\n",
       "      <td>0.010995</td>\n",
       "      <td></td>\n",
       "      <td></td>\n",
       "      <td></td>\n",
       "      <td>NaN</td>\n",
       "      <td>NaN</td>\n",
       "      <td>7.0</td>\n",
       "      <td>NaN</td>\n",
       "      <td>Rotary Drilling</td>\n",
       "      <td>Drilling Formation</td>\n",
       "    </tr>\n",
       "    <tr>\n",
       "      <th>44</th>\n",
       "      <td>44615</td>\n",
       "      <td>0.238426</td>\n",
       "      <td>44615.238426</td>\n",
       "      <td>6.666667e-01</td>\n",
       "      <td>1289.01</td>\n",
       "      <td>1286.20</td>\n",
       "      <td></td>\n",
       "      <td></td>\n",
       "      <td></td>\n",
       "      <td>0.000463</td>\n",
       "      <td></td>\n",
       "      <td>NaN</td>\n",
       "      <td>NaN</td>\n",
       "      <td>7.0</td>\n",
       "      <td>NaN</td>\n",
       "      <td>Reaming</td>\n",
       "      <td>Drilling Formation</td>\n",
       "    </tr>\n",
       "    <tr>\n",
       "      <th>45</th>\n",
       "      <td>44615</td>\n",
       "      <td>0.238889</td>\n",
       "      <td>44615.238889</td>\n",
       "      <td>1.300000e+01</td>\n",
       "      <td>1289.09</td>\n",
       "      <td>1289.09</td>\n",
       "      <td></td>\n",
       "      <td></td>\n",
       "      <td></td>\n",
       "      <td></td>\n",
       "      <td></td>\n",
       "      <td>NaN</td>\n",
       "      <td>NaN</td>\n",
       "      <td>7.0</td>\n",
       "      <td>NaN</td>\n",
       "      <td>Wash Up/Down</td>\n",
       "      <td>Drilling Formation</td>\n",
       "    </tr>\n",
       "    <tr>\n",
       "      <th>46</th>\n",
       "      <td>44615</td>\n",
       "      <td>0.247917</td>\n",
       "      <td>44615.247917</td>\n",
       "      <td>5.406667e+01</td>\n",
       "      <td>1296.00</td>\n",
       "      <td>1295.67</td>\n",
       "      <td>6.91</td>\n",
       "      <td></td>\n",
       "      <td>0.037546</td>\n",
       "      <td></td>\n",
       "      <td></td>\n",
       "      <td>NaN</td>\n",
       "      <td>NaN</td>\n",
       "      <td>7.0</td>\n",
       "      <td>NaN</td>\n",
       "      <td>Slide Drilling</td>\n",
       "      <td>Drilling Formation</td>\n",
       "    </tr>\n",
       "    <tr>\n",
       "      <th>47</th>\n",
       "      <td>44615</td>\n",
       "      <td>0.285463</td>\n",
       "      <td>44615.285463</td>\n",
       "      <td>2.666667e+00</td>\n",
       "      <td>1296.00</td>\n",
       "      <td>1294.70</td>\n",
       "      <td></td>\n",
       "      <td></td>\n",
       "      <td></td>\n",
       "      <td></td>\n",
       "      <td></td>\n",
       "      <td>NaN</td>\n",
       "      <td>NaN</td>\n",
       "      <td>7.0</td>\n",
       "      <td>NaN</td>\n",
       "      <td>Wash Up/Down</td>\n",
       "      <td>Drilling Formation</td>\n",
       "    </tr>\n",
       "    <tr>\n",
       "      <th>48</th>\n",
       "      <td>44615</td>\n",
       "      <td>0.287315</td>\n",
       "      <td>44615.287315</td>\n",
       "      <td>2.750000e+00</td>\n",
       "      <td>1296.01</td>\n",
       "      <td>1296.01</td>\n",
       "      <td></td>\n",
       "      <td></td>\n",
       "      <td></td>\n",
       "      <td>0.00191</td>\n",
       "      <td></td>\n",
       "      <td>NaN</td>\n",
       "      <td>NaN</td>\n",
       "      <td>7.0</td>\n",
       "      <td>NaN</td>\n",
       "      <td>Reaming</td>\n",
       "      <td>Drilling Formation</td>\n",
       "    </tr>\n",
       "    <tr>\n",
       "      <th>49</th>\n",
       "      <td>44615</td>\n",
       "      <td>0.289225</td>\n",
       "      <td>44615.289225</td>\n",
       "      <td>1.251667e+02</td>\n",
       "      <td>1316.30</td>\n",
       "      <td>1316.12</td>\n",
       "      <td>20.29</td>\n",
       "      <td>0.086921</td>\n",
       "      <td></td>\n",
       "      <td></td>\n",
       "      <td></td>\n",
       "      <td>NaN</td>\n",
       "      <td>NaN</td>\n",
       "      <td>7.0</td>\n",
       "      <td>NaN</td>\n",
       "      <td>Rotary Drilling</td>\n",
       "      <td>Drilling Formation</td>\n",
       "    </tr>\n",
       "    <tr>\n",
       "      <th>50</th>\n",
       "      <td>44615</td>\n",
       "      <td>0.376146</td>\n",
       "      <td>44615.376146</td>\n",
       "      <td>2.200000e+01</td>\n",
       "      <td>1316.30</td>\n",
       "      <td>1309.68</td>\n",
       "      <td></td>\n",
       "      <td></td>\n",
       "      <td></td>\n",
       "      <td>0.015278</td>\n",
       "      <td></td>\n",
       "      <td>NaN</td>\n",
       "      <td>NaN</td>\n",
       "      <td>7.0</td>\n",
       "      <td>NaN</td>\n",
       "      <td>Reaming</td>\n",
       "      <td>Drilling Formation</td>\n",
       "    </tr>\n",
       "    <tr>\n",
       "      <th>51</th>\n",
       "      <td>44615</td>\n",
       "      <td>0.391424</td>\n",
       "      <td>44615.391424</td>\n",
       "      <td>6.916667e+00</td>\n",
       "      <td>1316.30</td>\n",
       "      <td>1316.03</td>\n",
       "      <td></td>\n",
       "      <td></td>\n",
       "      <td></td>\n",
       "      <td></td>\n",
       "      <td></td>\n",
       "      <td>NaN</td>\n",
       "      <td>NaN</td>\n",
       "      <td>7.0</td>\n",
       "      <td>Pre Connection</td>\n",
       "      <td>Wash Up/Down</td>\n",
       "      <td>Drilling Formation</td>\n",
       "    </tr>\n",
       "    <tr>\n",
       "      <th>52</th>\n",
       "      <td>44615</td>\n",
       "      <td>0.396227</td>\n",
       "      <td>44615.396227</td>\n",
       "      <td>6.000000e+00</td>\n",
       "      <td>1316.30</td>\n",
       "      <td>1315.65</td>\n",
       "      <td>29.45</td>\n",
       "      <td></td>\n",
       "      <td></td>\n",
       "      <td></td>\n",
       "      <td>0.004167</td>\n",
       "      <td>0.137431</td>\n",
       "      <td>0.162431</td>\n",
       "      <td>7.0</td>\n",
       "      <td>Connection</td>\n",
       "      <td>Connection</td>\n",
       "      <td>Drilling Formation</td>\n",
       "    </tr>\n",
       "    <tr>\n",
       "      <th>53</th>\n",
       "      <td>44615</td>\n",
       "      <td>0.400394</td>\n",
       "      <td>44615.400394</td>\n",
       "      <td>6.666667e+00</td>\n",
       "      <td>1316.27</td>\n",
       "      <td>1316.27</td>\n",
       "      <td></td>\n",
       "      <td></td>\n",
       "      <td></td>\n",
       "      <td>0.00463</td>\n",
       "      <td></td>\n",
       "      <td>NaN</td>\n",
       "      <td>NaN</td>\n",
       "      <td>8.0</td>\n",
       "      <td>Post Connection</td>\n",
       "      <td>Reaming</td>\n",
       "      <td>Drilling Formation</td>\n",
       "    </tr>\n",
       "    <tr>\n",
       "      <th>54</th>\n",
       "      <td>44615</td>\n",
       "      <td>0.405023</td>\n",
       "      <td>44615.405023</td>\n",
       "      <td>4.616667e+01</td>\n",
       "      <td>1322.79</td>\n",
       "      <td>1322.24</td>\n",
       "      <td>6.52</td>\n",
       "      <td>0.03206</td>\n",
       "      <td></td>\n",
       "      <td></td>\n",
       "      <td></td>\n",
       "      <td>NaN</td>\n",
       "      <td>NaN</td>\n",
       "      <td>8.0</td>\n",
       "      <td>NaN</td>\n",
       "      <td>Rotary Drilling</td>\n",
       "      <td>Drilling Formation</td>\n",
       "    </tr>\n",
       "    <tr>\n",
       "      <th>55</th>\n",
       "      <td>44615</td>\n",
       "      <td>0.437083</td>\n",
       "      <td>44615.437083</td>\n",
       "      <td>3.083333e+00</td>\n",
       "      <td>1322.79</td>\n",
       "      <td>1322.79</td>\n",
       "      <td></td>\n",
       "      <td></td>\n",
       "      <td></td>\n",
       "      <td>0.002141</td>\n",
       "      <td></td>\n",
       "      <td>NaN</td>\n",
       "      <td>NaN</td>\n",
       "      <td>8.0</td>\n",
       "      <td>NaN</td>\n",
       "      <td>Reaming</td>\n",
       "      <td>Drilling Formation</td>\n",
       "    </tr>\n",
       "    <tr>\n",
       "      <th>56</th>\n",
       "      <td>44615</td>\n",
       "      <td>0.439225</td>\n",
       "      <td>44615.439225</td>\n",
       "      <td>2.441667e+01</td>\n",
       "      <td>1326.44</td>\n",
       "      <td>1316.58</td>\n",
       "      <td>3.65</td>\n",
       "      <td>0.016956</td>\n",
       "      <td></td>\n",
       "      <td></td>\n",
       "      <td></td>\n",
       "      <td>NaN</td>\n",
       "      <td>NaN</td>\n",
       "      <td>8.0</td>\n",
       "      <td>NaN</td>\n",
       "      <td>Rotary Drilling</td>\n",
       "      <td>Drilling Formation</td>\n",
       "    </tr>\n",
       "    <tr>\n",
       "      <th>57</th>\n",
       "      <td>44615</td>\n",
       "      <td>0.456181</td>\n",
       "      <td>44615.456181</td>\n",
       "      <td>5.666667e+00</td>\n",
       "      <td>1326.44</td>\n",
       "      <td>1326.44</td>\n",
       "      <td></td>\n",
       "      <td></td>\n",
       "      <td></td>\n",
       "      <td>0.003935</td>\n",
       "      <td></td>\n",
       "      <td>NaN</td>\n",
       "      <td>NaN</td>\n",
       "      <td>8.0</td>\n",
       "      <td>NaN</td>\n",
       "      <td>Reaming</td>\n",
       "      <td>Drilling Formation</td>\n",
       "    </tr>\n",
       "    <tr>\n",
       "      <th>58</th>\n",
       "      <td>44615</td>\n",
       "      <td>0.460116</td>\n",
       "      <td>44615.460116</td>\n",
       "      <td>4.666667e+00</td>\n",
       "      <td>1327.28</td>\n",
       "      <td>1325.25</td>\n",
       "      <td>0.84</td>\n",
       "      <td>0.003241</td>\n",
       "      <td></td>\n",
       "      <td></td>\n",
       "      <td></td>\n",
       "      <td>NaN</td>\n",
       "      <td>NaN</td>\n",
       "      <td>8.0</td>\n",
       "      <td>NaN</td>\n",
       "      <td>Rotary Drilling</td>\n",
       "      <td>Drilling Formation</td>\n",
       "    </tr>\n",
       "    <tr>\n",
       "      <th>59</th>\n",
       "      <td>44615</td>\n",
       "      <td>0.463356</td>\n",
       "      <td>44615.463356</td>\n",
       "      <td>6.166667e+00</td>\n",
       "      <td>1327.29</td>\n",
       "      <td>1327.29</td>\n",
       "      <td></td>\n",
       "      <td></td>\n",
       "      <td></td>\n",
       "      <td>0.004282</td>\n",
       "      <td></td>\n",
       "      <td>NaN</td>\n",
       "      <td>NaN</td>\n",
       "      <td>8.0</td>\n",
       "      <td>NaN</td>\n",
       "      <td>Reaming</td>\n",
       "      <td>Drilling Formation</td>\n",
       "    </tr>\n",
       "    <tr>\n",
       "      <th>60</th>\n",
       "      <td>44615</td>\n",
       "      <td>0.467639</td>\n",
       "      <td>44615.467639</td>\n",
       "      <td>1.035833e+02</td>\n",
       "      <td>1345.79</td>\n",
       "      <td>1345.57</td>\n",
       "      <td>18.5</td>\n",
       "      <td>0.071933</td>\n",
       "      <td></td>\n",
       "      <td></td>\n",
       "      <td></td>\n",
       "      <td>NaN</td>\n",
       "      <td>NaN</td>\n",
       "      <td>8.0</td>\n",
       "      <td>NaN</td>\n",
       "      <td>Rotary Drilling</td>\n",
       "      <td>Drilling Formation</td>\n",
       "    </tr>\n",
       "    <tr>\n",
       "      <th>61</th>\n",
       "      <td>44615</td>\n",
       "      <td>0.539572</td>\n",
       "      <td>44615.539572</td>\n",
       "      <td>1.383333e+01</td>\n",
       "      <td>1345.79</td>\n",
       "      <td>1342.70</td>\n",
       "      <td></td>\n",
       "      <td></td>\n",
       "      <td></td>\n",
       "      <td>0.009606</td>\n",
       "      <td></td>\n",
       "      <td>NaN</td>\n",
       "      <td>NaN</td>\n",
       "      <td>8.0</td>\n",
       "      <td>NaN</td>\n",
       "      <td>Reaming</td>\n",
       "      <td>Drilling Formation</td>\n",
       "    </tr>\n",
       "    <tr>\n",
       "      <th>62</th>\n",
       "      <td>44615</td>\n",
       "      <td>0.549178</td>\n",
       "      <td>44615.549178</td>\n",
       "      <td>7.500000e-01</td>\n",
       "      <td>1345.79</td>\n",
       "      <td>1345.72</td>\n",
       "      <td></td>\n",
       "      <td></td>\n",
       "      <td></td>\n",
       "      <td></td>\n",
       "      <td></td>\n",
       "      <td>NaN</td>\n",
       "      <td>NaN</td>\n",
       "      <td>8.0</td>\n",
       "      <td>Pre Connection</td>\n",
       "      <td>Wash Up/Down</td>\n",
       "      <td>Drilling Formation</td>\n",
       "    </tr>\n",
       "    <tr>\n",
       "      <th>63</th>\n",
       "      <td>44615</td>\n",
       "      <td>0.549699</td>\n",
       "      <td>44615.549699</td>\n",
       "      <td>4.166667e+00</td>\n",
       "      <td>1345.79</td>\n",
       "      <td>1345.01</td>\n",
       "      <td>29.51</td>\n",
       "      <td></td>\n",
       "      <td></td>\n",
       "      <td></td>\n",
       "      <td>0.002894</td>\n",
       "      <td>0.124190</td>\n",
       "      <td>0.151678</td>\n",
       "      <td>8.0</td>\n",
       "      <td>Connection</td>\n",
       "      <td>Connection</td>\n",
       "      <td>Drilling Formation</td>\n",
       "    </tr>\n",
       "    <tr>\n",
       "      <th>64</th>\n",
       "      <td>44615</td>\n",
       "      <td>0.552593</td>\n",
       "      <td>44615.552593</td>\n",
       "      <td>3.166667e+00</td>\n",
       "      <td>1345.78</td>\n",
       "      <td>1345.78</td>\n",
       "      <td></td>\n",
       "      <td></td>\n",
       "      <td></td>\n",
       "      <td>0.002199</td>\n",
       "      <td></td>\n",
       "      <td>NaN</td>\n",
       "      <td>NaN</td>\n",
       "      <td>9.0</td>\n",
       "      <td>Post Connection</td>\n",
       "      <td>Reaming</td>\n",
       "      <td>Drilling Formation</td>\n",
       "    </tr>\n",
       "    <tr>\n",
       "      <th>65</th>\n",
       "      <td>44615</td>\n",
       "      <td>0.554792</td>\n",
       "      <td>44615.554792</td>\n",
       "      <td>1.436833e+02</td>\n",
       "      <td>1366.33</td>\n",
       "      <td>1365.96</td>\n",
       "      <td>20.55</td>\n",
       "      <td>0.09978</td>\n",
       "      <td></td>\n",
       "      <td></td>\n",
       "      <td></td>\n",
       "      <td>NaN</td>\n",
       "      <td>NaN</td>\n",
       "      <td>9.0</td>\n",
       "      <td>NaN</td>\n",
       "      <td>Rotary Drilling</td>\n",
       "      <td>Drilling Formation</td>\n",
       "    </tr>\n",
       "    <tr>\n",
       "      <th>66</th>\n",
       "      <td>44615</td>\n",
       "      <td>0.654572</td>\n",
       "      <td>44615.654572</td>\n",
       "      <td>8.833333e+00</td>\n",
       "      <td>1366.33</td>\n",
       "      <td>1366.33</td>\n",
       "      <td></td>\n",
       "      <td></td>\n",
       "      <td></td>\n",
       "      <td>0.006134</td>\n",
       "      <td></td>\n",
       "      <td>NaN</td>\n",
       "      <td>NaN</td>\n",
       "      <td>9.0</td>\n",
       "      <td>NaN</td>\n",
       "      <td>Reaming</td>\n",
       "      <td>Drilling Formation</td>\n",
       "    </tr>\n",
       "    <tr>\n",
       "      <th>67</th>\n",
       "      <td>44615</td>\n",
       "      <td>0.660706</td>\n",
       "      <td>44615.660706</td>\n",
       "      <td>5.650000e+01</td>\n",
       "      <td>1375.07</td>\n",
       "      <td>1374.70</td>\n",
       "      <td>8.74</td>\n",
       "      <td>0.039236</td>\n",
       "      <td></td>\n",
       "      <td></td>\n",
       "      <td></td>\n",
       "      <td>NaN</td>\n",
       "      <td>NaN</td>\n",
       "      <td>9.0</td>\n",
       "      <td>NaN</td>\n",
       "      <td>Rotary Drilling</td>\n",
       "      <td>Drilling Formation</td>\n",
       "    </tr>\n",
       "    <tr>\n",
       "      <th>68</th>\n",
       "      <td>44615</td>\n",
       "      <td>0.699942</td>\n",
       "      <td>44615.699942</td>\n",
       "      <td>1.441667e+01</td>\n",
       "      <td>1375.07</td>\n",
       "      <td>1372.74</td>\n",
       "      <td></td>\n",
       "      <td></td>\n",
       "      <td></td>\n",
       "      <td>0.010012</td>\n",
       "      <td></td>\n",
       "      <td>NaN</td>\n",
       "      <td>NaN</td>\n",
       "      <td>9.0</td>\n",
       "      <td>NaN</td>\n",
       "      <td>Reaming</td>\n",
       "      <td>Drilling Formation</td>\n",
       "    </tr>\n",
       "    <tr>\n",
       "      <th>69</th>\n",
       "      <td>44615</td>\n",
       "      <td>0.709954</td>\n",
       "      <td>44615.709954</td>\n",
       "      <td>1.583333e+00</td>\n",
       "      <td>1375.07</td>\n",
       "      <td>1374.85</td>\n",
       "      <td></td>\n",
       "      <td></td>\n",
       "      <td></td>\n",
       "      <td></td>\n",
       "      <td></td>\n",
       "      <td>NaN</td>\n",
       "      <td>NaN</td>\n",
       "      <td>9.0</td>\n",
       "      <td>Pre Connection</td>\n",
       "      <td>Wash Up/Down</td>\n",
       "      <td>Drilling Formation</td>\n",
       "    </tr>\n",
       "    <tr>\n",
       "      <th>70</th>\n",
       "      <td>44615</td>\n",
       "      <td>0.711053</td>\n",
       "      <td>44615.711053</td>\n",
       "      <td>2.083333e+00</td>\n",
       "      <td>1375.07</td>\n",
       "      <td>1374.66</td>\n",
       "      <td>29.29</td>\n",
       "      <td></td>\n",
       "      <td></td>\n",
       "      <td></td>\n",
       "      <td>0.001447</td>\n",
       "      <td>0.139016</td>\n",
       "      <td>0.158808</td>\n",
       "      <td>9.0</td>\n",
       "      <td>Connection</td>\n",
       "      <td>Connection</td>\n",
       "      <td>Drilling Formation</td>\n",
       "    </tr>\n",
       "    <tr>\n",
       "      <th>71</th>\n",
       "      <td>44615</td>\n",
       "      <td>0.712500</td>\n",
       "      <td>44615.712500</td>\n",
       "      <td>2.166667e+00</td>\n",
       "      <td>1375.07</td>\n",
       "      <td>1374.38</td>\n",
       "      <td></td>\n",
       "      <td></td>\n",
       "      <td></td>\n",
       "      <td></td>\n",
       "      <td></td>\n",
       "      <td>NaN</td>\n",
       "      <td>NaN</td>\n",
       "      <td>10.0</td>\n",
       "      <td>Post Connection</td>\n",
       "      <td>Wash Up/Down</td>\n",
       "      <td>Drilling Formation</td>\n",
       "    </tr>\n",
       "    <tr>\n",
       "      <th>72</th>\n",
       "      <td>44615</td>\n",
       "      <td>0.714005</td>\n",
       "      <td>44615.714005</td>\n",
       "      <td>2.333333e+00</td>\n",
       "      <td>1375.07</td>\n",
       "      <td>1375.07</td>\n",
       "      <td></td>\n",
       "      <td></td>\n",
       "      <td></td>\n",
       "      <td>0.00162</td>\n",
       "      <td></td>\n",
       "      <td>NaN</td>\n",
       "      <td>NaN</td>\n",
       "      <td>10.0</td>\n",
       "      <td>NaN</td>\n",
       "      <td>Reaming</td>\n",
       "      <td>Drilling Formation</td>\n",
       "    </tr>\n",
       "    <tr>\n",
       "      <th>73</th>\n",
       "      <td>44615</td>\n",
       "      <td>0.715625</td>\n",
       "      <td>44615.715625</td>\n",
       "      <td>2.333333e+01</td>\n",
       "      <td>1378.00</td>\n",
       "      <td>1376.40</td>\n",
       "      <td>2.93</td>\n",
       "      <td>0.016204</td>\n",
       "      <td></td>\n",
       "      <td></td>\n",
       "      <td></td>\n",
       "      <td>NaN</td>\n",
       "      <td>NaN</td>\n",
       "      <td>10.0</td>\n",
       "      <td>NaN</td>\n",
       "      <td>Rotary Drilling</td>\n",
       "      <td>Drilling Formation</td>\n",
       "    </tr>\n",
       "    <tr>\n",
       "      <th>74</th>\n",
       "      <td>44615</td>\n",
       "      <td>0.731829</td>\n",
       "      <td>44615.731829</td>\n",
       "      <td>4.250000e+00</td>\n",
       "      <td>1378.00</td>\n",
       "      <td>1378.00</td>\n",
       "      <td></td>\n",
       "      <td></td>\n",
       "      <td></td>\n",
       "      <td></td>\n",
       "      <td></td>\n",
       "      <td>NaN</td>\n",
       "      <td>NaN</td>\n",
       "      <td>10.0</td>\n",
       "      <td>NaN</td>\n",
       "      <td>Wash Up/Down</td>\n",
       "      <td>Drilling Formation</td>\n",
       "    </tr>\n",
       "    <tr>\n",
       "      <th>75</th>\n",
       "      <td>44615</td>\n",
       "      <td>0.734780</td>\n",
       "      <td>44615.734780</td>\n",
       "      <td>5.325000e+01</td>\n",
       "      <td>1386.14</td>\n",
       "      <td>1385.76</td>\n",
       "      <td>8.14</td>\n",
       "      <td></td>\n",
       "      <td>0.036979</td>\n",
       "      <td></td>\n",
       "      <td></td>\n",
       "      <td>NaN</td>\n",
       "      <td>NaN</td>\n",
       "      <td>10.0</td>\n",
       "      <td>NaN</td>\n",
       "      <td>Slide Drilling</td>\n",
       "      <td>Drilling Formation</td>\n",
       "    </tr>\n",
       "    <tr>\n",
       "      <th>76</th>\n",
       "      <td>44615</td>\n",
       "      <td>0.771759</td>\n",
       "      <td>44615.771759</td>\n",
       "      <td>2.583333e+00</td>\n",
       "      <td>1386.14</td>\n",
       "      <td>1376.28</td>\n",
       "      <td></td>\n",
       "      <td></td>\n",
       "      <td></td>\n",
       "      <td></td>\n",
       "      <td></td>\n",
       "      <td>NaN</td>\n",
       "      <td>NaN</td>\n",
       "      <td>10.0</td>\n",
       "      <td>NaN</td>\n",
       "      <td>Wash Up/Down</td>\n",
       "      <td>Drilling Formation</td>\n",
       "    </tr>\n",
       "    <tr>\n",
       "      <th>77</th>\n",
       "      <td>44615</td>\n",
       "      <td>0.773553</td>\n",
       "      <td>44615.773553</td>\n",
       "      <td>4.916667e+00</td>\n",
       "      <td>1386.14</td>\n",
       "      <td>1386.14</td>\n",
       "      <td></td>\n",
       "      <td></td>\n",
       "      <td></td>\n",
       "      <td>0.003414</td>\n",
       "      <td></td>\n",
       "      <td>NaN</td>\n",
       "      <td>NaN</td>\n",
       "      <td>10.0</td>\n",
       "      <td>NaN</td>\n",
       "      <td>Reaming</td>\n",
       "      <td>Drilling Formation</td>\n",
       "    </tr>\n",
       "    <tr>\n",
       "      <th>78</th>\n",
       "      <td>44615</td>\n",
       "      <td>0.776968</td>\n",
       "      <td>44615.776968</td>\n",
       "      <td>1.271000e+02</td>\n",
       "      <td>1404.59</td>\n",
       "      <td>1404.01</td>\n",
       "      <td>18.45</td>\n",
       "      <td>0.088264</td>\n",
       "      <td></td>\n",
       "      <td></td>\n",
       "      <td></td>\n",
       "      <td>NaN</td>\n",
       "      <td>NaN</td>\n",
       "      <td>10.0</td>\n",
       "      <td>NaN</td>\n",
       "      <td>Rotary Drilling</td>\n",
       "      <td>Drilling Formation</td>\n",
       "    </tr>\n",
       "    <tr>\n",
       "      <th>79</th>\n",
       "      <td>44615</td>\n",
       "      <td>0.865231</td>\n",
       "      <td>44615.865231</td>\n",
       "      <td>1.283333e+01</td>\n",
       "      <td>1404.59</td>\n",
       "      <td>1403.37</td>\n",
       "      <td></td>\n",
       "      <td></td>\n",
       "      <td></td>\n",
       "      <td>0.008912</td>\n",
       "      <td></td>\n",
       "      <td>NaN</td>\n",
       "      <td>NaN</td>\n",
       "      <td>10.0</td>\n",
       "      <td>NaN</td>\n",
       "      <td>Reaming</td>\n",
       "      <td>Drilling Formation</td>\n",
       "    </tr>\n",
       "    <tr>\n",
       "      <th>80</th>\n",
       "      <td>44615</td>\n",
       "      <td>0.874144</td>\n",
       "      <td>44615.874144</td>\n",
       "      <td>5.083333e+00</td>\n",
       "      <td>1404.59</td>\n",
       "      <td>1403.22</td>\n",
       "      <td></td>\n",
       "      <td></td>\n",
       "      <td></td>\n",
       "      <td></td>\n",
       "      <td></td>\n",
       "      <td>NaN</td>\n",
       "      <td>NaN</td>\n",
       "      <td>10.0</td>\n",
       "      <td>NaN</td>\n",
       "      <td>Wash Up/Down</td>\n",
       "      <td>Drilling Formation</td>\n",
       "    </tr>\n",
       "    <tr>\n",
       "      <th>81</th>\n",
       "      <td>44615</td>\n",
       "      <td>0.877674</td>\n",
       "      <td>44615.877674</td>\n",
       "      <td>5.991667e+01</td>\n",
       "      <td>1404.59</td>\n",
       "      <td>1376.32</td>\n",
       "      <td></td>\n",
       "      <td></td>\n",
       "      <td></td>\n",
       "      <td>0.041609</td>\n",
       "      <td></td>\n",
       "      <td>NaN</td>\n",
       "      <td>NaN</td>\n",
       "      <td>10.0</td>\n",
       "      <td>NaN</td>\n",
       "      <td>Reaming</td>\n",
       "      <td>Drilling Formation</td>\n",
       "    </tr>\n",
       "    <tr>\n",
       "      <th>82</th>\n",
       "      <td>44615</td>\n",
       "      <td>0.919282</td>\n",
       "      <td>44615.919282</td>\n",
       "      <td>2.583333e+00</td>\n",
       "      <td>1404.59</td>\n",
       "      <td>1374.43</td>\n",
       "      <td></td>\n",
       "      <td></td>\n",
       "      <td></td>\n",
       "      <td></td>\n",
       "      <td></td>\n",
       "      <td>NaN</td>\n",
       "      <td>NaN</td>\n",
       "      <td>10.0</td>\n",
       "      <td>Pre Connection</td>\n",
       "      <td>Wash Up/Down</td>\n",
       "      <td>Drilling Formation</td>\n",
       "    </tr>\n",
       "    <tr>\n",
       "      <th>83</th>\n",
       "      <td>44615</td>\n",
       "      <td>0.921076</td>\n",
       "      <td>44615.921076</td>\n",
       "      <td>5.016667e+00</td>\n",
       "      <td>1404.59</td>\n",
       "      <td>1373.38</td>\n",
       "      <td>29.52</td>\n",
       "      <td></td>\n",
       "      <td></td>\n",
       "      <td></td>\n",
       "      <td>0.003484</td>\n",
       "      <td>0.141447</td>\n",
       "      <td>0.200486</td>\n",
       "      <td>10.0</td>\n",
       "      <td>Connection</td>\n",
       "      <td>Connection</td>\n",
       "      <td>Drilling Formation</td>\n",
       "    </tr>\n",
       "    <tr>\n",
       "      <th>84</th>\n",
       "      <td>44615</td>\n",
       "      <td>0.924560</td>\n",
       "      <td>44615.924560</td>\n",
       "      <td>-6.424693e+07</td>\n",
       "      <td>NaN</td>\n",
       "      <td>NaN</td>\n",
       "      <td></td>\n",
       "      <td></td>\n",
       "      <td></td>\n",
       "      <td></td>\n",
       "      <td></td>\n",
       "      <td>NaN</td>\n",
       "      <td>NaN</td>\n",
       "      <td>NaN</td>\n",
       "      <td>Post Connection</td>\n",
       "      <td>Moving</td>\n",
       "      <td>Drilling Formation</td>\n",
       "    </tr>\n",
       "  </tbody>\n",
       "</table>\n",
       "</div>"
      ],
      "text/plain": [
       "     Date      Time     Date/Time      Duration  Hole Depth  Bit Depth  \\\n",
       "0   44614  0.291678  44614.291678  8.333333e-01     1109.33    1109.33   \n",
       "1   44614  0.292257  44614.292257  2.416667e+01     1124.00    1124.00   \n",
       "2   44614  0.309039  44614.309039  1.575000e+01     1124.01    1124.01   \n",
       "3   44614  0.319977  44614.319977  4.710000e+01     1132.00    1131.64   \n",
       "4   44614  0.352685  44614.352685  5.085000e+01     1132.01    1108.53   \n",
       "5   44614  0.387998  44614.387998  5.166667e+00     1132.01    1108.67   \n",
       "6   44614  0.391586  44614.391586  5.128333e+01     1132.01    1108.91   \n",
       "7   44614  0.427199  44614.427199  6.368333e+01     1132.01    1108.91   \n",
       "8   44614  0.471424  44614.471424  5.083333e+00     1132.43    1132.43   \n",
       "9   44614  0.474954  44614.474954  4.923333e+01     1138.42    1138.28   \n",
       "10  44614  0.509144  44614.509144  1.175000e+01     1138.42    1138.35   \n",
       "11  44614  0.517303  44614.517303  1.916667e+00     1138.42    1138.35   \n",
       "12  44614  0.518634  44614.518634  6.833333e+00     1138.42    1138.42   \n",
       "13  44614  0.523380  44614.523380  4.791667e+01     1145.78    1144.93   \n",
       "14  44614  0.556655  44614.556655  1.091667e+01     1145.92    1145.92   \n",
       "15  44614  0.564236  44614.564236  1.315167e+02     1168.22    1168.08   \n",
       "16  44614  0.655567  44614.655567  2.341667e+01     1168.22    1168.10   \n",
       "17  44614  0.671829  44614.671829  3.500000e+00     1168.22    1167.74   \n",
       "18  44614  0.674259  44614.674259  2.583333e+00     1168.26    1168.26   \n",
       "19  44614  0.676053  44614.676053  1.275667e+02     1198.03    1197.83   \n",
       "20  44614  0.764641  44614.764641  1.808333e+01     1198.03    1197.88   \n",
       "21  44614  0.777199  44614.777199  3.083333e+00     1198.03    1197.38   \n",
       "22  44614  0.779340  44614.779340  6.916667e+00     1198.03    1198.03   \n",
       "23  44614  0.784144  44614.784144  1.296667e+02     1227.64    1226.77   \n",
       "24  44614  0.874190  44614.874190  2.516667e+01     1227.64    1224.35   \n",
       "25  44614  0.891667  44614.891667  2.916667e+00     1227.64    1227.01   \n",
       "26  44614  0.893692  44614.893692  1.941667e+01     1227.64    1227.64   \n",
       "27  44614  0.907176  44614.907176  1.691667e+01     1230.48    1230.14   \n",
       "28  44614  0.918924  44614.918924  7.500000e-01     1230.49    1230.49   \n",
       "29  44614  0.919444  44614.919444  1.473333e+02     1257.24    1257.24   \n",
       "30  44615  0.021759  44615.021759  2.558333e+01     1257.24    1257.24   \n",
       "31  44615  0.039525  44615.039525  2.833333e+00     1257.24    1257.24   \n",
       "32  44615  0.041493  44615.041493  1.258333e+01     1257.24    1257.24   \n",
       "33  44615  0.050231  44615.050231  1.485000e+01     1258.29    1257.91   \n",
       "34  44615  0.060544  44615.060544  6.666667e-01     1258.30    1258.30   \n",
       "35  44615  0.061007  44615.061007  2.064000e+02     1286.74    1286.72   \n",
       "36  44615  0.204340  44615.204340  1.650000e+01     1286.74    1282.35   \n",
       "37  44615  0.215799  44615.215799  2.500000e+00     1286.74    1286.48   \n",
       "38  44615  0.217535  44615.217535  2.916667e+00     1286.74    1285.90   \n",
       "39  44615  0.219560  44615.219560  3.916667e+00     1286.74    1285.90   \n",
       "40  44615  0.222280  44615.222280  1.166667e+00     1286.76    1286.76   \n",
       "41  44615  0.223090  44615.223090  2.833333e+00     1287.09    1286.84   \n",
       "42  44615  0.225058  44615.225058  3.416667e+00     1287.09    1287.08   \n",
       "43  44615  0.227431  44615.227431  1.583333e+01     1289.01    1288.53   \n",
       "44  44615  0.238426  44615.238426  6.666667e-01     1289.01    1286.20   \n",
       "45  44615  0.238889  44615.238889  1.300000e+01     1289.09    1289.09   \n",
       "46  44615  0.247917  44615.247917  5.406667e+01     1296.00    1295.67   \n",
       "47  44615  0.285463  44615.285463  2.666667e+00     1296.00    1294.70   \n",
       "48  44615  0.287315  44615.287315  2.750000e+00     1296.01    1296.01   \n",
       "49  44615  0.289225  44615.289225  1.251667e+02     1316.30    1316.12   \n",
       "50  44615  0.376146  44615.376146  2.200000e+01     1316.30    1309.68   \n",
       "51  44615  0.391424  44615.391424  6.916667e+00     1316.30    1316.03   \n",
       "52  44615  0.396227  44615.396227  6.000000e+00     1316.30    1315.65   \n",
       "53  44615  0.400394  44615.400394  6.666667e+00     1316.27    1316.27   \n",
       "54  44615  0.405023  44615.405023  4.616667e+01     1322.79    1322.24   \n",
       "55  44615  0.437083  44615.437083  3.083333e+00     1322.79    1322.79   \n",
       "56  44615  0.439225  44615.439225  2.441667e+01     1326.44    1316.58   \n",
       "57  44615  0.456181  44615.456181  5.666667e+00     1326.44    1326.44   \n",
       "58  44615  0.460116  44615.460116  4.666667e+00     1327.28    1325.25   \n",
       "59  44615  0.463356  44615.463356  6.166667e+00     1327.29    1327.29   \n",
       "60  44615  0.467639  44615.467639  1.035833e+02     1345.79    1345.57   \n",
       "61  44615  0.539572  44615.539572  1.383333e+01     1345.79    1342.70   \n",
       "62  44615  0.549178  44615.549178  7.500000e-01     1345.79    1345.72   \n",
       "63  44615  0.549699  44615.549699  4.166667e+00     1345.79    1345.01   \n",
       "64  44615  0.552593  44615.552593  3.166667e+00     1345.78    1345.78   \n",
       "65  44615  0.554792  44615.554792  1.436833e+02     1366.33    1365.96   \n",
       "66  44615  0.654572  44615.654572  8.833333e+00     1366.33    1366.33   \n",
       "67  44615  0.660706  44615.660706  5.650000e+01     1375.07    1374.70   \n",
       "68  44615  0.699942  44615.699942  1.441667e+01     1375.07    1372.74   \n",
       "69  44615  0.709954  44615.709954  1.583333e+00     1375.07    1374.85   \n",
       "70  44615  0.711053  44615.711053  2.083333e+00     1375.07    1374.66   \n",
       "71  44615  0.712500  44615.712500  2.166667e+00     1375.07    1374.38   \n",
       "72  44615  0.714005  44615.714005  2.333333e+00     1375.07    1375.07   \n",
       "73  44615  0.715625  44615.715625  2.333333e+01     1378.00    1376.40   \n",
       "74  44615  0.731829  44615.731829  4.250000e+00     1378.00    1378.00   \n",
       "75  44615  0.734780  44615.734780  5.325000e+01     1386.14    1385.76   \n",
       "76  44615  0.771759  44615.771759  2.583333e+00     1386.14    1376.28   \n",
       "77  44615  0.773553  44615.773553  4.916667e+00     1386.14    1386.14   \n",
       "78  44615  0.776968  44615.776968  1.271000e+02     1404.59    1404.01   \n",
       "79  44615  0.865231  44615.865231  1.283333e+01     1404.59    1403.37   \n",
       "80  44615  0.874144  44615.874144  5.083333e+00     1404.59    1403.22   \n",
       "81  44615  0.877674  44615.877674  5.991667e+01     1404.59    1376.32   \n",
       "82  44615  0.919282  44615.919282  2.583333e+00     1404.59    1374.43   \n",
       "83  44615  0.921076  44615.921076  5.016667e+00     1404.59    1373.38   \n",
       "84  44615  0.924560  44615.924560 -6.424693e+07         NaN        NaN   \n",
       "\n",
       "   Meterage (m) (Drilling) Rotate Drilling Time (hrs)  \\\n",
       "0                                                       \n",
       "1                    14.67                   0.016782   \n",
       "2                                                       \n",
       "3                     7.99                   0.032708   \n",
       "4                                                       \n",
       "5                                                       \n",
       "6                                                       \n",
       "7                                                       \n",
       "8                                                       \n",
       "9                     5.99                    0.03419   \n",
       "10                                                      \n",
       "11                       6                              \n",
       "12                                                      \n",
       "13                    7.36                   0.033275   \n",
       "14                                                      \n",
       "15                    22.3                   0.091331   \n",
       "16                                                      \n",
       "17                   29.66                              \n",
       "18                                                      \n",
       "19                   29.77                   0.088588   \n",
       "20                                                      \n",
       "21                   29.77                              \n",
       "22                                                      \n",
       "23                   29.61                   0.090046   \n",
       "24                                                      \n",
       "25                   29.61                              \n",
       "26                                                      \n",
       "27                    2.84                   0.011748   \n",
       "28                                                      \n",
       "29                   26.75                   0.102315   \n",
       "30                                                      \n",
       "31                   29.59                        NaN   \n",
       "32                                                      \n",
       "33                    1.05                   0.010313   \n",
       "34                                                      \n",
       "35                   28.44                   0.143333   \n",
       "36                                                      \n",
       "37                                                      \n",
       "38                   29.49                              \n",
       "39                                                      \n",
       "40                                                      \n",
       "41                    0.33                   0.001968   \n",
       "42                                                      \n",
       "43                    1.92                   0.010995   \n",
       "44                                                      \n",
       "45                                                      \n",
       "46                    6.91                              \n",
       "47                                                      \n",
       "48                                                      \n",
       "49                   20.29                   0.086921   \n",
       "50                                                      \n",
       "51                                                      \n",
       "52                   29.45                              \n",
       "53                                                      \n",
       "54                    6.52                    0.03206   \n",
       "55                                                      \n",
       "56                    3.65                   0.016956   \n",
       "57                                                      \n",
       "58                    0.84                   0.003241   \n",
       "59                                                      \n",
       "60                    18.5                   0.071933   \n",
       "61                                                      \n",
       "62                                                      \n",
       "63                   29.51                              \n",
       "64                                                      \n",
       "65                   20.55                    0.09978   \n",
       "66                                                      \n",
       "67                    8.74                   0.039236   \n",
       "68                                                      \n",
       "69                                                      \n",
       "70                   29.29                              \n",
       "71                                                      \n",
       "72                                                      \n",
       "73                    2.93                   0.016204   \n",
       "74                                                      \n",
       "75                    8.14                              \n",
       "76                                                      \n",
       "77                                                      \n",
       "78                   18.45                   0.088264   \n",
       "79                                                      \n",
       "80                                                      \n",
       "81                                                      \n",
       "82                                                      \n",
       "83                   29.52                              \n",
       "84                                                      \n",
       "\n",
       "   Slide Drilling Time (hrs) Reaming Time (hrs) Connection Time (hrs)  \\\n",
       "0                                      0.000579                         \n",
       "1                                                                       \n",
       "2                                      0.010938                         \n",
       "3                                                                       \n",
       "4                                      0.035312                         \n",
       "5                                                            0.003588   \n",
       "6                                                                       \n",
       "7                                                            0.044225   \n",
       "8                                       0.00353                         \n",
       "9                                                                       \n",
       "10                                      0.00816                         \n",
       "11                                                           0.001331   \n",
       "12                                     0.004745                         \n",
       "13                                                                      \n",
       "14                                     0.007581                         \n",
       "15                                                                      \n",
       "16                                     0.016262                         \n",
       "17                                                           0.002431   \n",
       "18                                     0.001794                         \n",
       "19                                                                      \n",
       "20                                     0.012558                         \n",
       "21                                                           0.002141   \n",
       "22                                     0.004803                         \n",
       "23                                                                      \n",
       "24                                     0.017477                         \n",
       "25                                                           0.002025   \n",
       "26                                     0.013484                         \n",
       "27                                                                      \n",
       "28                                     0.000521                         \n",
       "29                                                                      \n",
       "30                                     0.017766                         \n",
       "31                                          NaN              0.001968   \n",
       "32                                     0.008738                         \n",
       "33                                                                      \n",
       "34                                     0.000463                         \n",
       "35                                                                      \n",
       "36                                     0.011458                         \n",
       "37                                                                      \n",
       "38                                                           0.002025   \n",
       "39                                                                      \n",
       "40                                      0.00081                         \n",
       "41                                                                      \n",
       "42                                     0.002373                         \n",
       "43                                                                      \n",
       "44                                     0.000463                         \n",
       "45                                                                      \n",
       "46                  0.037546                                            \n",
       "47                                                                      \n",
       "48                                      0.00191                         \n",
       "49                                                                      \n",
       "50                                     0.015278                         \n",
       "51                                                                      \n",
       "52                                                           0.004167   \n",
       "53                                      0.00463                         \n",
       "54                                                                      \n",
       "55                                     0.002141                         \n",
       "56                                                                      \n",
       "57                                     0.003935                         \n",
       "58                                                                      \n",
       "59                                     0.004282                         \n",
       "60                                                                      \n",
       "61                                     0.009606                         \n",
       "62                                                                      \n",
       "63                                                           0.002894   \n",
       "64                                     0.002199                         \n",
       "65                                                                      \n",
       "66                                     0.006134                         \n",
       "67                                                                      \n",
       "68                                     0.010012                         \n",
       "69                                                                      \n",
       "70                                                           0.001447   \n",
       "71                                                                      \n",
       "72                                      0.00162                         \n",
       "73                                                                      \n",
       "74                                                                      \n",
       "75                  0.036979                                            \n",
       "76                                                                      \n",
       "77                                     0.003414                         \n",
       "78                                                                      \n",
       "79                                     0.008912                         \n",
       "80                                                                      \n",
       "81                                     0.041609                         \n",
       "82                                                                      \n",
       "83                                                           0.003484   \n",
       "84                                                                      \n",
       "\n",
       "    On Bottom Hours  Stand Duration (hrs)  Stand Group Connection Activity  \\\n",
       "0               NaN                   NaN          NaN                 NaN   \n",
       "1               NaN                   NaN          NaN                 NaN   \n",
       "2               NaN                   NaN          NaN                 NaN   \n",
       "3               NaN                   NaN          NaN                 NaN   \n",
       "4               NaN                   NaN          NaN                 NaN   \n",
       "5               NaN                   NaN          NaN                 NaN   \n",
       "6               NaN                   NaN          NaN                 NaN   \n",
       "7               NaN                   NaN          NaN                 NaN   \n",
       "8               NaN                   NaN          1.0                 NaN   \n",
       "9               NaN                   NaN          1.0                 NaN   \n",
       "10              NaN                   NaN          1.0      Pre Connection   \n",
       "11         0.034190              0.047211          1.0          Connection   \n",
       "12              NaN                   NaN          2.0     Post Connection   \n",
       "13              NaN                   NaN          2.0                 NaN   \n",
       "14              NaN                   NaN          2.0                 NaN   \n",
       "15              NaN                   NaN          2.0                 NaN   \n",
       "16              NaN                   NaN          2.0      Pre Connection   \n",
       "17         0.124606              0.155625          2.0          Connection   \n",
       "18              NaN                   NaN          3.0     Post Connection   \n",
       "19              NaN                   NaN          3.0                 NaN   \n",
       "20              NaN                   NaN          3.0      Pre Connection   \n",
       "21         0.088588              0.105081          3.0          Connection   \n",
       "22              NaN                   NaN          4.0     Post Connection   \n",
       "23              NaN                   NaN          4.0                 NaN   \n",
       "24              NaN                   NaN          4.0      Pre Connection   \n",
       "25         0.090046              0.114352          4.0          Connection   \n",
       "26              NaN                   NaN          5.0     Post Connection   \n",
       "27              NaN                   NaN          5.0                 NaN   \n",
       "28              NaN                   NaN          5.0                 NaN   \n",
       "29              NaN                   NaN          5.0                 NaN   \n",
       "30              NaN                   NaN          5.0      Pre Connection   \n",
       "31         0.114063              0.147801          5.0          Connection   \n",
       "32              NaN                   NaN          6.0     Post Connection   \n",
       "33              NaN                   NaN          6.0                 NaN   \n",
       "34              NaN                   NaN          6.0                 NaN   \n",
       "35              NaN                   NaN          6.0                 NaN   \n",
       "36              NaN                   NaN          6.0                 NaN   \n",
       "37              NaN                   NaN          6.0      Pre Connection   \n",
       "38         0.153646              0.176331          6.0          Connection   \n",
       "39              NaN                   NaN          7.0     Post Connection   \n",
       "40              NaN                   NaN          7.0                 NaN   \n",
       "41              NaN                   NaN          7.0                 NaN   \n",
       "42              NaN                   NaN          7.0                 NaN   \n",
       "43              NaN                   NaN          7.0                 NaN   \n",
       "44              NaN                   NaN          7.0                 NaN   \n",
       "45              NaN                   NaN          7.0                 NaN   \n",
       "46              NaN                   NaN          7.0                 NaN   \n",
       "47              NaN                   NaN          7.0                 NaN   \n",
       "48              NaN                   NaN          7.0                 NaN   \n",
       "49              NaN                   NaN          7.0                 NaN   \n",
       "50              NaN                   NaN          7.0                 NaN   \n",
       "51              NaN                   NaN          7.0      Pre Connection   \n",
       "52         0.137431              0.162431          7.0          Connection   \n",
       "53              NaN                   NaN          8.0     Post Connection   \n",
       "54              NaN                   NaN          8.0                 NaN   \n",
       "55              NaN                   NaN          8.0                 NaN   \n",
       "56              NaN                   NaN          8.0                 NaN   \n",
       "57              NaN                   NaN          8.0                 NaN   \n",
       "58              NaN                   NaN          8.0                 NaN   \n",
       "59              NaN                   NaN          8.0                 NaN   \n",
       "60              NaN                   NaN          8.0                 NaN   \n",
       "61              NaN                   NaN          8.0                 NaN   \n",
       "62              NaN                   NaN          8.0      Pre Connection   \n",
       "63         0.124190              0.151678          8.0          Connection   \n",
       "64              NaN                   NaN          9.0     Post Connection   \n",
       "65              NaN                   NaN          9.0                 NaN   \n",
       "66              NaN                   NaN          9.0                 NaN   \n",
       "67              NaN                   NaN          9.0                 NaN   \n",
       "68              NaN                   NaN          9.0                 NaN   \n",
       "69              NaN                   NaN          9.0      Pre Connection   \n",
       "70         0.139016              0.158808          9.0          Connection   \n",
       "71              NaN                   NaN         10.0     Post Connection   \n",
       "72              NaN                   NaN         10.0                 NaN   \n",
       "73              NaN                   NaN         10.0                 NaN   \n",
       "74              NaN                   NaN         10.0                 NaN   \n",
       "75              NaN                   NaN         10.0                 NaN   \n",
       "76              NaN                   NaN         10.0                 NaN   \n",
       "77              NaN                   NaN         10.0                 NaN   \n",
       "78              NaN                   NaN         10.0                 NaN   \n",
       "79              NaN                   NaN         10.0                 NaN   \n",
       "80              NaN                   NaN         10.0                 NaN   \n",
       "81              NaN                   NaN         10.0                 NaN   \n",
       "82              NaN                   NaN         10.0      Pre Connection   \n",
       "83         0.141447              0.200486         10.0          Connection   \n",
       "84              NaN                   NaN          NaN     Post Connection   \n",
       "\n",
       "       Sub Activity            Activity  \n",
       "0           Reaming  Drilling Formation  \n",
       "1   Rotary Drilling  Drilling Formation  \n",
       "2           Reaming  Drilling Formation  \n",
       "3   Rotary Drilling  Drilling Formation  \n",
       "4           Reaming  Drilling Formation  \n",
       "5        Connection  Drilling Formation  \n",
       "6        Stationary  Drilling Formation  \n",
       "7        Connection  Drilling Formation  \n",
       "8           Reaming  Drilling Formation  \n",
       "9   Rotary Drilling  Drilling Formation  \n",
       "10          Reaming  Drilling Formation  \n",
       "11       Connection  Drilling Formation  \n",
       "12          Reaming  Drilling Formation  \n",
       "13  Rotary Drilling  Drilling Formation  \n",
       "14          Reaming  Drilling Formation  \n",
       "15  Rotary Drilling  Drilling Formation  \n",
       "16          Reaming  Drilling Formation  \n",
       "17       Connection  Drilling Formation  \n",
       "18          Reaming  Drilling Formation  \n",
       "19  Rotary Drilling  Drilling Formation  \n",
       "20          Reaming  Drilling Formation  \n",
       "21       Connection  Drilling Formation  \n",
       "22          Reaming  Drilling Formation  \n",
       "23  Rotary Drilling  Drilling Formation  \n",
       "24          Reaming  Drilling Formation  \n",
       "25       Connection  Drilling Formation  \n",
       "26          Reaming  Drilling Formation  \n",
       "27  Rotary Drilling  Drilling Formation  \n",
       "28          Reaming  Drilling Formation  \n",
       "29  Rotary Drilling  Drilling Formation  \n",
       "30          Reaming  Drilling Formation  \n",
       "31       Connection  Drilling Formation  \n",
       "32          Reaming  Drilling Formation  \n",
       "33  Rotary Drilling  Drilling Formation  \n",
       "34          Reaming  Drilling Formation  \n",
       "35  Rotary Drilling  Drilling Formation  \n",
       "36          Reaming  Drilling Formation  \n",
       "37     Wash Up/Down  Drilling Formation  \n",
       "38       Connection  Drilling Formation  \n",
       "39     Wash Up/Down  Drilling Formation  \n",
       "40          Reaming  Drilling Formation  \n",
       "41  Rotary Drilling  Drilling Formation  \n",
       "42          Reaming  Drilling Formation  \n",
       "43  Rotary Drilling  Drilling Formation  \n",
       "44          Reaming  Drilling Formation  \n",
       "45     Wash Up/Down  Drilling Formation  \n",
       "46   Slide Drilling  Drilling Formation  \n",
       "47     Wash Up/Down  Drilling Formation  \n",
       "48          Reaming  Drilling Formation  \n",
       "49  Rotary Drilling  Drilling Formation  \n",
       "50          Reaming  Drilling Formation  \n",
       "51     Wash Up/Down  Drilling Formation  \n",
       "52       Connection  Drilling Formation  \n",
       "53          Reaming  Drilling Formation  \n",
       "54  Rotary Drilling  Drilling Formation  \n",
       "55          Reaming  Drilling Formation  \n",
       "56  Rotary Drilling  Drilling Formation  \n",
       "57          Reaming  Drilling Formation  \n",
       "58  Rotary Drilling  Drilling Formation  \n",
       "59          Reaming  Drilling Formation  \n",
       "60  Rotary Drilling  Drilling Formation  \n",
       "61          Reaming  Drilling Formation  \n",
       "62     Wash Up/Down  Drilling Formation  \n",
       "63       Connection  Drilling Formation  \n",
       "64          Reaming  Drilling Formation  \n",
       "65  Rotary Drilling  Drilling Formation  \n",
       "66          Reaming  Drilling Formation  \n",
       "67  Rotary Drilling  Drilling Formation  \n",
       "68          Reaming  Drilling Formation  \n",
       "69     Wash Up/Down  Drilling Formation  \n",
       "70       Connection  Drilling Formation  \n",
       "71     Wash Up/Down  Drilling Formation  \n",
       "72          Reaming  Drilling Formation  \n",
       "73  Rotary Drilling  Drilling Formation  \n",
       "74     Wash Up/Down  Drilling Formation  \n",
       "75   Slide Drilling  Drilling Formation  \n",
       "76     Wash Up/Down  Drilling Formation  \n",
       "77          Reaming  Drilling Formation  \n",
       "78  Rotary Drilling  Drilling Formation  \n",
       "79          Reaming  Drilling Formation  \n",
       "80     Wash Up/Down  Drilling Formation  \n",
       "81          Reaming  Drilling Formation  \n",
       "82     Wash Up/Down  Drilling Formation  \n",
       "83       Connection  Drilling Formation  \n",
       "84           Moving  Drilling Formation  "
      ]
     },
     "execution_count": 25,
     "metadata": {},
     "output_type": "execute_result"
    }
   ],
   "source": [
    "MasterReport_DF = pd.read_excel('Data\\\\Master_Report\\\\MasterReportTest.xlsx')\n",
    "MasterReport_DF"
   ]
  },
  {
   "cell_type": "code",
   "execution_count": 27,
   "metadata": {},
   "outputs": [
    {
     "data": {
      "text/html": [
       "<div>\n",
       "<style scoped>\n",
       "    .dataframe tbody tr th:only-of-type {\n",
       "        vertical-align: middle;\n",
       "    }\n",
       "\n",
       "    .dataframe tbody tr th {\n",
       "        vertical-align: top;\n",
       "    }\n",
       "\n",
       "    .dataframe thead th {\n",
       "        text-align: right;\n",
       "    }\n",
       "</style>\n",
       "<table border=\"1\" class=\"dataframe\">\n",
       "  <thead>\n",
       "    <tr style=\"text-align: right;\">\n",
       "      <th></th>\n",
       "      <th>Date</th>\n",
       "      <th>Time</th>\n",
       "      <th>Date/Time</th>\n",
       "      <th>Duration</th>\n",
       "      <th>Hole Depth</th>\n",
       "      <th>Bit Depth</th>\n",
       "      <th>Meterage (m) (Drilling)</th>\n",
       "      <th>Rotate Drilling Time (hrs)</th>\n",
       "      <th>Slide Drilling Time (hrs)</th>\n",
       "      <th>Reaming Time (hrs)</th>\n",
       "      <th>Connection Time (hrs)</th>\n",
       "      <th>On Bottom Hours</th>\n",
       "      <th>Stand Duration (hrs)</th>\n",
       "      <th>Stand Group</th>\n",
       "      <th>Connection Activity</th>\n",
       "      <th>Sub Activity</th>\n",
       "      <th>Activity</th>\n",
       "    </tr>\n",
       "  </thead>\n",
       "  <tbody>\n",
       "    <tr>\n",
       "      <th>7</th>\n",
       "      <td>44614</td>\n",
       "      <td>0.427199</td>\n",
       "      <td>44614.427199</td>\n",
       "      <td>63.683333</td>\n",
       "      <td>1132.01</td>\n",
       "      <td>1108.91</td>\n",
       "      <td></td>\n",
       "      <td></td>\n",
       "      <td></td>\n",
       "      <td></td>\n",
       "      <td>0.044225</td>\n",
       "      <td>NaN</td>\n",
       "      <td>NaN</td>\n",
       "      <td>NaN</td>\n",
       "      <td>NaN</td>\n",
       "      <td>Connection</td>\n",
       "      <td>Drilling Formation</td>\n",
       "    </tr>\n",
       "    <tr>\n",
       "      <th>11</th>\n",
       "      <td>44614</td>\n",
       "      <td>0.517303</td>\n",
       "      <td>44614.517303</td>\n",
       "      <td>1.916667</td>\n",
       "      <td>1138.42</td>\n",
       "      <td>1138.35</td>\n",
       "      <td>6</td>\n",
       "      <td></td>\n",
       "      <td></td>\n",
       "      <td></td>\n",
       "      <td>0.001331</td>\n",
       "      <td>0.034190</td>\n",
       "      <td>0.047211</td>\n",
       "      <td>1.0</td>\n",
       "      <td>Connection</td>\n",
       "      <td>Connection</td>\n",
       "      <td>Drilling Formation</td>\n",
       "    </tr>\n",
       "    <tr>\n",
       "      <th>17</th>\n",
       "      <td>44614</td>\n",
       "      <td>0.671829</td>\n",
       "      <td>44614.671829</td>\n",
       "      <td>3.500000</td>\n",
       "      <td>1168.22</td>\n",
       "      <td>1167.74</td>\n",
       "      <td>29.66</td>\n",
       "      <td></td>\n",
       "      <td></td>\n",
       "      <td></td>\n",
       "      <td>0.002431</td>\n",
       "      <td>0.124606</td>\n",
       "      <td>0.155625</td>\n",
       "      <td>2.0</td>\n",
       "      <td>Connection</td>\n",
       "      <td>Connection</td>\n",
       "      <td>Drilling Formation</td>\n",
       "    </tr>\n",
       "    <tr>\n",
       "      <th>21</th>\n",
       "      <td>44614</td>\n",
       "      <td>0.777199</td>\n",
       "      <td>44614.777199</td>\n",
       "      <td>3.083333</td>\n",
       "      <td>1198.03</td>\n",
       "      <td>1197.38</td>\n",
       "      <td>29.77</td>\n",
       "      <td></td>\n",
       "      <td></td>\n",
       "      <td></td>\n",
       "      <td>0.002141</td>\n",
       "      <td>0.088588</td>\n",
       "      <td>0.105081</td>\n",
       "      <td>3.0</td>\n",
       "      <td>Connection</td>\n",
       "      <td>Connection</td>\n",
       "      <td>Drilling Formation</td>\n",
       "    </tr>\n",
       "    <tr>\n",
       "      <th>25</th>\n",
       "      <td>44614</td>\n",
       "      <td>0.891667</td>\n",
       "      <td>44614.891667</td>\n",
       "      <td>2.916667</td>\n",
       "      <td>1227.64</td>\n",
       "      <td>1227.01</td>\n",
       "      <td>29.61</td>\n",
       "      <td></td>\n",
       "      <td></td>\n",
       "      <td></td>\n",
       "      <td>0.002025</td>\n",
       "      <td>0.090046</td>\n",
       "      <td>0.114352</td>\n",
       "      <td>4.0</td>\n",
       "      <td>Connection</td>\n",
       "      <td>Connection</td>\n",
       "      <td>Drilling Formation</td>\n",
       "    </tr>\n",
       "    <tr>\n",
       "      <th>31</th>\n",
       "      <td>44615</td>\n",
       "      <td>0.039525</td>\n",
       "      <td>44615.039525</td>\n",
       "      <td>2.833333</td>\n",
       "      <td>1257.24</td>\n",
       "      <td>1257.24</td>\n",
       "      <td>29.59</td>\n",
       "      <td>NaN</td>\n",
       "      <td></td>\n",
       "      <td>NaN</td>\n",
       "      <td>0.001968</td>\n",
       "      <td>0.114063</td>\n",
       "      <td>0.147801</td>\n",
       "      <td>5.0</td>\n",
       "      <td>Connection</td>\n",
       "      <td>Connection</td>\n",
       "      <td>Drilling Formation</td>\n",
       "    </tr>\n",
       "    <tr>\n",
       "      <th>52</th>\n",
       "      <td>44615</td>\n",
       "      <td>0.396227</td>\n",
       "      <td>44615.396227</td>\n",
       "      <td>6.000000</td>\n",
       "      <td>1316.30</td>\n",
       "      <td>1315.65</td>\n",
       "      <td>29.45</td>\n",
       "      <td></td>\n",
       "      <td></td>\n",
       "      <td></td>\n",
       "      <td>0.004167</td>\n",
       "      <td>0.137431</td>\n",
       "      <td>0.162431</td>\n",
       "      <td>7.0</td>\n",
       "      <td>Connection</td>\n",
       "      <td>Connection</td>\n",
       "      <td>Drilling Formation</td>\n",
       "    </tr>\n",
       "    <tr>\n",
       "      <th>63</th>\n",
       "      <td>44615</td>\n",
       "      <td>0.549699</td>\n",
       "      <td>44615.549699</td>\n",
       "      <td>4.166667</td>\n",
       "      <td>1345.79</td>\n",
       "      <td>1345.01</td>\n",
       "      <td>29.51</td>\n",
       "      <td></td>\n",
       "      <td></td>\n",
       "      <td></td>\n",
       "      <td>0.002894</td>\n",
       "      <td>0.124190</td>\n",
       "      <td>0.151678</td>\n",
       "      <td>8.0</td>\n",
       "      <td>Connection</td>\n",
       "      <td>Connection</td>\n",
       "      <td>Drilling Formation</td>\n",
       "    </tr>\n",
       "  </tbody>\n",
       "</table>\n",
       "</div>"
      ],
      "text/plain": [
       "     Date      Time     Date/Time   Duration  Hole Depth  Bit Depth  \\\n",
       "7   44614  0.427199  44614.427199  63.683333     1132.01    1108.91   \n",
       "11  44614  0.517303  44614.517303   1.916667     1138.42    1138.35   \n",
       "17  44614  0.671829  44614.671829   3.500000     1168.22    1167.74   \n",
       "21  44614  0.777199  44614.777199   3.083333     1198.03    1197.38   \n",
       "25  44614  0.891667  44614.891667   2.916667     1227.64    1227.01   \n",
       "31  44615  0.039525  44615.039525   2.833333     1257.24    1257.24   \n",
       "52  44615  0.396227  44615.396227   6.000000     1316.30    1315.65   \n",
       "63  44615  0.549699  44615.549699   4.166667     1345.79    1345.01   \n",
       "\n",
       "   Meterage (m) (Drilling) Rotate Drilling Time (hrs)  \\\n",
       "7                                                       \n",
       "11                       6                              \n",
       "17                   29.66                              \n",
       "21                   29.77                              \n",
       "25                   29.61                              \n",
       "31                   29.59                        NaN   \n",
       "52                   29.45                              \n",
       "63                   29.51                              \n",
       "\n",
       "   Slide Drilling Time (hrs) Reaming Time (hrs) Connection Time (hrs)  \\\n",
       "7                                                            0.044225   \n",
       "11                                                           0.001331   \n",
       "17                                                           0.002431   \n",
       "21                                                           0.002141   \n",
       "25                                                           0.002025   \n",
       "31                                          NaN              0.001968   \n",
       "52                                                           0.004167   \n",
       "63                                                           0.002894   \n",
       "\n",
       "    On Bottom Hours  Stand Duration (hrs)  Stand Group Connection Activity  \\\n",
       "7               NaN                   NaN          NaN                 NaN   \n",
       "11         0.034190              0.047211          1.0          Connection   \n",
       "17         0.124606              0.155625          2.0          Connection   \n",
       "21         0.088588              0.105081          3.0          Connection   \n",
       "25         0.090046              0.114352          4.0          Connection   \n",
       "31         0.114063              0.147801          5.0          Connection   \n",
       "52         0.137431              0.162431          7.0          Connection   \n",
       "63         0.124190              0.151678          8.0          Connection   \n",
       "\n",
       "   Sub Activity            Activity  \n",
       "7    Connection  Drilling Formation  \n",
       "11   Connection  Drilling Formation  \n",
       "17   Connection  Drilling Formation  \n",
       "21   Connection  Drilling Formation  \n",
       "25   Connection  Drilling Formation  \n",
       "31   Connection  Drilling Formation  \n",
       "52   Connection  Drilling Formation  \n",
       "63   Connection  Drilling Formation  "
      ]
     },
     "execution_count": 27,
     "metadata": {},
     "output_type": "execute_result"
    }
   ],
   "source": [
    "MasterReport_DF[(MasterReport_DF['Sub Activity']=='Connection') & (MasterReport_DF['Sub Activity'].shift(periods=-1)=='Reaming')]"
   ]
  },
  {
   "cell_type": "code",
   "execution_count": 61,
   "metadata": {},
   "outputs": [
    {
     "name": "stdout",
     "output_type": "stream",
     "text": [
      "5\n",
      "7\n",
      "6 - 6\n",
      "11\n",
      "8 - 10\n",
      "17\n",
      "12 - 16\n",
      "21\n",
      "18 - 20\n",
      "25\n",
      "22 - 24\n",
      "31\n",
      "26 - 30\n",
      "38\n",
      "32 - 37\n",
      "52\n",
      "39 - 51\n",
      "63\n",
      "53 - 62\n",
      "70\n",
      "64 - 69\n",
      "83\n",
      "71 - 82\n"
     ]
    },
    {
     "data": {
      "text/html": [
       "<div>\n",
       "<style scoped>\n",
       "    .dataframe tbody tr th:only-of-type {\n",
       "        vertical-align: middle;\n",
       "    }\n",
       "\n",
       "    .dataframe tbody tr th {\n",
       "        vertical-align: top;\n",
       "    }\n",
       "\n",
       "    .dataframe thead th {\n",
       "        text-align: right;\n",
       "    }\n",
       "</style>\n",
       "<table border=\"1\" class=\"dataframe\">\n",
       "  <thead>\n",
       "    <tr style=\"text-align: right;\">\n",
       "      <th></th>\n",
       "      <th>Date</th>\n",
       "      <th>Time</th>\n",
       "      <th>Date/Time</th>\n",
       "      <th>Duration</th>\n",
       "      <th>Hole Depth</th>\n",
       "      <th>Bit Depth</th>\n",
       "      <th>Meterage (m) (Drilling)</th>\n",
       "      <th>Rotate Drilling Time (hrs)</th>\n",
       "      <th>Slide Drilling Time (hrs)</th>\n",
       "      <th>Reaming Time (hrs)</th>\n",
       "      <th>...</th>\n",
       "      <th>On Bottom Hours</th>\n",
       "      <th>Stand Duration (hrs)</th>\n",
       "      <th>Stand Group</th>\n",
       "      <th>Connection Activity</th>\n",
       "      <th>Sub Activity</th>\n",
       "      <th>Activity</th>\n",
       "      <th>Stand Meterage (m) (Drilling)</th>\n",
       "      <th>Stand Stand Duration (hrs)</th>\n",
       "      <th>Stand On Bottom Hours</th>\n",
       "      <th>Stand Group_Pred</th>\n",
       "    </tr>\n",
       "  </thead>\n",
       "  <tbody>\n",
       "    <tr>\n",
       "      <th>0</th>\n",
       "      <td>44614</td>\n",
       "      <td>0.291678</td>\n",
       "      <td>44614.291678</td>\n",
       "      <td>0.833333</td>\n",
       "      <td>1109.33</td>\n",
       "      <td>1109.33</td>\n",
       "      <td>0.00</td>\n",
       "      <td>0.000000</td>\n",
       "      <td>0.0</td>\n",
       "      <td>0.000579</td>\n",
       "      <td>...</td>\n",
       "      <td>0.0</td>\n",
       "      <td>0.0</td>\n",
       "      <td>0.0</td>\n",
       "      <td>0</td>\n",
       "      <td>Reaming</td>\n",
       "      <td>Drilling Formation</td>\n",
       "      <td>0.0</td>\n",
       "      <td>0.000000</td>\n",
       "      <td>0.0</td>\n",
       "      <td>NaN</td>\n",
       "    </tr>\n",
       "    <tr>\n",
       "      <th>1</th>\n",
       "      <td>44614</td>\n",
       "      <td>0.292257</td>\n",
       "      <td>44614.292257</td>\n",
       "      <td>24.166667</td>\n",
       "      <td>1124.00</td>\n",
       "      <td>1124.00</td>\n",
       "      <td>14.67</td>\n",
       "      <td>0.016782</td>\n",
       "      <td>0.0</td>\n",
       "      <td>0.000000</td>\n",
       "      <td>...</td>\n",
       "      <td>0.0</td>\n",
       "      <td>0.0</td>\n",
       "      <td>0.0</td>\n",
       "      <td>0</td>\n",
       "      <td>Rotary Drilling</td>\n",
       "      <td>Drilling Formation</td>\n",
       "      <td>0.0</td>\n",
       "      <td>0.000000</td>\n",
       "      <td>0.0</td>\n",
       "      <td>NaN</td>\n",
       "    </tr>\n",
       "    <tr>\n",
       "      <th>2</th>\n",
       "      <td>44614</td>\n",
       "      <td>0.309039</td>\n",
       "      <td>44614.309039</td>\n",
       "      <td>15.750000</td>\n",
       "      <td>1124.01</td>\n",
       "      <td>1124.01</td>\n",
       "      <td>0.00</td>\n",
       "      <td>0.000000</td>\n",
       "      <td>0.0</td>\n",
       "      <td>0.010938</td>\n",
       "      <td>...</td>\n",
       "      <td>0.0</td>\n",
       "      <td>0.0</td>\n",
       "      <td>0.0</td>\n",
       "      <td>0</td>\n",
       "      <td>Reaming</td>\n",
       "      <td>Drilling Formation</td>\n",
       "      <td>0.0</td>\n",
       "      <td>0.000000</td>\n",
       "      <td>0.0</td>\n",
       "      <td>NaN</td>\n",
       "    </tr>\n",
       "    <tr>\n",
       "      <th>3</th>\n",
       "      <td>44614</td>\n",
       "      <td>0.319977</td>\n",
       "      <td>44614.319977</td>\n",
       "      <td>47.100000</td>\n",
       "      <td>1132.00</td>\n",
       "      <td>1131.64</td>\n",
       "      <td>7.99</td>\n",
       "      <td>0.032708</td>\n",
       "      <td>0.0</td>\n",
       "      <td>0.000000</td>\n",
       "      <td>...</td>\n",
       "      <td>0.0</td>\n",
       "      <td>0.0</td>\n",
       "      <td>0.0</td>\n",
       "      <td>0</td>\n",
       "      <td>Rotary Drilling</td>\n",
       "      <td>Drilling Formation</td>\n",
       "      <td>0.0</td>\n",
       "      <td>0.000000</td>\n",
       "      <td>0.0</td>\n",
       "      <td>NaN</td>\n",
       "    </tr>\n",
       "    <tr>\n",
       "      <th>4</th>\n",
       "      <td>44614</td>\n",
       "      <td>0.352685</td>\n",
       "      <td>44614.352685</td>\n",
       "      <td>50.850000</td>\n",
       "      <td>1132.01</td>\n",
       "      <td>1108.53</td>\n",
       "      <td>0.00</td>\n",
       "      <td>0.000000</td>\n",
       "      <td>0.0</td>\n",
       "      <td>0.035312</td>\n",
       "      <td>...</td>\n",
       "      <td>0.0</td>\n",
       "      <td>0.0</td>\n",
       "      <td>0.0</td>\n",
       "      <td>0</td>\n",
       "      <td>Reaming</td>\n",
       "      <td>Drilling Formation</td>\n",
       "      <td>0.0</td>\n",
       "      <td>0.000000</td>\n",
       "      <td>0.0</td>\n",
       "      <td>NaN</td>\n",
       "    </tr>\n",
       "    <tr>\n",
       "      <th>5</th>\n",
       "      <td>44614</td>\n",
       "      <td>0.387998</td>\n",
       "      <td>44614.387998</td>\n",
       "      <td>5.166667</td>\n",
       "      <td>1132.01</td>\n",
       "      <td>1108.67</td>\n",
       "      <td>0.00</td>\n",
       "      <td>0.000000</td>\n",
       "      <td>0.0</td>\n",
       "      <td>0.000000</td>\n",
       "      <td>...</td>\n",
       "      <td>0.0</td>\n",
       "      <td>0.0</td>\n",
       "      <td>0.0</td>\n",
       "      <td>0</td>\n",
       "      <td>Connection</td>\n",
       "      <td>Drilling Formation</td>\n",
       "      <td>0.0</td>\n",
       "      <td>0.000000</td>\n",
       "      <td>0.0</td>\n",
       "      <td>NaN</td>\n",
       "    </tr>\n",
       "    <tr>\n",
       "      <th>6</th>\n",
       "      <td>44614</td>\n",
       "      <td>0.391586</td>\n",
       "      <td>44614.391586</td>\n",
       "      <td>51.283333</td>\n",
       "      <td>1132.01</td>\n",
       "      <td>1108.91</td>\n",
       "      <td>0.00</td>\n",
       "      <td>0.000000</td>\n",
       "      <td>0.0</td>\n",
       "      <td>0.000000</td>\n",
       "      <td>...</td>\n",
       "      <td>0.0</td>\n",
       "      <td>0.0</td>\n",
       "      <td>0.0</td>\n",
       "      <td>0</td>\n",
       "      <td>Stationary</td>\n",
       "      <td>Drilling Formation</td>\n",
       "      <td>0.0</td>\n",
       "      <td>0.000000</td>\n",
       "      <td>0.0</td>\n",
       "      <td>Stand Group - 1</td>\n",
       "    </tr>\n",
       "    <tr>\n",
       "      <th>7</th>\n",
       "      <td>44614</td>\n",
       "      <td>0.427199</td>\n",
       "      <td>44614.427199</td>\n",
       "      <td>63.683333</td>\n",
       "      <td>1132.01</td>\n",
       "      <td>1108.91</td>\n",
       "      <td>0.00</td>\n",
       "      <td>0.000000</td>\n",
       "      <td>0.0</td>\n",
       "      <td>0.000000</td>\n",
       "      <td>...</td>\n",
       "      <td>0.0</td>\n",
       "      <td>0.0</td>\n",
       "      <td>0.0</td>\n",
       "      <td>0</td>\n",
       "      <td>Connection</td>\n",
       "      <td>Drilling Formation</td>\n",
       "      <td>0.0</td>\n",
       "      <td>114.966667</td>\n",
       "      <td>0.0</td>\n",
       "      <td>NaN</td>\n",
       "    </tr>\n",
       "    <tr>\n",
       "      <th>8</th>\n",
       "      <td>44614</td>\n",
       "      <td>0.471424</td>\n",
       "      <td>44614.471424</td>\n",
       "      <td>5.083333</td>\n",
       "      <td>1132.43</td>\n",
       "      <td>1132.43</td>\n",
       "      <td>0.00</td>\n",
       "      <td>0.000000</td>\n",
       "      <td>0.0</td>\n",
       "      <td>0.003530</td>\n",
       "      <td>...</td>\n",
       "      <td>0.0</td>\n",
       "      <td>0.0</td>\n",
       "      <td>1.0</td>\n",
       "      <td>0</td>\n",
       "      <td>Reaming</td>\n",
       "      <td>Drilling Formation</td>\n",
       "      <td>0.0</td>\n",
       "      <td>0.000000</td>\n",
       "      <td>0.0</td>\n",
       "      <td>Stand Group - 2</td>\n",
       "    </tr>\n",
       "    <tr>\n",
       "      <th>9</th>\n",
       "      <td>44614</td>\n",
       "      <td>0.474954</td>\n",
       "      <td>44614.474954</td>\n",
       "      <td>49.233333</td>\n",
       "      <td>1138.42</td>\n",
       "      <td>1138.28</td>\n",
       "      <td>5.99</td>\n",
       "      <td>0.034190</td>\n",
       "      <td>0.0</td>\n",
       "      <td>0.000000</td>\n",
       "      <td>...</td>\n",
       "      <td>0.0</td>\n",
       "      <td>0.0</td>\n",
       "      <td>1.0</td>\n",
       "      <td>0</td>\n",
       "      <td>Rotary Drilling</td>\n",
       "      <td>Drilling Formation</td>\n",
       "      <td>0.0</td>\n",
       "      <td>0.000000</td>\n",
       "      <td>0.0</td>\n",
       "      <td>Stand Group - 2</td>\n",
       "    </tr>\n",
       "  </tbody>\n",
       "</table>\n",
       "<p>10 rows × 21 columns</p>\n",
       "</div>"
      ],
      "text/plain": [
       "    Date      Time     Date/Time   Duration  Hole Depth  Bit Depth  \\\n",
       "0  44614  0.291678  44614.291678   0.833333     1109.33    1109.33   \n",
       "1  44614  0.292257  44614.292257  24.166667     1124.00    1124.00   \n",
       "2  44614  0.309039  44614.309039  15.750000     1124.01    1124.01   \n",
       "3  44614  0.319977  44614.319977  47.100000     1132.00    1131.64   \n",
       "4  44614  0.352685  44614.352685  50.850000     1132.01    1108.53   \n",
       "5  44614  0.387998  44614.387998   5.166667     1132.01    1108.67   \n",
       "6  44614  0.391586  44614.391586  51.283333     1132.01    1108.91   \n",
       "7  44614  0.427199  44614.427199  63.683333     1132.01    1108.91   \n",
       "8  44614  0.471424  44614.471424   5.083333     1132.43    1132.43   \n",
       "9  44614  0.474954  44614.474954  49.233333     1138.42    1138.28   \n",
       "\n",
       "   Meterage (m) (Drilling)  Rotate Drilling Time (hrs)  \\\n",
       "0                     0.00                    0.000000   \n",
       "1                    14.67                    0.016782   \n",
       "2                     0.00                    0.000000   \n",
       "3                     7.99                    0.032708   \n",
       "4                     0.00                    0.000000   \n",
       "5                     0.00                    0.000000   \n",
       "6                     0.00                    0.000000   \n",
       "7                     0.00                    0.000000   \n",
       "8                     0.00                    0.000000   \n",
       "9                     5.99                    0.034190   \n",
       "\n",
       "   Slide Drilling Time (hrs)  Reaming Time (hrs)  ...  On Bottom Hours  \\\n",
       "0                        0.0            0.000579  ...              0.0   \n",
       "1                        0.0            0.000000  ...              0.0   \n",
       "2                        0.0            0.010938  ...              0.0   \n",
       "3                        0.0            0.000000  ...              0.0   \n",
       "4                        0.0            0.035312  ...              0.0   \n",
       "5                        0.0            0.000000  ...              0.0   \n",
       "6                        0.0            0.000000  ...              0.0   \n",
       "7                        0.0            0.000000  ...              0.0   \n",
       "8                        0.0            0.003530  ...              0.0   \n",
       "9                        0.0            0.000000  ...              0.0   \n",
       "\n",
       "   Stand Duration (hrs)  Stand Group  Connection Activity     Sub Activity  \\\n",
       "0                   0.0          0.0                    0          Reaming   \n",
       "1                   0.0          0.0                    0  Rotary Drilling   \n",
       "2                   0.0          0.0                    0          Reaming   \n",
       "3                   0.0          0.0                    0  Rotary Drilling   \n",
       "4                   0.0          0.0                    0          Reaming   \n",
       "5                   0.0          0.0                    0       Connection   \n",
       "6                   0.0          0.0                    0       Stationary   \n",
       "7                   0.0          0.0                    0       Connection   \n",
       "8                   0.0          1.0                    0          Reaming   \n",
       "9                   0.0          1.0                    0  Rotary Drilling   \n",
       "\n",
       "             Activity Stand Meterage (m) (Drilling)  \\\n",
       "0  Drilling Formation                           0.0   \n",
       "1  Drilling Formation                           0.0   \n",
       "2  Drilling Formation                           0.0   \n",
       "3  Drilling Formation                           0.0   \n",
       "4  Drilling Formation                           0.0   \n",
       "5  Drilling Formation                           0.0   \n",
       "6  Drilling Formation                           0.0   \n",
       "7  Drilling Formation                           0.0   \n",
       "8  Drilling Formation                           0.0   \n",
       "9  Drilling Formation                           0.0   \n",
       "\n",
       "   Stand Stand Duration (hrs)  Stand On Bottom Hours  Stand Group_Pred  \n",
       "0                    0.000000                    0.0               NaN  \n",
       "1                    0.000000                    0.0               NaN  \n",
       "2                    0.000000                    0.0               NaN  \n",
       "3                    0.000000                    0.0               NaN  \n",
       "4                    0.000000                    0.0               NaN  \n",
       "5                    0.000000                    0.0               NaN  \n",
       "6                    0.000000                    0.0   Stand Group - 1  \n",
       "7                  114.966667                    0.0               NaN  \n",
       "8                    0.000000                    0.0   Stand Group - 2  \n",
       "9                    0.000000                    0.0   Stand Group - 2  \n",
       "\n",
       "[10 rows x 21 columns]"
      ]
     },
     "execution_count": 61,
     "metadata": {},
     "output_type": "execute_result"
    }
   ],
   "source": [
    "MasterReport_DF = pd.read_excel('Data\\\\Master_Report\\\\MasterReportTest.xlsx')\n",
    "# print(MasterReport_DF.dtypes)\n",
    "MasterReport_DF['Stand Meterage (m) (Drilling)'] = np.NaN\n",
    "MasterReport_DF['Stand Stand Duration (hrs)'] = np.NaN\n",
    "MasterReport_DF['Stand On Bottom Hours'] = np.NaN\n",
    "MasterReport_DF = MasterReport_DF.astype(\n",
    "        {\n",
    "            'Duration':'float',\n",
    "            'Hole Depth':'float',\n",
    "            'Bit Depth':'float',\n",
    "            \"Meterage (m) (Drilling)\":'float',\n",
    "            \"Stand Meterage (m) (Drilling)\":'float',\n",
    "            \"Rotate Drilling Time (hrs)\":'float',\n",
    "            'Slide Drilling Time (hrs)':'float',\n",
    "            'Reaming Time (hrs)':'float',\n",
    "            'Connection Time (hrs)':'float',\n",
    "            'On Bottom Hours':'float',\n",
    "            'Stand On Bottom Hours':'float',\n",
    "            'Stand Duration (hrs)':'float',\n",
    "            'Stand Stand Duration (hrs)':'float',\n",
    "\n",
    "        }\n",
    ")\n",
    "MasterReport_DF = MasterReport_DF.reset_index(drop=True).fillna(0)\n",
    "# MasterReport_DF['Stand Meterage (m) (Drilling)'] = \"\"\n",
    "ii = 0\n",
    "for idx,row in MasterReport_DF[(MasterReport_DF['Sub Activity']=='Connection')].iterrows():\n",
    "    print(idx)\n",
    "    if ii==0:\n",
    "\n",
    "        idx_start = idx + 1\n",
    "\n",
    "    else:\n",
    "        idx_end = idx - 1\n",
    "    \n",
    "        MasterReport_DF.loc[idx_start:idx_end, 'Stand Group_Pred'] = 'Stand Group - ' + str(ii)\n",
    "\n",
    "\n",
    "        OnBottomHours =  MasterReport_DF.loc[idx_start:idx_end, 'Rotate Drilling Time (hrs)'].sum() + MasterReport_DF.loc[idx_start:idx_end, 'Slide Drilling Time (hrs)'].sum()\n",
    "        StandDuration =  MasterReport_DF.loc[idx_start:idx_end+1, 'Duration'].sum()\n",
    "        StandMeterageDrilling = MasterReport_DF.loc[idx_start:idx_end, 'Meterage (m) (Drilling)'].sum()\n",
    "\n",
    "\n",
    "        MasterReport_DF.loc[idx, 'Stand On Bottom Hours'] = OnBottomHours\n",
    "        MasterReport_DF.loc[idx, 'Stand Stand Duration (hrs)'] = StandDuration\n",
    "        MasterReport_DF.loc[idx, \"Stand Meterage (m) (Drilling)\"] = StandMeterageDrilling\n",
    "\n",
    "        print(str(idx_start) + \" - \" + str(idx_end))\n",
    "        idx_start = idx + 1\n",
    "\n",
    "    ii = ii + 1\n",
    "\n",
    "MasterReport_DF.head(10)"
   ]
  },
  {
   "cell_type": "code",
   "execution_count": 23,
   "metadata": {},
   "outputs": [
    {
     "data": {
      "text/html": [
       "<div>\n",
       "<style scoped>\n",
       "    .dataframe tbody tr th:only-of-type {\n",
       "        vertical-align: middle;\n",
       "    }\n",
       "\n",
       "    .dataframe tbody tr th {\n",
       "        vertical-align: top;\n",
       "    }\n",
       "\n",
       "    .dataframe thead th {\n",
       "        text-align: right;\n",
       "    }\n",
       "</style>\n",
       "<table border=\"1\" class=\"dataframe\">\n",
       "  <thead>\n",
       "    <tr style=\"text-align: right;\">\n",
       "      <th></th>\n",
       "      <th>Date</th>\n",
       "      <th>Time</th>\n",
       "      <th>Date/Time</th>\n",
       "      <th>Duration</th>\n",
       "      <th>Hole Depth</th>\n",
       "      <th>Bit Depth</th>\n",
       "      <th>Meterage (m) (Drilling)</th>\n",
       "      <th>Rotate Drilling Time (hrs)</th>\n",
       "      <th>Slide Drilling Time (hrs)</th>\n",
       "      <th>Reaming Time (hrs)</th>\n",
       "      <th>Connection Time (hrs)</th>\n",
       "      <th>On Bottom Hours</th>\n",
       "      <th>Stand Duration (hrs)</th>\n",
       "      <th>Stand Group</th>\n",
       "      <th>Connection Activity</th>\n",
       "      <th>Sub Activity</th>\n",
       "      <th>Activity</th>\n",
       "      <th>Stand Group_Pred</th>\n",
       "    </tr>\n",
       "  </thead>\n",
       "  <tbody>\n",
       "    <tr>\n",
       "      <th>5</th>\n",
       "      <td>44614</td>\n",
       "      <td>0.387998</td>\n",
       "      <td>44614.387998</td>\n",
       "      <td>5.166667</td>\n",
       "      <td>1132.01</td>\n",
       "      <td>1108.67</td>\n",
       "      <td></td>\n",
       "      <td></td>\n",
       "      <td></td>\n",
       "      <td></td>\n",
       "      <td>0.003588</td>\n",
       "      <td>NaN</td>\n",
       "      <td>NaN</td>\n",
       "      <td>NaN</td>\n",
       "      <td>NaN</td>\n",
       "      <td>Connection</td>\n",
       "      <td>Drilling Formation</td>\n",
       "      <td>Stand Group1</td>\n",
       "    </tr>\n",
       "    <tr>\n",
       "      <th>11</th>\n",
       "      <td>44614</td>\n",
       "      <td>0.517303</td>\n",
       "      <td>44614.517303</td>\n",
       "      <td>1.916667</td>\n",
       "      <td>1138.42</td>\n",
       "      <td>1138.35</td>\n",
       "      <td>6</td>\n",
       "      <td></td>\n",
       "      <td></td>\n",
       "      <td></td>\n",
       "      <td>0.001331</td>\n",
       "      <td>0.034190</td>\n",
       "      <td>0.047211</td>\n",
       "      <td>1.0</td>\n",
       "      <td>Connection</td>\n",
       "      <td>Connection</td>\n",
       "      <td>Drilling Formation</td>\n",
       "      <td>Stand Group3</td>\n",
       "    </tr>\n",
       "    <tr>\n",
       "      <th>17</th>\n",
       "      <td>44614</td>\n",
       "      <td>0.671829</td>\n",
       "      <td>44614.671829</td>\n",
       "      <td>3.500000</td>\n",
       "      <td>1168.22</td>\n",
       "      <td>1167.74</td>\n",
       "      <td>29.66</td>\n",
       "      <td></td>\n",
       "      <td></td>\n",
       "      <td></td>\n",
       "      <td>0.002431</td>\n",
       "      <td>0.124606</td>\n",
       "      <td>0.155625</td>\n",
       "      <td>2.0</td>\n",
       "      <td>Connection</td>\n",
       "      <td>Connection</td>\n",
       "      <td>Drilling Formation</td>\n",
       "      <td>Stand Group4</td>\n",
       "    </tr>\n",
       "    <tr>\n",
       "      <th>21</th>\n",
       "      <td>44614</td>\n",
       "      <td>0.777199</td>\n",
       "      <td>44614.777199</td>\n",
       "      <td>3.083333</td>\n",
       "      <td>1198.03</td>\n",
       "      <td>1197.38</td>\n",
       "      <td>29.77</td>\n",
       "      <td></td>\n",
       "      <td></td>\n",
       "      <td></td>\n",
       "      <td>0.002141</td>\n",
       "      <td>0.088588</td>\n",
       "      <td>0.105081</td>\n",
       "      <td>3.0</td>\n",
       "      <td>Connection</td>\n",
       "      <td>Connection</td>\n",
       "      <td>Drilling Formation</td>\n",
       "      <td>Stand Group5</td>\n",
       "    </tr>\n",
       "    <tr>\n",
       "      <th>25</th>\n",
       "      <td>44614</td>\n",
       "      <td>0.891667</td>\n",
       "      <td>44614.891667</td>\n",
       "      <td>2.916667</td>\n",
       "      <td>1227.64</td>\n",
       "      <td>1227.01</td>\n",
       "      <td>29.61</td>\n",
       "      <td></td>\n",
       "      <td></td>\n",
       "      <td></td>\n",
       "      <td>0.002025</td>\n",
       "      <td>0.090046</td>\n",
       "      <td>0.114352</td>\n",
       "      <td>4.0</td>\n",
       "      <td>Connection</td>\n",
       "      <td>Connection</td>\n",
       "      <td>Drilling Formation</td>\n",
       "      <td>Stand Group6</td>\n",
       "    </tr>\n",
       "    <tr>\n",
       "      <th>31</th>\n",
       "      <td>44615</td>\n",
       "      <td>0.039525</td>\n",
       "      <td>44615.039525</td>\n",
       "      <td>2.833333</td>\n",
       "      <td>1257.24</td>\n",
       "      <td>1257.24</td>\n",
       "      <td>29.59</td>\n",
       "      <td>NaN</td>\n",
       "      <td></td>\n",
       "      <td>NaN</td>\n",
       "      <td>0.001968</td>\n",
       "      <td>0.114063</td>\n",
       "      <td>0.147801</td>\n",
       "      <td>5.0</td>\n",
       "      <td>Connection</td>\n",
       "      <td>Connection</td>\n",
       "      <td>Drilling Formation</td>\n",
       "      <td>Stand Group7</td>\n",
       "    </tr>\n",
       "  </tbody>\n",
       "</table>\n",
       "</div>"
      ],
      "text/plain": [
       "     Date      Time     Date/Time  Duration  Hole Depth  Bit Depth  \\\n",
       "5   44614  0.387998  44614.387998  5.166667     1132.01    1108.67   \n",
       "11  44614  0.517303  44614.517303  1.916667     1138.42    1138.35   \n",
       "17  44614  0.671829  44614.671829  3.500000     1168.22    1167.74   \n",
       "21  44614  0.777199  44614.777199  3.083333     1198.03    1197.38   \n",
       "25  44614  0.891667  44614.891667  2.916667     1227.64    1227.01   \n",
       "31  44615  0.039525  44615.039525  2.833333     1257.24    1257.24   \n",
       "\n",
       "   Meterage (m) (Drilling) Rotate Drilling Time (hrs)  \\\n",
       "5                                                       \n",
       "11                       6                              \n",
       "17                   29.66                              \n",
       "21                   29.77                              \n",
       "25                   29.61                              \n",
       "31                   29.59                        NaN   \n",
       "\n",
       "   Slide Drilling Time (hrs) Reaming Time (hrs) Connection Time (hrs)  \\\n",
       "5                                                            0.003588   \n",
       "11                                                           0.001331   \n",
       "17                                                           0.002431   \n",
       "21                                                           0.002141   \n",
       "25                                                           0.002025   \n",
       "31                                          NaN              0.001968   \n",
       "\n",
       "    On Bottom Hours  Stand Duration (hrs)  Stand Group Connection Activity  \\\n",
       "5               NaN                   NaN          NaN                 NaN   \n",
       "11         0.034190              0.047211          1.0          Connection   \n",
       "17         0.124606              0.155625          2.0          Connection   \n",
       "21         0.088588              0.105081          3.0          Connection   \n",
       "25         0.090046              0.114352          4.0          Connection   \n",
       "31         0.114063              0.147801          5.0          Connection   \n",
       "\n",
       "   Sub Activity            Activity Stand Group_Pred  \n",
       "5    Connection  Drilling Formation     Stand Group1  \n",
       "11   Connection  Drilling Formation     Stand Group3  \n",
       "17   Connection  Drilling Formation     Stand Group4  \n",
       "21   Connection  Drilling Formation     Stand Group5  \n",
       "25   Connection  Drilling Formation     Stand Group6  \n",
       "31   Connection  Drilling Formation     Stand Group7  "
      ]
     },
     "execution_count": 23,
     "metadata": {},
     "output_type": "execute_result"
    }
   ],
   "source": [
    "MasterReport_DF[(MasterReport_DF['Sub Activity']=='Connection') & (MasterReport_DF['Sub Activity'].shift(periods=1)=='Reaming')]"
   ]
  },
  {
   "cell_type": "code",
   "execution_count": 116,
   "metadata": {},
   "outputs": [
    {
     "data": {
      "text/html": [
       "<div>\n",
       "<style scoped>\n",
       "    .dataframe tbody tr th:only-of-type {\n",
       "        vertical-align: middle;\n",
       "    }\n",
       "\n",
       "    .dataframe tbody tr th {\n",
       "        vertical-align: top;\n",
       "    }\n",
       "\n",
       "    .dataframe thead th {\n",
       "        text-align: right;\n",
       "    }\n",
       "</style>\n",
       "<table border=\"1\" class=\"dataframe\">\n",
       "  <thead>\n",
       "    <tr style=\"text-align: right;\">\n",
       "      <th></th>\n",
       "      <th>date</th>\n",
       "      <th>Time_start</th>\n",
       "      <th>Time_end</th>\n",
       "      <th>date_time</th>\n",
       "      <th>Duration(minutes)</th>\n",
       "      <th>Hole Depth(max)</th>\n",
       "      <th>Bit Depth(mean)</th>\n",
       "      <th>Meterage(m)(Drilling)</th>\n",
       "      <th>RotateDrilling</th>\n",
       "      <th>Slide Drilling</th>\n",
       "      <th>ReamingTime</th>\n",
       "      <th>ConnectionTime</th>\n",
       "      <th>On Bottom Hours</th>\n",
       "      <th>Stand Duration</th>\n",
       "      <th>LABEL_SubActivity</th>\n",
       "      <th>LABEL_Activity</th>\n",
       "      <th>MERGE_SubActivity-Activity</th>\n",
       "    </tr>\n",
       "  </thead>\n",
       "  <tbody>\n",
       "    <tr>\n",
       "      <th>0</th>\n",
       "      <td>2022-02-14</td>\n",
       "      <td>00:00:00</td>\n",
       "      <td>11:59:58</td>\n",
       "      <td>2022-02-14 00:00:00</td>\n",
       "      <td>719.97</td>\n",
       "      <td>718.02</td>\n",
       "      <td>640.80</td>\n",
       "      <td>0.00</td>\n",
       "      <td>0.00</td>\n",
       "      <td>0.0</td>\n",
       "      <td>0.00</td>\n",
       "      <td>0.0</td>\n",
       "      <td>0.0</td>\n",
       "      <td>0.0</td>\n",
       "      <td>FALSE/Check</td>\n",
       "      <td>NaN</td>\n",
       "      <td>NaN</td>\n",
       "    </tr>\n",
       "    <tr>\n",
       "      <th>1</th>\n",
       "      <td>2022-02-14</td>\n",
       "      <td>12:00:03</td>\n",
       "      <td>14:59:56</td>\n",
       "      <td>2022-02-14 12:00:03</td>\n",
       "      <td>179.88</td>\n",
       "      <td>747.38</td>\n",
       "      <td>732.21</td>\n",
       "      <td>0.00</td>\n",
       "      <td>0.00</td>\n",
       "      <td>0.0</td>\n",
       "      <td>0.00</td>\n",
       "      <td>0.0</td>\n",
       "      <td>0.0</td>\n",
       "      <td>0.0</td>\n",
       "      <td>MAKE UP BHA</td>\n",
       "      <td>MAKE UP BHA</td>\n",
       "      <td>MAKE UP BHA--MAKE UP BHA</td>\n",
       "    </tr>\n",
       "    <tr>\n",
       "      <th>2</th>\n",
       "      <td>2022-02-14</td>\n",
       "      <td>15:00:01</td>\n",
       "      <td>15:09:06</td>\n",
       "      <td>2022-02-14 15:00:01</td>\n",
       "      <td>9.08</td>\n",
       "      <td>749.55</td>\n",
       "      <td>748.48</td>\n",
       "      <td>0.00</td>\n",
       "      <td>0.00</td>\n",
       "      <td>0.0</td>\n",
       "      <td>0.00</td>\n",
       "      <td>0.0</td>\n",
       "      <td>0.0</td>\n",
       "      <td>0.0</td>\n",
       "      <td>Wash Up/Down</td>\n",
       "      <td>TRIP IN</td>\n",
       "      <td>TRIP IN--Wash Up/Down</td>\n",
       "    </tr>\n",
       "    <tr>\n",
       "      <th>3</th>\n",
       "      <td>2022-02-14</td>\n",
       "      <td>15:09:11</td>\n",
       "      <td>15:09:11</td>\n",
       "      <td>2022-02-14 15:09:11</td>\n",
       "      <td>0.00</td>\n",
       "      <td>749.57</td>\n",
       "      <td>749.57</td>\n",
       "      <td>0.00</td>\n",
       "      <td>0.00</td>\n",
       "      <td>0.0</td>\n",
       "      <td>0.00</td>\n",
       "      <td>0.0</td>\n",
       "      <td>0.0</td>\n",
       "      <td>0.0</td>\n",
       "      <td>Circulation</td>\n",
       "      <td>TRIP IN</td>\n",
       "      <td>TRIP IN--Circulation</td>\n",
       "    </tr>\n",
       "    <tr>\n",
       "      <th>4</th>\n",
       "      <td>2022-02-14</td>\n",
       "      <td>15:09:16</td>\n",
       "      <td>15:09:16</td>\n",
       "      <td>2022-02-14 15:09:16</td>\n",
       "      <td>0.00</td>\n",
       "      <td>749.57</td>\n",
       "      <td>749.57</td>\n",
       "      <td>0.00</td>\n",
       "      <td>0.00</td>\n",
       "      <td>0.0</td>\n",
       "      <td>0.00</td>\n",
       "      <td>0.0</td>\n",
       "      <td>0.0</td>\n",
       "      <td>0.0</td>\n",
       "      <td>FALSE/Check</td>\n",
       "      <td>TRIP IN</td>\n",
       "      <td>TRIP IN--FALSE/Check</td>\n",
       "    </tr>\n",
       "    <tr>\n",
       "      <th>...</th>\n",
       "      <td>...</td>\n",
       "      <td>...</td>\n",
       "      <td>...</td>\n",
       "      <td>...</td>\n",
       "      <td>...</td>\n",
       "      <td>...</td>\n",
       "      <td>...</td>\n",
       "      <td>...</td>\n",
       "      <td>...</td>\n",
       "      <td>...</td>\n",
       "      <td>...</td>\n",
       "      <td>...</td>\n",
       "      <td>...</td>\n",
       "      <td>...</td>\n",
       "      <td>...</td>\n",
       "      <td>...</td>\n",
       "      <td>...</td>\n",
       "    </tr>\n",
       "    <tr>\n",
       "      <th>189</th>\n",
       "      <td>2022-02-14</td>\n",
       "      <td>23:03:01</td>\n",
       "      <td>23:06:56</td>\n",
       "      <td>2022-02-14 23:03:01</td>\n",
       "      <td>3.92</td>\n",
       "      <td>839.77</td>\n",
       "      <td>839.53</td>\n",
       "      <td>0.51</td>\n",
       "      <td>3.92</td>\n",
       "      <td>0.0</td>\n",
       "      <td>0.00</td>\n",
       "      <td>0.0</td>\n",
       "      <td>0.0</td>\n",
       "      <td>0.0</td>\n",
       "      <td>Rotary Drilling</td>\n",
       "      <td>DRILLING FORMATION</td>\n",
       "      <td>DRILLING FORMATION--Rotary Drilling</td>\n",
       "    </tr>\n",
       "    <tr>\n",
       "      <th>190</th>\n",
       "      <td>2022-02-14</td>\n",
       "      <td>23:07:01</td>\n",
       "      <td>23:08:01</td>\n",
       "      <td>2022-02-14 23:07:01</td>\n",
       "      <td>1.00</td>\n",
       "      <td>839.77</td>\n",
       "      <td>835.00</td>\n",
       "      <td>0.00</td>\n",
       "      <td>0.00</td>\n",
       "      <td>0.0</td>\n",
       "      <td>1.00</td>\n",
       "      <td>0.0</td>\n",
       "      <td>0.0</td>\n",
       "      <td>0.0</td>\n",
       "      <td>Reaming</td>\n",
       "      <td>DRILLING FORMATION</td>\n",
       "      <td>DRILLING FORMATION--Reaming</td>\n",
       "    </tr>\n",
       "    <tr>\n",
       "      <th>191</th>\n",
       "      <td>2022-02-14</td>\n",
       "      <td>23:08:06</td>\n",
       "      <td>23:08:41</td>\n",
       "      <td>2022-02-14 23:08:06</td>\n",
       "      <td>0.58</td>\n",
       "      <td>839.77</td>\n",
       "      <td>833.14</td>\n",
       "      <td>0.00</td>\n",
       "      <td>0.00</td>\n",
       "      <td>0.0</td>\n",
       "      <td>0.00</td>\n",
       "      <td>0.0</td>\n",
       "      <td>0.0</td>\n",
       "      <td>0.0</td>\n",
       "      <td>FALSE/Check</td>\n",
       "      <td>DRILLING FORMATION</td>\n",
       "      <td>DRILLING FORMATION--FALSE/Check</td>\n",
       "    </tr>\n",
       "    <tr>\n",
       "      <th>192</th>\n",
       "      <td>2022-02-14</td>\n",
       "      <td>23:08:46</td>\n",
       "      <td>23:12:26</td>\n",
       "      <td>2022-02-14 23:08:46</td>\n",
       "      <td>3.67</td>\n",
       "      <td>839.77</td>\n",
       "      <td>834.20</td>\n",
       "      <td>0.00</td>\n",
       "      <td>0.00</td>\n",
       "      <td>0.0</td>\n",
       "      <td>3.67</td>\n",
       "      <td>0.0</td>\n",
       "      <td>0.0</td>\n",
       "      <td>0.0</td>\n",
       "      <td>Reaming</td>\n",
       "      <td>DRILLING FORMATION</td>\n",
       "      <td>DRILLING FORMATION--Reaming</td>\n",
       "    </tr>\n",
       "    <tr>\n",
       "      <th>193</th>\n",
       "      <td>2022-02-14</td>\n",
       "      <td>23:12:31</td>\n",
       "      <td>23:59:56</td>\n",
       "      <td>2022-02-14 23:12:31</td>\n",
       "      <td>47.42</td>\n",
       "      <td>853.04</td>\n",
       "      <td>846.13</td>\n",
       "      <td>13.27</td>\n",
       "      <td>47.42</td>\n",
       "      <td>0.0</td>\n",
       "      <td>0.00</td>\n",
       "      <td>0.0</td>\n",
       "      <td>0.0</td>\n",
       "      <td>0.0</td>\n",
       "      <td>Rotary Drilling</td>\n",
       "      <td>DRILLING FORMATION</td>\n",
       "      <td>DRILLING FORMATION--Rotary Drilling</td>\n",
       "    </tr>\n",
       "  </tbody>\n",
       "</table>\n",
       "<p>194 rows × 17 columns</p>\n",
       "</div>"
      ],
      "text/plain": [
       "           date Time_start  Time_end            date_time  Duration(minutes)  \\\n",
       "0    2022-02-14   00:00:00  11:59:58  2022-02-14 00:00:00             719.97   \n",
       "1    2022-02-14   12:00:03  14:59:56  2022-02-14 12:00:03             179.88   \n",
       "2    2022-02-14   15:00:01  15:09:06  2022-02-14 15:00:01               9.08   \n",
       "3    2022-02-14   15:09:11  15:09:11  2022-02-14 15:09:11               0.00   \n",
       "4    2022-02-14   15:09:16  15:09:16  2022-02-14 15:09:16               0.00   \n",
       "..          ...        ...       ...                  ...                ...   \n",
       "189  2022-02-14   23:03:01  23:06:56  2022-02-14 23:03:01               3.92   \n",
       "190  2022-02-14   23:07:01  23:08:01  2022-02-14 23:07:01               1.00   \n",
       "191  2022-02-14   23:08:06  23:08:41  2022-02-14 23:08:06               0.58   \n",
       "192  2022-02-14   23:08:46  23:12:26  2022-02-14 23:08:46               3.67   \n",
       "193  2022-02-14   23:12:31  23:59:56  2022-02-14 23:12:31              47.42   \n",
       "\n",
       "     Hole Depth(max)  Bit Depth(mean)  Meterage(m)(Drilling)  RotateDrilling  \\\n",
       "0             718.02           640.80                   0.00            0.00   \n",
       "1             747.38           732.21                   0.00            0.00   \n",
       "2             749.55           748.48                   0.00            0.00   \n",
       "3             749.57           749.57                   0.00            0.00   \n",
       "4             749.57           749.57                   0.00            0.00   \n",
       "..               ...              ...                    ...             ...   \n",
       "189           839.77           839.53                   0.51            3.92   \n",
       "190           839.77           835.00                   0.00            0.00   \n",
       "191           839.77           833.14                   0.00            0.00   \n",
       "192           839.77           834.20                   0.00            0.00   \n",
       "193           853.04           846.13                  13.27           47.42   \n",
       "\n",
       "     Slide Drilling  ReamingTime  ConnectionTime  On Bottom Hours  \\\n",
       "0               0.0         0.00             0.0              0.0   \n",
       "1               0.0         0.00             0.0              0.0   \n",
       "2               0.0         0.00             0.0              0.0   \n",
       "3               0.0         0.00             0.0              0.0   \n",
       "4               0.0         0.00             0.0              0.0   \n",
       "..              ...          ...             ...              ...   \n",
       "189             0.0         0.00             0.0              0.0   \n",
       "190             0.0         1.00             0.0              0.0   \n",
       "191             0.0         0.00             0.0              0.0   \n",
       "192             0.0         3.67             0.0              0.0   \n",
       "193             0.0         0.00             0.0              0.0   \n",
       "\n",
       "     Stand Duration LABEL_SubActivity      LABEL_Activity  \\\n",
       "0               0.0       FALSE/Check                 NaN   \n",
       "1               0.0       MAKE UP BHA         MAKE UP BHA   \n",
       "2               0.0      Wash Up/Down             TRIP IN   \n",
       "3               0.0       Circulation             TRIP IN   \n",
       "4               0.0       FALSE/Check             TRIP IN   \n",
       "..              ...               ...                 ...   \n",
       "189             0.0   Rotary Drilling  DRILLING FORMATION   \n",
       "190             0.0           Reaming  DRILLING FORMATION   \n",
       "191             0.0       FALSE/Check  DRILLING FORMATION   \n",
       "192             0.0           Reaming  DRILLING FORMATION   \n",
       "193             0.0   Rotary Drilling  DRILLING FORMATION   \n",
       "\n",
       "              MERGE_SubActivity-Activity  \n",
       "0                                    NaN  \n",
       "1               MAKE UP BHA--MAKE UP BHA  \n",
       "2                  TRIP IN--Wash Up/Down  \n",
       "3                   TRIP IN--Circulation  \n",
       "4                   TRIP IN--FALSE/Check  \n",
       "..                                   ...  \n",
       "189  DRILLING FORMATION--Rotary Drilling  \n",
       "190          DRILLING FORMATION--Reaming  \n",
       "191      DRILLING FORMATION--FALSE/Check  \n",
       "192          DRILLING FORMATION--Reaming  \n",
       "193  DRILLING FORMATION--Rotary Drilling  \n",
       "\n",
       "[194 rows x 17 columns]"
      ]
     },
     "execution_count": 116,
     "metadata": {},
     "output_type": "execute_result"
    }
   ],
   "source": [
    "MasterReport_DF_Web = pd.read_csv(\"Data\\\\Master_Report\\\\KS ORKA_SMP AAE-08_ActivitySummary.csv\", index_col=0)\n",
    "MasterReport_DF_Web['MERGE_SubActivity-Activity'] = MasterReport_DF_Web['LABEL_Activity'] + \"--\"+MasterReport_DF_Web['LABEL_SubActivity']\n",
    "MasterReport_DF_Web"
   ]
  },
  {
   "cell_type": "code",
   "execution_count": 110,
   "metadata": {},
   "outputs": [],
   "source": [
    "\n",
    "\n",
    "\n",
    "for idx, row in MasterReport_DF_Web[MasterReport_DF_Web['LABEL_SubActivity'].isin([\"Look and define\", \"FALSE/Check\"])].iterrows():\n",
    "    if idx > 0:\n",
    "        if MasterReport_DF_Web.loc[idx-1, 'LABEL_SubActivity'] == MasterReport_DF_Web.loc[idx+1, 'LABEL_SubActivity']:\n",
    "            MasterReport_DF_Web.loc[idx, 'LABEL_SubActivity'] = MasterReport_DF_Web.loc[idx-1, 'LABEL_SubActivity']\n",
    "        \n",
    "\n"
   ]
  },
  {
   "cell_type": "code",
   "execution_count": 125,
   "metadata": {},
   "outputs": [
    {
     "name": "stdout",
     "output_type": "stream",
     "text": [
      "Int64Index([182], dtype='int64')\n",
      "Int64Index([181], dtype='int64')\n"
     ]
    },
    {
     "data": {
      "text/html": [
       "<div>\n",
       "<style scoped>\n",
       "    .dataframe tbody tr th:only-of-type {\n",
       "        vertical-align: middle;\n",
       "    }\n",
       "\n",
       "    .dataframe tbody tr th {\n",
       "        vertical-align: top;\n",
       "    }\n",
       "\n",
       "    .dataframe thead th {\n",
       "        text-align: right;\n",
       "    }\n",
       "</style>\n",
       "<table border=\"1\" class=\"dataframe\">\n",
       "  <thead>\n",
       "    <tr style=\"text-align: right;\">\n",
       "      <th></th>\n",
       "      <th>date</th>\n",
       "      <th>Time_start</th>\n",
       "      <th>Time_end</th>\n",
       "      <th>date_time</th>\n",
       "      <th>Duration(minutes)</th>\n",
       "      <th>Hole Depth(max)</th>\n",
       "      <th>Bit Depth(mean)</th>\n",
       "      <th>Meterage(m)(Drilling)</th>\n",
       "      <th>RotateDrilling</th>\n",
       "      <th>Slide Drilling</th>\n",
       "      <th>ReamingTime</th>\n",
       "      <th>ConnectionTime</th>\n",
       "      <th>On Bottom Hours</th>\n",
       "      <th>Stand Duration</th>\n",
       "      <th>LABEL_SubActivity</th>\n",
       "      <th>LABEL_Activity</th>\n",
       "      <th>MERGE_SubActivity-Activity</th>\n",
       "    </tr>\n",
       "  </thead>\n",
       "  <tbody>\n",
       "    <tr>\n",
       "      <th>0</th>\n",
       "      <td>2022-02-14</td>\n",
       "      <td>00:00:00</td>\n",
       "      <td>11:59:58</td>\n",
       "      <td>2022-02-14 00:00:00</td>\n",
       "      <td>719.97</td>\n",
       "      <td>718.02</td>\n",
       "      <td>640.80</td>\n",
       "      <td>0.00</td>\n",
       "      <td>0.00</td>\n",
       "      <td>0.0</td>\n",
       "      <td>0.00</td>\n",
       "      <td>0.0</td>\n",
       "      <td>0.0</td>\n",
       "      <td>0.0</td>\n",
       "      <td>FALSE/Check</td>\n",
       "      <td>NaN</td>\n",
       "      <td>NaN</td>\n",
       "    </tr>\n",
       "    <tr>\n",
       "      <th>1</th>\n",
       "      <td>2022-02-14</td>\n",
       "      <td>12:00:03</td>\n",
       "      <td>14:59:56</td>\n",
       "      <td>2022-02-14 12:00:03</td>\n",
       "      <td>179.88</td>\n",
       "      <td>747.38</td>\n",
       "      <td>732.21</td>\n",
       "      <td>0.00</td>\n",
       "      <td>0.00</td>\n",
       "      <td>0.0</td>\n",
       "      <td>0.00</td>\n",
       "      <td>0.0</td>\n",
       "      <td>0.0</td>\n",
       "      <td>0.0</td>\n",
       "      <td>MAKE UP BHA</td>\n",
       "      <td>MAKE UP BHA</td>\n",
       "      <td>MAKE UP BHA--MAKE UP BHA</td>\n",
       "    </tr>\n",
       "    <tr>\n",
       "      <th>2</th>\n",
       "      <td>2022-02-14</td>\n",
       "      <td>15:00:01</td>\n",
       "      <td>15:09:06</td>\n",
       "      <td>2022-02-14 15:00:01</td>\n",
       "      <td>9.08</td>\n",
       "      <td>749.55</td>\n",
       "      <td>748.48</td>\n",
       "      <td>0.00</td>\n",
       "      <td>0.00</td>\n",
       "      <td>0.0</td>\n",
       "      <td>0.00</td>\n",
       "      <td>0.0</td>\n",
       "      <td>0.0</td>\n",
       "      <td>0.0</td>\n",
       "      <td>Wash Up/Down</td>\n",
       "      <td>TRIP IN</td>\n",
       "      <td>TRIP IN--Wash Up/Down</td>\n",
       "    </tr>\n",
       "    <tr>\n",
       "      <th>3</th>\n",
       "      <td>2022-02-14</td>\n",
       "      <td>15:09:11</td>\n",
       "      <td>15:09:11</td>\n",
       "      <td>2022-02-14 15:09:11</td>\n",
       "      <td>0.00</td>\n",
       "      <td>749.57</td>\n",
       "      <td>749.57</td>\n",
       "      <td>0.00</td>\n",
       "      <td>0.00</td>\n",
       "      <td>0.0</td>\n",
       "      <td>0.00</td>\n",
       "      <td>0.0</td>\n",
       "      <td>0.0</td>\n",
       "      <td>0.0</td>\n",
       "      <td>Circulation</td>\n",
       "      <td>TRIP IN</td>\n",
       "      <td>TRIP IN--Circulation</td>\n",
       "    </tr>\n",
       "    <tr>\n",
       "      <th>4</th>\n",
       "      <td>2022-02-14</td>\n",
       "      <td>15:09:16</td>\n",
       "      <td>15:09:16</td>\n",
       "      <td>2022-02-14 15:09:16</td>\n",
       "      <td>0.00</td>\n",
       "      <td>749.57</td>\n",
       "      <td>749.57</td>\n",
       "      <td>0.00</td>\n",
       "      <td>0.00</td>\n",
       "      <td>0.0</td>\n",
       "      <td>0.00</td>\n",
       "      <td>0.0</td>\n",
       "      <td>0.0</td>\n",
       "      <td>0.0</td>\n",
       "      <td>Circulation</td>\n",
       "      <td>TRIP IN</td>\n",
       "      <td>TRIP IN--Circulation</td>\n",
       "    </tr>\n",
       "    <tr>\n",
       "      <th>...</th>\n",
       "      <td>...</td>\n",
       "      <td>...</td>\n",
       "      <td>...</td>\n",
       "      <td>...</td>\n",
       "      <td>...</td>\n",
       "      <td>...</td>\n",
       "      <td>...</td>\n",
       "      <td>...</td>\n",
       "      <td>...</td>\n",
       "      <td>...</td>\n",
       "      <td>...</td>\n",
       "      <td>...</td>\n",
       "      <td>...</td>\n",
       "      <td>...</td>\n",
       "      <td>...</td>\n",
       "      <td>...</td>\n",
       "      <td>...</td>\n",
       "    </tr>\n",
       "    <tr>\n",
       "      <th>189</th>\n",
       "      <td>2022-02-14</td>\n",
       "      <td>23:03:01</td>\n",
       "      <td>23:06:56</td>\n",
       "      <td>2022-02-14 23:03:01</td>\n",
       "      <td>3.92</td>\n",
       "      <td>839.77</td>\n",
       "      <td>839.53</td>\n",
       "      <td>0.51</td>\n",
       "      <td>3.92</td>\n",
       "      <td>0.0</td>\n",
       "      <td>0.00</td>\n",
       "      <td>0.0</td>\n",
       "      <td>0.0</td>\n",
       "      <td>0.0</td>\n",
       "      <td>Rotary Drilling</td>\n",
       "      <td>DRILLING FORMATION</td>\n",
       "      <td>DRILLING FORMATION--Rotary Drilling</td>\n",
       "    </tr>\n",
       "    <tr>\n",
       "      <th>190</th>\n",
       "      <td>2022-02-14</td>\n",
       "      <td>23:07:01</td>\n",
       "      <td>23:08:01</td>\n",
       "      <td>2022-02-14 23:07:01</td>\n",
       "      <td>1.00</td>\n",
       "      <td>839.77</td>\n",
       "      <td>835.00</td>\n",
       "      <td>0.00</td>\n",
       "      <td>0.00</td>\n",
       "      <td>0.0</td>\n",
       "      <td>1.00</td>\n",
       "      <td>0.0</td>\n",
       "      <td>0.0</td>\n",
       "      <td>0.0</td>\n",
       "      <td>Reaming</td>\n",
       "      <td>DRILLING FORMATION</td>\n",
       "      <td>DRILLING FORMATION--Reaming</td>\n",
       "    </tr>\n",
       "    <tr>\n",
       "      <th>191</th>\n",
       "      <td>2022-02-14</td>\n",
       "      <td>23:08:06</td>\n",
       "      <td>23:08:41</td>\n",
       "      <td>2022-02-14 23:08:06</td>\n",
       "      <td>0.58</td>\n",
       "      <td>839.77</td>\n",
       "      <td>833.14</td>\n",
       "      <td>0.00</td>\n",
       "      <td>0.00</td>\n",
       "      <td>0.0</td>\n",
       "      <td>0.00</td>\n",
       "      <td>0.0</td>\n",
       "      <td>0.0</td>\n",
       "      <td>0.0</td>\n",
       "      <td>Reaming</td>\n",
       "      <td>DRILLING FORMATION</td>\n",
       "      <td>DRILLING FORMATION--Reaming</td>\n",
       "    </tr>\n",
       "    <tr>\n",
       "      <th>192</th>\n",
       "      <td>2022-02-14</td>\n",
       "      <td>23:08:46</td>\n",
       "      <td>23:12:26</td>\n",
       "      <td>2022-02-14 23:08:46</td>\n",
       "      <td>3.67</td>\n",
       "      <td>839.77</td>\n",
       "      <td>834.20</td>\n",
       "      <td>0.00</td>\n",
       "      <td>0.00</td>\n",
       "      <td>0.0</td>\n",
       "      <td>3.67</td>\n",
       "      <td>0.0</td>\n",
       "      <td>0.0</td>\n",
       "      <td>0.0</td>\n",
       "      <td>Reaming</td>\n",
       "      <td>DRILLING FORMATION</td>\n",
       "      <td>DRILLING FORMATION--Reaming</td>\n",
       "    </tr>\n",
       "    <tr>\n",
       "      <th>193</th>\n",
       "      <td>2022-02-14</td>\n",
       "      <td>23:12:31</td>\n",
       "      <td>23:59:56</td>\n",
       "      <td>2022-02-14 23:12:31</td>\n",
       "      <td>47.42</td>\n",
       "      <td>853.04</td>\n",
       "      <td>846.13</td>\n",
       "      <td>13.27</td>\n",
       "      <td>47.42</td>\n",
       "      <td>0.0</td>\n",
       "      <td>0.00</td>\n",
       "      <td>0.0</td>\n",
       "      <td>0.0</td>\n",
       "      <td>0.0</td>\n",
       "      <td>Rotary Drilling</td>\n",
       "      <td>DRILLING FORMATION</td>\n",
       "      <td>DRILLING FORMATION--Rotary Drilling</td>\n",
       "    </tr>\n",
       "  </tbody>\n",
       "</table>\n",
       "<p>194 rows × 17 columns</p>\n",
       "</div>"
      ],
      "text/plain": [
       "           date Time_start  Time_end            date_time  Duration(minutes)  \\\n",
       "0    2022-02-14   00:00:00  11:59:58  2022-02-14 00:00:00             719.97   \n",
       "1    2022-02-14   12:00:03  14:59:56  2022-02-14 12:00:03             179.88   \n",
       "2    2022-02-14   15:00:01  15:09:06  2022-02-14 15:00:01               9.08   \n",
       "3    2022-02-14   15:09:11  15:09:11  2022-02-14 15:09:11               0.00   \n",
       "4    2022-02-14   15:09:16  15:09:16  2022-02-14 15:09:16               0.00   \n",
       "..          ...        ...       ...                  ...                ...   \n",
       "189  2022-02-14   23:03:01  23:06:56  2022-02-14 23:03:01               3.92   \n",
       "190  2022-02-14   23:07:01  23:08:01  2022-02-14 23:07:01               1.00   \n",
       "191  2022-02-14   23:08:06  23:08:41  2022-02-14 23:08:06               0.58   \n",
       "192  2022-02-14   23:08:46  23:12:26  2022-02-14 23:08:46               3.67   \n",
       "193  2022-02-14   23:12:31  23:59:56  2022-02-14 23:12:31              47.42   \n",
       "\n",
       "     Hole Depth(max)  Bit Depth(mean)  Meterage(m)(Drilling)  RotateDrilling  \\\n",
       "0             718.02           640.80                   0.00            0.00   \n",
       "1             747.38           732.21                   0.00            0.00   \n",
       "2             749.55           748.48                   0.00            0.00   \n",
       "3             749.57           749.57                   0.00            0.00   \n",
       "4             749.57           749.57                   0.00            0.00   \n",
       "..               ...              ...                    ...             ...   \n",
       "189           839.77           839.53                   0.51            3.92   \n",
       "190           839.77           835.00                   0.00            0.00   \n",
       "191           839.77           833.14                   0.00            0.00   \n",
       "192           839.77           834.20                   0.00            0.00   \n",
       "193           853.04           846.13                  13.27           47.42   \n",
       "\n",
       "     Slide Drilling  ReamingTime  ConnectionTime  On Bottom Hours  \\\n",
       "0               0.0         0.00             0.0              0.0   \n",
       "1               0.0         0.00             0.0              0.0   \n",
       "2               0.0         0.00             0.0              0.0   \n",
       "3               0.0         0.00             0.0              0.0   \n",
       "4               0.0         0.00             0.0              0.0   \n",
       "..              ...          ...             ...              ...   \n",
       "189             0.0         0.00             0.0              0.0   \n",
       "190             0.0         1.00             0.0              0.0   \n",
       "191             0.0         0.00             0.0              0.0   \n",
       "192             0.0         3.67             0.0              0.0   \n",
       "193             0.0         0.00             0.0              0.0   \n",
       "\n",
       "     Stand Duration LABEL_SubActivity      LABEL_Activity  \\\n",
       "0               0.0       FALSE/Check                 NaN   \n",
       "1               0.0       MAKE UP BHA         MAKE UP BHA   \n",
       "2               0.0      Wash Up/Down             TRIP IN   \n",
       "3               0.0       Circulation             TRIP IN   \n",
       "4               0.0       Circulation             TRIP IN   \n",
       "..              ...               ...                 ...   \n",
       "189             0.0   Rotary Drilling  DRILLING FORMATION   \n",
       "190             0.0           Reaming  DRILLING FORMATION   \n",
       "191             0.0           Reaming  DRILLING FORMATION   \n",
       "192             0.0           Reaming  DRILLING FORMATION   \n",
       "193             0.0   Rotary Drilling  DRILLING FORMATION   \n",
       "\n",
       "              MERGE_SubActivity-Activity  \n",
       "0                                    NaN  \n",
       "1               MAKE UP BHA--MAKE UP BHA  \n",
       "2                  TRIP IN--Wash Up/Down  \n",
       "3                   TRIP IN--Circulation  \n",
       "4                   TRIP IN--Circulation  \n",
       "..                                   ...  \n",
       "189  DRILLING FORMATION--Rotary Drilling  \n",
       "190          DRILLING FORMATION--Reaming  \n",
       "191          DRILLING FORMATION--Reaming  \n",
       "192          DRILLING FORMATION--Reaming  \n",
       "193  DRILLING FORMATION--Rotary Drilling  \n",
       "\n",
       "[194 rows x 17 columns]"
      ]
     },
     "execution_count": 125,
     "metadata": {},
     "output_type": "execute_result"
    }
   ],
   "source": [
    "pd.set_option(\"display.max_rows\", 100)\n",
    "idx_same = MasterReport_DF_Web.index[MasterReport_DF_Web['LABEL_SubActivity'].isin([\"Look and define\", \"FALSE/Check\"])]\n",
    "idx_before = idx_same - 1\n",
    "idx_same = idx_same[idx_before>0]\n",
    "idx_before = idx_before[idx_before>0]\n",
    "\n",
    "MasterReport_DF_Web.loc[idx_same, 'LABEL_SubActivity'] = MasterReport_DF_Web.loc[idx_before, 'LABEL_SubActivity'].values\n",
    "MasterReport_DF_Web['MERGE_SubActivity-Activity'] = MasterReport_DF_Web['LABEL_Activity'] + \"--\"+MasterReport_DF_Web['LABEL_SubActivity']\n",
    "MasterReport_DF_Web"
   ]
  },
  {
   "cell_type": "code",
   "execution_count": 133,
   "metadata": {},
   "outputs": [
    {
     "data": {
      "text/html": [
       "<div>\n",
       "<style scoped>\n",
       "    .dataframe tbody tr th:only-of-type {\n",
       "        vertical-align: middle;\n",
       "    }\n",
       "\n",
       "    .dataframe tbody tr th {\n",
       "        vertical-align: top;\n",
       "    }\n",
       "\n",
       "    .dataframe thead th {\n",
       "        text-align: right;\n",
       "    }\n",
       "</style>\n",
       "<table border=\"1\" class=\"dataframe\">\n",
       "  <thead>\n",
       "    <tr style=\"text-align: right;\">\n",
       "      <th></th>\n",
       "      <th>date</th>\n",
       "      <th>Time_start</th>\n",
       "      <th>Time_end</th>\n",
       "      <th>date_time</th>\n",
       "      <th>Duration(minutes)</th>\n",
       "      <th>Hole Depth(max)</th>\n",
       "      <th>Bit Depth(mean)</th>\n",
       "      <th>Meterage(m)(Drilling)</th>\n",
       "      <th>RotateDrilling</th>\n",
       "      <th>Slide Drilling</th>\n",
       "      <th>ReamingTime</th>\n",
       "      <th>ConnectionTime</th>\n",
       "      <th>On Bottom Hours</th>\n",
       "      <th>Stand Duration</th>\n",
       "      <th>LABEL_SubActivity</th>\n",
       "      <th>LABEL_Activity</th>\n",
       "      <th>MERGE_SubActivity-Activity</th>\n",
       "    </tr>\n",
       "  </thead>\n",
       "  <tbody>\n",
       "    <tr>\n",
       "      <th>0</th>\n",
       "      <td>2022-02-14</td>\n",
       "      <td>00:00:00</td>\n",
       "      <td>11:59:58</td>\n",
       "      <td>2022-02-14 00:00:00</td>\n",
       "      <td>719.97</td>\n",
       "      <td>718.02</td>\n",
       "      <td>640.800000</td>\n",
       "      <td>0.00</td>\n",
       "      <td>0.00</td>\n",
       "      <td>0.0</td>\n",
       "      <td>0.00</td>\n",
       "      <td>0.0</td>\n",
       "      <td>0.0</td>\n",
       "      <td>0.0</td>\n",
       "      <td>FALSE/Check</td>\n",
       "      <td>None</td>\n",
       "      <td>None</td>\n",
       "    </tr>\n",
       "    <tr>\n",
       "      <th>1</th>\n",
       "      <td>2022-02-14</td>\n",
       "      <td>12:00:03</td>\n",
       "      <td>14:59:56</td>\n",
       "      <td>2022-02-14 12:00:03</td>\n",
       "      <td>179.88</td>\n",
       "      <td>747.38</td>\n",
       "      <td>732.210000</td>\n",
       "      <td>0.00</td>\n",
       "      <td>0.00</td>\n",
       "      <td>0.0</td>\n",
       "      <td>0.00</td>\n",
       "      <td>0.0</td>\n",
       "      <td>0.0</td>\n",
       "      <td>0.0</td>\n",
       "      <td>MAKE UP BHA</td>\n",
       "      <td>MAKE UP BHA</td>\n",
       "      <td>MAKE UP BHA--MAKE UP BHA</td>\n",
       "    </tr>\n",
       "    <tr>\n",
       "      <th>2</th>\n",
       "      <td>2022-02-14</td>\n",
       "      <td>15:00:01</td>\n",
       "      <td>15:09:06</td>\n",
       "      <td>2022-02-14 15:00:01</td>\n",
       "      <td>9.08</td>\n",
       "      <td>749.55</td>\n",
       "      <td>748.480000</td>\n",
       "      <td>0.00</td>\n",
       "      <td>0.00</td>\n",
       "      <td>0.0</td>\n",
       "      <td>0.00</td>\n",
       "      <td>0.0</td>\n",
       "      <td>0.0</td>\n",
       "      <td>0.0</td>\n",
       "      <td>Wash Up/Down</td>\n",
       "      <td>TRIP IN</td>\n",
       "      <td>TRIP IN--Wash Up/Down</td>\n",
       "    </tr>\n",
       "    <tr>\n",
       "      <th>3</th>\n",
       "      <td>2022-02-14</td>\n",
       "      <td>15:09:11</td>\n",
       "      <td>15:09:16</td>\n",
       "      <td>2022-02-14 15:09:11</td>\n",
       "      <td>0.00</td>\n",
       "      <td>749.57</td>\n",
       "      <td>749.570000</td>\n",
       "      <td>0.00</td>\n",
       "      <td>0.00</td>\n",
       "      <td>0.0</td>\n",
       "      <td>0.00</td>\n",
       "      <td>0.0</td>\n",
       "      <td>0.0</td>\n",
       "      <td>0.0</td>\n",
       "      <td>Circulation</td>\n",
       "      <td>TRIP IN</td>\n",
       "      <td>TRIP IN--Circulation</td>\n",
       "    </tr>\n",
       "    <tr>\n",
       "      <th>4</th>\n",
       "      <td>2022-02-14</td>\n",
       "      <td>15:09:21</td>\n",
       "      <td>15:09:31</td>\n",
       "      <td>2022-02-14 15:09:21</td>\n",
       "      <td>0.17</td>\n",
       "      <td>749.61</td>\n",
       "      <td>749.600000</td>\n",
       "      <td>0.00</td>\n",
       "      <td>0.00</td>\n",
       "      <td>0.0</td>\n",
       "      <td>0.00</td>\n",
       "      <td>0.0</td>\n",
       "      <td>0.0</td>\n",
       "      <td>0.0</td>\n",
       "      <td>Wash Up/Down</td>\n",
       "      <td>TRIP IN</td>\n",
       "      <td>TRIP IN--Wash Up/Down</td>\n",
       "    </tr>\n",
       "    <tr>\n",
       "      <th>...</th>\n",
       "      <td>...</td>\n",
       "      <td>...</td>\n",
       "      <td>...</td>\n",
       "      <td>...</td>\n",
       "      <td>...</td>\n",
       "      <td>...</td>\n",
       "      <td>...</td>\n",
       "      <td>...</td>\n",
       "      <td>...</td>\n",
       "      <td>...</td>\n",
       "      <td>...</td>\n",
       "      <td>...</td>\n",
       "      <td>...</td>\n",
       "      <td>...</td>\n",
       "      <td>...</td>\n",
       "      <td>...</td>\n",
       "      <td>...</td>\n",
       "    </tr>\n",
       "    <tr>\n",
       "      <th>152</th>\n",
       "      <td>2022-02-14</td>\n",
       "      <td>22:28:01</td>\n",
       "      <td>22:28:06</td>\n",
       "      <td>2022-02-14 22:28:01</td>\n",
       "      <td>0.08</td>\n",
       "      <td>833.44</td>\n",
       "      <td>833.040000</td>\n",
       "      <td>0.00</td>\n",
       "      <td>0.00</td>\n",
       "      <td>0.0</td>\n",
       "      <td>0.08</td>\n",
       "      <td>0.0</td>\n",
       "      <td>0.0</td>\n",
       "      <td>0.0</td>\n",
       "      <td>Reaming</td>\n",
       "      <td>CIRCULATE HOLE CLEANING</td>\n",
       "      <td>CIRCULATE HOLE CLEANING--Reaming</td>\n",
       "    </tr>\n",
       "    <tr>\n",
       "      <th>153</th>\n",
       "      <td>2022-02-14</td>\n",
       "      <td>22:28:11</td>\n",
       "      <td>23:02:56</td>\n",
       "      <td>2022-02-14 22:28:11</td>\n",
       "      <td>34.75</td>\n",
       "      <td>839.24</td>\n",
       "      <td>836.270000</td>\n",
       "      <td>5.80</td>\n",
       "      <td>34.75</td>\n",
       "      <td>0.0</td>\n",
       "      <td>0.00</td>\n",
       "      <td>0.0</td>\n",
       "      <td>0.0</td>\n",
       "      <td>0.0</td>\n",
       "      <td>Rotary Drilling</td>\n",
       "      <td>CIRCULATE HOLE CLEANING</td>\n",
       "      <td>CIRCULATE HOLE CLEANING--Rotary Drilling</td>\n",
       "    </tr>\n",
       "    <tr>\n",
       "      <th>154</th>\n",
       "      <td>2022-02-14</td>\n",
       "      <td>23:03:01</td>\n",
       "      <td>23:06:56</td>\n",
       "      <td>2022-02-14 23:03:01</td>\n",
       "      <td>3.92</td>\n",
       "      <td>839.77</td>\n",
       "      <td>839.530000</td>\n",
       "      <td>0.51</td>\n",
       "      <td>3.92</td>\n",
       "      <td>0.0</td>\n",
       "      <td>0.00</td>\n",
       "      <td>0.0</td>\n",
       "      <td>0.0</td>\n",
       "      <td>0.0</td>\n",
       "      <td>Rotary Drilling</td>\n",
       "      <td>DRILLING FORMATION</td>\n",
       "      <td>DRILLING FORMATION--Rotary Drilling</td>\n",
       "    </tr>\n",
       "    <tr>\n",
       "      <th>155</th>\n",
       "      <td>2022-02-14</td>\n",
       "      <td>23:07:01</td>\n",
       "      <td>23:12:26</td>\n",
       "      <td>2022-02-14 23:07:01</td>\n",
       "      <td>5.25</td>\n",
       "      <td>839.77</td>\n",
       "      <td>834.113333</td>\n",
       "      <td>0.00</td>\n",
       "      <td>0.00</td>\n",
       "      <td>0.0</td>\n",
       "      <td>4.67</td>\n",
       "      <td>0.0</td>\n",
       "      <td>0.0</td>\n",
       "      <td>0.0</td>\n",
       "      <td>Reaming</td>\n",
       "      <td>DRILLING FORMATION</td>\n",
       "      <td>DRILLING FORMATION--Reaming</td>\n",
       "    </tr>\n",
       "    <tr>\n",
       "      <th>156</th>\n",
       "      <td>2022-02-14</td>\n",
       "      <td>23:12:31</td>\n",
       "      <td>23:59:56</td>\n",
       "      <td>2022-02-14 23:12:31</td>\n",
       "      <td>47.42</td>\n",
       "      <td>853.04</td>\n",
       "      <td>846.130000</td>\n",
       "      <td>13.27</td>\n",
       "      <td>47.42</td>\n",
       "      <td>0.0</td>\n",
       "      <td>0.00</td>\n",
       "      <td>0.0</td>\n",
       "      <td>0.0</td>\n",
       "      <td>0.0</td>\n",
       "      <td>Rotary Drilling</td>\n",
       "      <td>DRILLING FORMATION</td>\n",
       "      <td>DRILLING FORMATION--Rotary Drilling</td>\n",
       "    </tr>\n",
       "  </tbody>\n",
       "</table>\n",
       "<p>157 rows × 17 columns</p>\n",
       "</div>"
      ],
      "text/plain": [
       "           date Time_start  Time_end            date_time  Duration(minutes)  \\\n",
       "0    2022-02-14   00:00:00  11:59:58  2022-02-14 00:00:00             719.97   \n",
       "1    2022-02-14   12:00:03  14:59:56  2022-02-14 12:00:03             179.88   \n",
       "2    2022-02-14   15:00:01  15:09:06  2022-02-14 15:00:01               9.08   \n",
       "3    2022-02-14   15:09:11  15:09:16  2022-02-14 15:09:11               0.00   \n",
       "4    2022-02-14   15:09:21  15:09:31  2022-02-14 15:09:21               0.17   \n",
       "..          ...        ...       ...                  ...                ...   \n",
       "152  2022-02-14   22:28:01  22:28:06  2022-02-14 22:28:01               0.08   \n",
       "153  2022-02-14   22:28:11  23:02:56  2022-02-14 22:28:11              34.75   \n",
       "154  2022-02-14   23:03:01  23:06:56  2022-02-14 23:03:01               3.92   \n",
       "155  2022-02-14   23:07:01  23:12:26  2022-02-14 23:07:01               5.25   \n",
       "156  2022-02-14   23:12:31  23:59:56  2022-02-14 23:12:31              47.42   \n",
       "\n",
       "     Hole Depth(max)  Bit Depth(mean)  Meterage(m)(Drilling)  RotateDrilling  \\\n",
       "0             718.02       640.800000                   0.00            0.00   \n",
       "1             747.38       732.210000                   0.00            0.00   \n",
       "2             749.55       748.480000                   0.00            0.00   \n",
       "3             749.57       749.570000                   0.00            0.00   \n",
       "4             749.61       749.600000                   0.00            0.00   \n",
       "..               ...              ...                    ...             ...   \n",
       "152           833.44       833.040000                   0.00            0.00   \n",
       "153           839.24       836.270000                   5.80           34.75   \n",
       "154           839.77       839.530000                   0.51            3.92   \n",
       "155           839.77       834.113333                   0.00            0.00   \n",
       "156           853.04       846.130000                  13.27           47.42   \n",
       "\n",
       "     Slide Drilling  ReamingTime  ConnectionTime  On Bottom Hours  \\\n",
       "0               0.0         0.00             0.0              0.0   \n",
       "1               0.0         0.00             0.0              0.0   \n",
       "2               0.0         0.00             0.0              0.0   \n",
       "3               0.0         0.00             0.0              0.0   \n",
       "4               0.0         0.00             0.0              0.0   \n",
       "..              ...          ...             ...              ...   \n",
       "152             0.0         0.08             0.0              0.0   \n",
       "153             0.0         0.00             0.0              0.0   \n",
       "154             0.0         0.00             0.0              0.0   \n",
       "155             0.0         4.67             0.0              0.0   \n",
       "156             0.0         0.00             0.0              0.0   \n",
       "\n",
       "     Stand Duration LABEL_SubActivity           LABEL_Activity  \\\n",
       "0               0.0       FALSE/Check                     None   \n",
       "1               0.0       MAKE UP BHA              MAKE UP BHA   \n",
       "2               0.0      Wash Up/Down                  TRIP IN   \n",
       "3               0.0       Circulation                  TRIP IN   \n",
       "4               0.0      Wash Up/Down                  TRIP IN   \n",
       "..              ...               ...                      ...   \n",
       "152             0.0           Reaming  CIRCULATE HOLE CLEANING   \n",
       "153             0.0   Rotary Drilling  CIRCULATE HOLE CLEANING   \n",
       "154             0.0   Rotary Drilling       DRILLING FORMATION   \n",
       "155             0.0           Reaming       DRILLING FORMATION   \n",
       "156             0.0   Rotary Drilling       DRILLING FORMATION   \n",
       "\n",
       "                   MERGE_SubActivity-Activity  \n",
       "0                                        None  \n",
       "1                    MAKE UP BHA--MAKE UP BHA  \n",
       "2                       TRIP IN--Wash Up/Down  \n",
       "3                        TRIP IN--Circulation  \n",
       "4                       TRIP IN--Wash Up/Down  \n",
       "..                                        ...  \n",
       "152          CIRCULATE HOLE CLEANING--Reaming  \n",
       "153  CIRCULATE HOLE CLEANING--Rotary Drilling  \n",
       "154       DRILLING FORMATION--Rotary Drilling  \n",
       "155               DRILLING FORMATION--Reaming  \n",
       "156       DRILLING FORMATION--Rotary Drilling  \n",
       "\n",
       "[157 rows x 17 columns]"
      ]
     },
     "execution_count": 133,
     "metadata": {},
     "output_type": "execute_result"
    }
   ],
   "source": [
    "MasterReport_DF_Web.groupby((MasterReport_DF_Web['MERGE_SubActivity-Activity'].shift() != MasterReport_DF_Web['MERGE_SubActivity-Activity']).cumsum(), as_index=False).agg(\n",
    "    {\n",
    "        'date':'max',\n",
    "        'Time_start':'min',\n",
    "        'Time_end':'max',\n",
    "        'date_time':'min',\n",
    "        'Duration(minutes)':'sum',\n",
    "        'Hole Depth(max)':'max',\n",
    "        'Bit Depth(mean)': 'mean',\n",
    "        \n",
    "        'Meterage(m)(Drilling)':'sum',\n",
    "        'RotateDrilling':'sum',\n",
    "        'Slide Drilling':'sum',\n",
    "        'ReamingTime':'sum',\n",
    "        'ConnectionTime':'sum',\n",
    "        'On Bottom Hours':'sum',\n",
    "        'Stand Duration':'sum',\n",
    "        'LABEL_SubActivity':'first',\n",
    "        'LABEL_Activity':'first',\n",
    "        'MERGE_SubActivity-Activity':'first'\n",
    "    }\n",
    ")\n",
    "\n"
   ]
  },
  {
   "cell_type": "code",
   "execution_count": 128,
   "metadata": {},
   "outputs": [
    {
     "name": "stdout",
     "output_type": "stream",
     "text": [
      "date\n",
      "Time_start\n",
      "Time_end\n",
      "date_time\n",
      "Duration(minutes)\n",
      "Hole Depth(max)\n",
      "Bit Depth(mean)\n",
      "Meterage(m)(Drilling)\n",
      "RotateDrilling\n",
      "Slide Drilling\n",
      "ReamingTime\n",
      "ConnectionTime\n",
      "On Bottom Hours\n",
      "Stand Duration\n",
      "LABEL_SubActivity\n",
      "LABEL_Activity\n",
      "MERGE_SubActivity-Activity\n"
     ]
    }
   ],
   "source": [
    "for i in MasterReport_DF_Web.columns:\n",
    "    print(i)"
   ]
  },
  {
   "cell_type": "code",
   "execution_count": 185,
   "metadata": {},
   "outputs": [],
   "source": [
    "def cleanFalseSensor(MasterReport_DF_Web):\n",
    "    MasterReport_DF_Web = MasterReport_DF_Web.reset_index(drop=True)\n",
    "    # while (\"FALSE/Check\" in MasterReport_DF_Web['LABEL_SubActivity'].values) or (\"Look and define\" in MasterReport_DF_Web['LABEL_SubActivity'].values):\n",
    "    idx_same = MasterReport_DF_Web.index[MasterReport_DF_Web['LABEL_SubActivity']==\"Look and define\"]\n",
    "    idx_before = idx_same - 1\n",
    "\n",
    "    idx_same = idx_same[idx_before>0]\n",
    "    idx_before = idx_before[idx_before>0]\n",
    "    \n",
    "    MasterReport_DF_Web.loc[idx_same, 'LABEL_SubActivity'] = MasterReport_DF_Web.loc[idx_before, 'LABEL_SubActivity'].values\n",
    "    MasterReport_DF_Web['MERGE_SubActivity-Activity'] = MasterReport_DF_Web['LABEL_Activity'] + \"--\"+MasterReport_DF_Web['LABEL_SubActivity']\n",
    "\n",
    "    idx_same = MasterReport_DF_Web.index[MasterReport_DF_Web['LABEL_SubActivity']==\"FALSE/Check\"]\n",
    "    # print(idx_same)\n",
    "    idx_before = idx_same - 1\n",
    "\n",
    "    idx_same = idx_same[idx_before>0]\n",
    "    # print(idx_same)\n",
    "    idx_before = idx_before[idx_before>0]\n",
    "    # print(idx_before)\n",
    "    \n",
    "    MasterReport_DF_Web.loc[idx_same, 'LABEL_SubActivity'] = MasterReport_DF_Web.loc[idx_before, 'LABEL_SubActivity'].values\n",
    "    MasterReport_DF_Web['MERGE_SubActivity-Activity'] = MasterReport_DF_Web['LABEL_Activity'] + \"--\"+MasterReport_DF_Web['LABEL_SubActivity']\n",
    "\n",
    "\n",
    "    idx_same = MasterReport_DF_Web.index[MasterReport_DF_Web['LABEL_SubActivity']==\"FALSE/Check\"]\n",
    "    idx_before = idx_same - 1\n",
    "\n",
    "    idx_same = idx_same[idx_before>0]\n",
    "    idx_before = idx_before[idx_before>0]\n",
    "    \n",
    "    MasterReport_DF_Web.loc[idx_same, 'LABEL_SubActivity'] = MasterReport_DF_Web.loc[idx_before, 'LABEL_SubActivity'].values\n",
    "    MasterReport_DF_Web['MERGE_SubActivity-Activity'] = MasterReport_DF_Web['LABEL_Activity'] + \"--\"+MasterReport_DF_Web['LABEL_SubActivity']\n",
    "\n",
    "    idx_same = MasterReport_DF_Web.index[MasterReport_DF_Web['LABEL_SubActivity']==\"Look and define\"]\n",
    "    # print(idx_same)\n",
    "    idx_before = idx_same - 1\n",
    "\n",
    "    idx_same = idx_same[idx_before>0]\n",
    "    # print(idx_same)\n",
    "    idx_before = idx_before[idx_before>0]\n",
    "    # print(idx_before)\n",
    "    \n",
    "    MasterReport_DF_Web.loc[idx_same, 'LABEL_SubActivity'] = MasterReport_DF_Web.loc[idx_before, 'LABEL_SubActivity'].values\n",
    "    MasterReport_DF_Web['MERGE_SubActivity-Activity'] = MasterReport_DF_Web['LABEL_Activity'] + \"--\"+MasterReport_DF_Web['LABEL_SubActivity']\n",
    "\n",
    "\n",
    "    MasterReport_DF_Web = MasterReport_DF_Web.groupby((MasterReport_DF_Web['MERGE_SubActivity-Activity'].shift() != MasterReport_DF_Web['MERGE_SubActivity-Activity']).cumsum(), as_index=False).agg(\n",
    "        {\n",
    "            'date':'max',\n",
    "            'Time_start':'min',\n",
    "            'Time_end':'max',\n",
    "            'date_time':'min',\n",
    "            'Duration(minutes)':'sum',\n",
    "            'Hole Depth(max)':'max',\n",
    "            'Bit Depth(mean)': 'mean',\n",
    "\n",
    "            'Meterage(m)(Drilling)':'sum',\n",
    "            'RotateDrilling':'sum',\n",
    "            'Slide Drilling':'sum',\n",
    "            'ReamingTime':'sum',\n",
    "            'ConnectionTime':'sum',\n",
    "            'On Bottom Hours':'sum',\n",
    "            'Stand Duration':'sum',\n",
    "            'LABEL_SubActivity':'first',\n",
    "            'LABEL_Activity':'first',\n",
    "            'MERGE_SubActivity-Activity':'first'\n",
    "        }\n",
    "    )\n",
    "    # list_col = [\n",
    "    #         # 'Meterage(m)(Drilling)',\n",
    "    #         'RotateDrilling',\n",
    "    #         'Slide Drilling',\n",
    "    #         'ReamingTime',\n",
    "    #         # 'ConnectionTime',\n",
    "    #         # 'On Bottom Hours',\n",
    "    #         # 'Stand Duration'\n",
    "    # ]\n",
    "    # for ColName in list_col:\n",
    "    idx_temp = MasterReport_DF_Web['LABEL_SubActivity']=='RotateDrilling'\n",
    "    MasterReport_DF_Web.loc[idx_temp,'RotateDrilling'] = MasterReport_DF_Web.loc[idx_temp,'Duration(minutes)'].values \n",
    "\n",
    "    idx_temp = MasterReport_DF_Web['LABEL_SubActivity']=='Slide Drilling'\n",
    "    MasterReport_DF_Web.loc[idx_temp,'Slide Drilling'] = MasterReport_DF_Web.loc[idx_temp,'Duration(minutes)'].values \n",
    "\n",
    "    idx_temp = MasterReport_DF_Web['LABEL_SubActivity']=='ReamingTime'\n",
    "    MasterReport_DF_Web.loc[idx_temp,'ReamingTime'] = MasterReport_DF_Web.loc[idx_temp,'Duration(minutes)'].values \n",
    "\n",
    "    return MasterReport_DF_Web\n",
    "\n",
    "def labelStand(MasterReport_DF):\n",
    "    # date\n",
    "    # Time_start\n",
    "    # Time_end\n",
    "    # date_time\n",
    "    # Duration(minutes)\n",
    "    # Hole Depth(max)\n",
    "    # Bit Depth(mean)\n",
    "    # Meterage(m)(Drilling)\n",
    "    # RotateDrilling\n",
    "    # Slide Drilling\n",
    "    # ReamingTime\n",
    "    # ConnectionTime\n",
    "    # On Bottom Hours\n",
    "    # Stand Duration\n",
    "    # LABEL_SubActivity\n",
    "    # LABEL_Activity\n",
    "    # MasterReport_DF = pd.read_excel('Data\\\\Master_Report\\\\MasterReportTest.xlsx')\n",
    "    # print(MasterReport_DF.dtypes)\n",
    "    MasterReport_DF['Stand Meterage (m) (Drilling)'] = np.NaN\n",
    "    MasterReport_DF['Stand Stand Duration (hrs)'] = np.NaN\n",
    "    MasterReport_DF['Stand On Bottom Hours'] = np.NaN\n",
    "    MasterReport_DF = MasterReport_DF.astype(\n",
    "            {\n",
    "                'Duration(minutes)':'float',\n",
    "                'Hole Depth(max)':'float',\n",
    "                'Bit Depth(mean)':'float',\n",
    "                \"Meterage(m)(Drilling)\":'float',\n",
    "                \"Stand Meterage (m) (Drilling)\":'float',\n",
    "                \"RotateDrilling\":'float',\n",
    "                'Slide Drilling':'float',\n",
    "                'ReamingTime':'float',\n",
    "                'ConnectionTime':'float',\n",
    "                'On Bottom Hours':'float',\n",
    "                'Stand On Bottom Hours':'float',\n",
    "                'Stand Duration':'float',\n",
    "                'Stand Stand Duration (hrs)':'float',\n",
    "\n",
    "            }\n",
    "    )\n",
    "    MasterReport_DF = MasterReport_DF.reset_index(drop=True).fillna(0)\n",
    "\n",
    "    ii = 0\n",
    "    for idx,row in MasterReport_DF[(MasterReport_DF['LABEL_SubActivity']=='Connection')].iterrows():\n",
    "        # print(idx)\n",
    "        if ii==0:\n",
    "\n",
    "            idx_start = idx + 1\n",
    "\n",
    "        else:\n",
    "            idx_end = idx - 1\n",
    "        \n",
    "            MasterReport_DF.loc[idx_start:idx_end, 'Stand Group_Pred'] = 'Stand Group - ' + str(ii)\n",
    "\n",
    "\n",
    "            OnBottomHours =  MasterReport_DF.loc[idx_start:idx_end, 'RotateDrilling'].sum() + MasterReport_DF.loc[idx_start:idx_end, 'Slide Drilling'].sum()\n",
    "            StandDuration =  MasterReport_DF.loc[idx_start:idx_end+1, 'Duration(minutes)'].sum()\n",
    "            StandMeterageDrilling = MasterReport_DF.loc[idx_start:idx_end, 'Meterage(m)(Drilling)'].sum()\n",
    "\n",
    "\n",
    "            MasterReport_DF.loc[idx, 'Stand On Bottom Hours'] = OnBottomHours\n",
    "            MasterReport_DF.loc[idx, 'Stand Stand Duration (hrs)'] = StandDuration\n",
    "            MasterReport_DF.loc[idx, \"Stand Meterage (m) (Drilling)\"] = StandMeterageDrilling\n",
    "\n",
    "            # print(str(idx_start) + \" - \" + str(idx_end))\n",
    "            idx_start = idx + 1\n",
    "\n",
    "        ii = ii + 1\n",
    "    return MasterReport_DF"
   ]
  },
  {
   "cell_type": "code",
   "execution_count": 186,
   "metadata": {},
   "outputs": [],
   "source": [
    "MasterReport_DF = pd.read_excel('Data\\\\Master_Report\\\\MasterReportTest.xlsx')\n",
    "# for i in MasterReport_DF.columns:\n",
    "#     print(i)\n",
    "\n",
    "# print('=======  WEB   ===========')\n",
    "\n",
    "\n",
    "\n",
    "MasterReport_DF_Web = pd.read_csv(\"Data\\\\Master_Report\\\\KS ORKA_SMP AAE-08_ActivitySummary.csv\", index_col=0)\n",
    "MasterReport_DF_Web_out = labelStand(cleanFalseSensor((MasterReport_DF_Web)))\n",
    "MasterReport_DF_Web_out.to_excel(\"Data\\\\Master_Report\\\\output_finalxxx.xlsx\")\n",
    "# for i in MasterReport_DF_Web:\n",
    "#     print(i)"
   ]
  },
  {
   "cell_type": "code",
   "execution_count": 1,
   "metadata": {},
   "outputs": [
    {
     "data": {
      "application/vnd.plotly.v1+json": {
       "config": {
        "plotlyServerURL": "https://plot.ly"
       },
       "data": [
        {
         "branchvalues": "total",
         "domain": {
          "x": [
           0,
           1
          ],
          "y": [
           0,
           1
          ]
         },
         "hovertemplate": "labels=%{label}<br>total_bill=%{value}<br>parent=%{parent}<br>id=%{id}<extra></extra>",
         "ids": [
          "Fri/Dinner/Female",
          "Sat/Dinner/Female",
          "Sun/Dinner/Female",
          "Thur/Dinner/Female",
          "Fri/Lunch/Female",
          "Thur/Lunch/Female",
          "Fri/Dinner/Male",
          "Sat/Dinner/Male",
          "Sun/Dinner/Male",
          "Fri/Lunch/Male",
          "Thur/Lunch/Male",
          "Fri/Dinner",
          "Sat/Dinner",
          "Sun/Dinner",
          "Thur/Dinner",
          "Fri/Lunch",
          "Thur/Lunch",
          "Fri",
          "Sat",
          "Sun",
          "Thur"
         ],
         "labels": [
          "Female",
          "Female",
          "Female",
          "Female",
          "Female",
          "Female",
          "Male",
          "Male",
          "Male",
          "Male",
          "Male",
          "Dinner",
          "Dinner",
          "Dinner",
          "Dinner",
          "Lunch",
          "Lunch",
          "Fri",
          "Sat",
          "Sun",
          "Thur"
         ],
         "name": "",
         "parents": [
          "Fri/Dinner",
          "Sat/Dinner",
          "Sun/Dinner",
          "Thur/Dinner",
          "Fri/Lunch",
          "Thur/Lunch",
          "Fri/Dinner",
          "Sat/Dinner",
          "Sun/Dinner",
          "Fri/Lunch",
          "Thur/Lunch",
          "Fri",
          "Sat",
          "Sun",
          "Thur",
          "Fri",
          "Thur",
          "",
          "",
          "",
          ""
         ],
         "type": "sunburst",
         "values": [
          71.55,
          551.05,
          357.7,
          18.78,
          55.760000000000005,
          516.11,
          164.41,
          1227.35,
          1269.46,
          34.16,
          561.4399999999999,
          235.96,
          1778.4,
          1627.16,
          18.78,
          89.92,
          1077.55,
          325.88,
          1778.4,
          1627.16,
          1096.33
         ]
        }
       ],
       "layout": {
        "legend": {
         "tracegroupgap": 0
        },
        "margin": {
         "t": 60
        },
        "template": {
         "data": {
          "bar": [
           {
            "error_x": {
             "color": "#2a3f5f"
            },
            "error_y": {
             "color": "#2a3f5f"
            },
            "marker": {
             "line": {
              "color": "#E5ECF6",
              "width": 0.5
             },
             "pattern": {
              "fillmode": "overlay",
              "size": 10,
              "solidity": 0.2
             }
            },
            "type": "bar"
           }
          ],
          "barpolar": [
           {
            "marker": {
             "line": {
              "color": "#E5ECF6",
              "width": 0.5
             },
             "pattern": {
              "fillmode": "overlay",
              "size": 10,
              "solidity": 0.2
             }
            },
            "type": "barpolar"
           }
          ],
          "carpet": [
           {
            "aaxis": {
             "endlinecolor": "#2a3f5f",
             "gridcolor": "white",
             "linecolor": "white",
             "minorgridcolor": "white",
             "startlinecolor": "#2a3f5f"
            },
            "baxis": {
             "endlinecolor": "#2a3f5f",
             "gridcolor": "white",
             "linecolor": "white",
             "minorgridcolor": "white",
             "startlinecolor": "#2a3f5f"
            },
            "type": "carpet"
           }
          ],
          "choropleth": [
           {
            "colorbar": {
             "outlinewidth": 0,
             "ticks": ""
            },
            "type": "choropleth"
           }
          ],
          "contour": [
           {
            "colorbar": {
             "outlinewidth": 0,
             "ticks": ""
            },
            "colorscale": [
             [
              0,
              "#0d0887"
             ],
             [
              0.1111111111111111,
              "#46039f"
             ],
             [
              0.2222222222222222,
              "#7201a8"
             ],
             [
              0.3333333333333333,
              "#9c179e"
             ],
             [
              0.4444444444444444,
              "#bd3786"
             ],
             [
              0.5555555555555556,
              "#d8576b"
             ],
             [
              0.6666666666666666,
              "#ed7953"
             ],
             [
              0.7777777777777778,
              "#fb9f3a"
             ],
             [
              0.8888888888888888,
              "#fdca26"
             ],
             [
              1,
              "#f0f921"
             ]
            ],
            "type": "contour"
           }
          ],
          "contourcarpet": [
           {
            "colorbar": {
             "outlinewidth": 0,
             "ticks": ""
            },
            "type": "contourcarpet"
           }
          ],
          "heatmap": [
           {
            "colorbar": {
             "outlinewidth": 0,
             "ticks": ""
            },
            "colorscale": [
             [
              0,
              "#0d0887"
             ],
             [
              0.1111111111111111,
              "#46039f"
             ],
             [
              0.2222222222222222,
              "#7201a8"
             ],
             [
              0.3333333333333333,
              "#9c179e"
             ],
             [
              0.4444444444444444,
              "#bd3786"
             ],
             [
              0.5555555555555556,
              "#d8576b"
             ],
             [
              0.6666666666666666,
              "#ed7953"
             ],
             [
              0.7777777777777778,
              "#fb9f3a"
             ],
             [
              0.8888888888888888,
              "#fdca26"
             ],
             [
              1,
              "#f0f921"
             ]
            ],
            "type": "heatmap"
           }
          ],
          "heatmapgl": [
           {
            "colorbar": {
             "outlinewidth": 0,
             "ticks": ""
            },
            "colorscale": [
             [
              0,
              "#0d0887"
             ],
             [
              0.1111111111111111,
              "#46039f"
             ],
             [
              0.2222222222222222,
              "#7201a8"
             ],
             [
              0.3333333333333333,
              "#9c179e"
             ],
             [
              0.4444444444444444,
              "#bd3786"
             ],
             [
              0.5555555555555556,
              "#d8576b"
             ],
             [
              0.6666666666666666,
              "#ed7953"
             ],
             [
              0.7777777777777778,
              "#fb9f3a"
             ],
             [
              0.8888888888888888,
              "#fdca26"
             ],
             [
              1,
              "#f0f921"
             ]
            ],
            "type": "heatmapgl"
           }
          ],
          "histogram": [
           {
            "marker": {
             "pattern": {
              "fillmode": "overlay",
              "size": 10,
              "solidity": 0.2
             }
            },
            "type": "histogram"
           }
          ],
          "histogram2d": [
           {
            "colorbar": {
             "outlinewidth": 0,
             "ticks": ""
            },
            "colorscale": [
             [
              0,
              "#0d0887"
             ],
             [
              0.1111111111111111,
              "#46039f"
             ],
             [
              0.2222222222222222,
              "#7201a8"
             ],
             [
              0.3333333333333333,
              "#9c179e"
             ],
             [
              0.4444444444444444,
              "#bd3786"
             ],
             [
              0.5555555555555556,
              "#d8576b"
             ],
             [
              0.6666666666666666,
              "#ed7953"
             ],
             [
              0.7777777777777778,
              "#fb9f3a"
             ],
             [
              0.8888888888888888,
              "#fdca26"
             ],
             [
              1,
              "#f0f921"
             ]
            ],
            "type": "histogram2d"
           }
          ],
          "histogram2dcontour": [
           {
            "colorbar": {
             "outlinewidth": 0,
             "ticks": ""
            },
            "colorscale": [
             [
              0,
              "#0d0887"
             ],
             [
              0.1111111111111111,
              "#46039f"
             ],
             [
              0.2222222222222222,
              "#7201a8"
             ],
             [
              0.3333333333333333,
              "#9c179e"
             ],
             [
              0.4444444444444444,
              "#bd3786"
             ],
             [
              0.5555555555555556,
              "#d8576b"
             ],
             [
              0.6666666666666666,
              "#ed7953"
             ],
             [
              0.7777777777777778,
              "#fb9f3a"
             ],
             [
              0.8888888888888888,
              "#fdca26"
             ],
             [
              1,
              "#f0f921"
             ]
            ],
            "type": "histogram2dcontour"
           }
          ],
          "mesh3d": [
           {
            "colorbar": {
             "outlinewidth": 0,
             "ticks": ""
            },
            "type": "mesh3d"
           }
          ],
          "parcoords": [
           {
            "line": {
             "colorbar": {
              "outlinewidth": 0,
              "ticks": ""
             }
            },
            "type": "parcoords"
           }
          ],
          "pie": [
           {
            "automargin": true,
            "type": "pie"
           }
          ],
          "scatter": [
           {
            "marker": {
             "colorbar": {
              "outlinewidth": 0,
              "ticks": ""
             }
            },
            "type": "scatter"
           }
          ],
          "scatter3d": [
           {
            "line": {
             "colorbar": {
              "outlinewidth": 0,
              "ticks": ""
             }
            },
            "marker": {
             "colorbar": {
              "outlinewidth": 0,
              "ticks": ""
             }
            },
            "type": "scatter3d"
           }
          ],
          "scattercarpet": [
           {
            "marker": {
             "colorbar": {
              "outlinewidth": 0,
              "ticks": ""
             }
            },
            "type": "scattercarpet"
           }
          ],
          "scattergeo": [
           {
            "marker": {
             "colorbar": {
              "outlinewidth": 0,
              "ticks": ""
             }
            },
            "type": "scattergeo"
           }
          ],
          "scattergl": [
           {
            "marker": {
             "colorbar": {
              "outlinewidth": 0,
              "ticks": ""
             }
            },
            "type": "scattergl"
           }
          ],
          "scattermapbox": [
           {
            "marker": {
             "colorbar": {
              "outlinewidth": 0,
              "ticks": ""
             }
            },
            "type": "scattermapbox"
           }
          ],
          "scatterpolar": [
           {
            "marker": {
             "colorbar": {
              "outlinewidth": 0,
              "ticks": ""
             }
            },
            "type": "scatterpolar"
           }
          ],
          "scatterpolargl": [
           {
            "marker": {
             "colorbar": {
              "outlinewidth": 0,
              "ticks": ""
             }
            },
            "type": "scatterpolargl"
           }
          ],
          "scatterternary": [
           {
            "marker": {
             "colorbar": {
              "outlinewidth": 0,
              "ticks": ""
             }
            },
            "type": "scatterternary"
           }
          ],
          "surface": [
           {
            "colorbar": {
             "outlinewidth": 0,
             "ticks": ""
            },
            "colorscale": [
             [
              0,
              "#0d0887"
             ],
             [
              0.1111111111111111,
              "#46039f"
             ],
             [
              0.2222222222222222,
              "#7201a8"
             ],
             [
              0.3333333333333333,
              "#9c179e"
             ],
             [
              0.4444444444444444,
              "#bd3786"
             ],
             [
              0.5555555555555556,
              "#d8576b"
             ],
             [
              0.6666666666666666,
              "#ed7953"
             ],
             [
              0.7777777777777778,
              "#fb9f3a"
             ],
             [
              0.8888888888888888,
              "#fdca26"
             ],
             [
              1,
              "#f0f921"
             ]
            ],
            "type": "surface"
           }
          ],
          "table": [
           {
            "cells": {
             "fill": {
              "color": "#EBF0F8"
             },
             "line": {
              "color": "white"
             }
            },
            "header": {
             "fill": {
              "color": "#C8D4E3"
             },
             "line": {
              "color": "white"
             }
            },
            "type": "table"
           }
          ]
         },
         "layout": {
          "annotationdefaults": {
           "arrowcolor": "#2a3f5f",
           "arrowhead": 0,
           "arrowwidth": 1
          },
          "autotypenumbers": "strict",
          "coloraxis": {
           "colorbar": {
            "outlinewidth": 0,
            "ticks": ""
           }
          },
          "colorscale": {
           "diverging": [
            [
             0,
             "#8e0152"
            ],
            [
             0.1,
             "#c51b7d"
            ],
            [
             0.2,
             "#de77ae"
            ],
            [
             0.3,
             "#f1b6da"
            ],
            [
             0.4,
             "#fde0ef"
            ],
            [
             0.5,
             "#f7f7f7"
            ],
            [
             0.6,
             "#e6f5d0"
            ],
            [
             0.7,
             "#b8e186"
            ],
            [
             0.8,
             "#7fbc41"
            ],
            [
             0.9,
             "#4d9221"
            ],
            [
             1,
             "#276419"
            ]
           ],
           "sequential": [
            [
             0,
             "#0d0887"
            ],
            [
             0.1111111111111111,
             "#46039f"
            ],
            [
             0.2222222222222222,
             "#7201a8"
            ],
            [
             0.3333333333333333,
             "#9c179e"
            ],
            [
             0.4444444444444444,
             "#bd3786"
            ],
            [
             0.5555555555555556,
             "#d8576b"
            ],
            [
             0.6666666666666666,
             "#ed7953"
            ],
            [
             0.7777777777777778,
             "#fb9f3a"
            ],
            [
             0.8888888888888888,
             "#fdca26"
            ],
            [
             1,
             "#f0f921"
            ]
           ],
           "sequentialminus": [
            [
             0,
             "#0d0887"
            ],
            [
             0.1111111111111111,
             "#46039f"
            ],
            [
             0.2222222222222222,
             "#7201a8"
            ],
            [
             0.3333333333333333,
             "#9c179e"
            ],
            [
             0.4444444444444444,
             "#bd3786"
            ],
            [
             0.5555555555555556,
             "#d8576b"
            ],
            [
             0.6666666666666666,
             "#ed7953"
            ],
            [
             0.7777777777777778,
             "#fb9f3a"
            ],
            [
             0.8888888888888888,
             "#fdca26"
            ],
            [
             1,
             "#f0f921"
            ]
           ]
          },
          "colorway": [
           "#636efa",
           "#EF553B",
           "#00cc96",
           "#ab63fa",
           "#FFA15A",
           "#19d3f3",
           "#FF6692",
           "#B6E880",
           "#FF97FF",
           "#FECB52"
          ],
          "font": {
           "color": "#2a3f5f"
          },
          "geo": {
           "bgcolor": "white",
           "lakecolor": "white",
           "landcolor": "#E5ECF6",
           "showlakes": true,
           "showland": true,
           "subunitcolor": "white"
          },
          "hoverlabel": {
           "align": "left"
          },
          "hovermode": "closest",
          "mapbox": {
           "style": "light"
          },
          "paper_bgcolor": "white",
          "plot_bgcolor": "#E5ECF6",
          "polar": {
           "angularaxis": {
            "gridcolor": "white",
            "linecolor": "white",
            "ticks": ""
           },
           "bgcolor": "#E5ECF6",
           "radialaxis": {
            "gridcolor": "white",
            "linecolor": "white",
            "ticks": ""
           }
          },
          "scene": {
           "xaxis": {
            "backgroundcolor": "#E5ECF6",
            "gridcolor": "white",
            "gridwidth": 2,
            "linecolor": "white",
            "showbackground": true,
            "ticks": "",
            "zerolinecolor": "white"
           },
           "yaxis": {
            "backgroundcolor": "#E5ECF6",
            "gridcolor": "white",
            "gridwidth": 2,
            "linecolor": "white",
            "showbackground": true,
            "ticks": "",
            "zerolinecolor": "white"
           },
           "zaxis": {
            "backgroundcolor": "#E5ECF6",
            "gridcolor": "white",
            "gridwidth": 2,
            "linecolor": "white",
            "showbackground": true,
            "ticks": "",
            "zerolinecolor": "white"
           }
          },
          "shapedefaults": {
           "line": {
            "color": "#2a3f5f"
           }
          },
          "ternary": {
           "aaxis": {
            "gridcolor": "white",
            "linecolor": "white",
            "ticks": ""
           },
           "baxis": {
            "gridcolor": "white",
            "linecolor": "white",
            "ticks": ""
           },
           "bgcolor": "#E5ECF6",
           "caxis": {
            "gridcolor": "white",
            "linecolor": "white",
            "ticks": ""
           }
          },
          "title": {
           "x": 0.05
          },
          "xaxis": {
           "automargin": true,
           "gridcolor": "white",
           "linecolor": "white",
           "ticks": "",
           "title": {
            "standoff": 15
           },
           "zerolinecolor": "white",
           "zerolinewidth": 2
          },
          "yaxis": {
           "automargin": true,
           "gridcolor": "white",
           "linecolor": "white",
           "ticks": "",
           "title": {
            "standoff": 15
           },
           "zerolinecolor": "white",
           "zerolinewidth": 2
          }
         }
        }
       }
      }
     },
     "metadata": {},
     "output_type": "display_data"
    }
   ],
   "source": [
    "import plotly.express as px\n",
    "df = px.data.tips()\n",
    "fig = px.sunburst(df, path=['day', 'time', 'sex'], values='total_bill')\n",
    "fig.show()"
   ]
  },
  {
   "cell_type": "code",
   "execution_count": 6,
   "metadata": {},
   "outputs": [
    {
     "data": {
      "text/plain": [
       "total_bill    float64\n",
       "tip           float64\n",
       "sex            object\n",
       "smoker         object\n",
       "day            object\n",
       "time           object\n",
       "size            int64\n",
       "dtype: object"
      ]
     },
     "execution_count": 6,
     "metadata": {},
     "output_type": "execute_result"
    }
   ],
   "source": [
    "df.dtypes"
   ]
  },
  {
   "cell_type": "code",
   "execution_count": 3,
   "metadata": {},
   "outputs": [
    {
     "data": {
      "text/html": [
       "<div>\n",
       "<style scoped>\n",
       "    .dataframe tbody tr th:only-of-type {\n",
       "        vertical-align: middle;\n",
       "    }\n",
       "\n",
       "    .dataframe tbody tr th {\n",
       "        vertical-align: top;\n",
       "    }\n",
       "\n",
       "    .dataframe thead th {\n",
       "        text-align: right;\n",
       "    }\n",
       "</style>\n",
       "<table border=\"1\" class=\"dataframe\">\n",
       "  <thead>\n",
       "    <tr style=\"text-align: right;\">\n",
       "      <th></th>\n",
       "      <th>date</th>\n",
       "      <th>Time_start</th>\n",
       "      <th>Time_end</th>\n",
       "      <th>date_time</th>\n",
       "      <th>Duration(minutes)</th>\n",
       "      <th>Hole Depth(max)</th>\n",
       "      <th>Bit Depth(mean)</th>\n",
       "      <th>Meterage(m)(Drilling)</th>\n",
       "      <th>RotateDrilling</th>\n",
       "      <th>Slide Drilling</th>\n",
       "      <th>...</th>\n",
       "      <th>ConnectionTime</th>\n",
       "      <th>On Bottom Hours</th>\n",
       "      <th>Stand Duration</th>\n",
       "      <th>LABEL_SubActivity</th>\n",
       "      <th>LABEL_Activity</th>\n",
       "      <th>MERGE_SubActivity-Activity</th>\n",
       "      <th>Stand Meterage (m) (Drilling)</th>\n",
       "      <th>Stand Stand Duration (hrs)</th>\n",
       "      <th>Stand On Bottom Hours</th>\n",
       "      <th>Stand Group_Pred</th>\n",
       "    </tr>\n",
       "  </thead>\n",
       "  <tbody>\n",
       "    <tr>\n",
       "      <th>0</th>\n",
       "      <td>2022-02-14 00:00:00</td>\n",
       "      <td>00:00:00</td>\n",
       "      <td>11:59:58</td>\n",
       "      <td>2022-02-14 00:00:00</td>\n",
       "      <td>719.97</td>\n",
       "      <td>718.02</td>\n",
       "      <td>640.80</td>\n",
       "      <td>0.00</td>\n",
       "      <td>0.00</td>\n",
       "      <td>0.00</td>\n",
       "      <td>...</td>\n",
       "      <td>0.0</td>\n",
       "      <td>0.0</td>\n",
       "      <td>0.0</td>\n",
       "      <td>FALSE/Check</td>\n",
       "      <td>NaN</td>\n",
       "      <td>nan--FALSE/Check</td>\n",
       "      <td>0.0</td>\n",
       "      <td>0.0</td>\n",
       "      <td>0.0</td>\n",
       "      <td>NaN</td>\n",
       "    </tr>\n",
       "    <tr>\n",
       "      <th>1</th>\n",
       "      <td>2022-02-14 00:00:00</td>\n",
       "      <td>12:00:03</td>\n",
       "      <td>14:59:56</td>\n",
       "      <td>2022-02-14 12:00:03</td>\n",
       "      <td>179.88</td>\n",
       "      <td>747.38</td>\n",
       "      <td>732.21</td>\n",
       "      <td>0.00</td>\n",
       "      <td>0.00</td>\n",
       "      <td>0.00</td>\n",
       "      <td>...</td>\n",
       "      <td>0.0</td>\n",
       "      <td>0.0</td>\n",
       "      <td>0.0</td>\n",
       "      <td>MAKE UP BHA</td>\n",
       "      <td>MAKE UP BHA</td>\n",
       "      <td>MAKE UP BHA--MAKE UP BHA</td>\n",
       "      <td>0.0</td>\n",
       "      <td>0.0</td>\n",
       "      <td>0.0</td>\n",
       "      <td>NaN</td>\n",
       "    </tr>\n",
       "    <tr>\n",
       "      <th>2</th>\n",
       "      <td>2022-02-14 00:00:00</td>\n",
       "      <td>15:00:01</td>\n",
       "      <td>15:09:06</td>\n",
       "      <td>2022-02-14 15:00:01</td>\n",
       "      <td>9.08</td>\n",
       "      <td>749.55</td>\n",
       "      <td>748.48</td>\n",
       "      <td>0.00</td>\n",
       "      <td>0.00</td>\n",
       "      <td>0.00</td>\n",
       "      <td>...</td>\n",
       "      <td>0.0</td>\n",
       "      <td>0.0</td>\n",
       "      <td>0.0</td>\n",
       "      <td>Wash Up/Down</td>\n",
       "      <td>TRIP IN</td>\n",
       "      <td>TRIP IN--Wash Up/Down</td>\n",
       "      <td>0.0</td>\n",
       "      <td>0.0</td>\n",
       "      <td>0.0</td>\n",
       "      <td>NaN</td>\n",
       "    </tr>\n",
       "    <tr>\n",
       "      <th>3</th>\n",
       "      <td>2022-02-14 00:00:00</td>\n",
       "      <td>15:09:11</td>\n",
       "      <td>15:09:16</td>\n",
       "      <td>2022-02-14 15:09:11</td>\n",
       "      <td>0.00</td>\n",
       "      <td>749.57</td>\n",
       "      <td>749.57</td>\n",
       "      <td>0.00</td>\n",
       "      <td>0.00</td>\n",
       "      <td>0.00</td>\n",
       "      <td>...</td>\n",
       "      <td>0.0</td>\n",
       "      <td>0.0</td>\n",
       "      <td>0.0</td>\n",
       "      <td>Circulation</td>\n",
       "      <td>TRIP IN</td>\n",
       "      <td>TRIP IN--Circulation</td>\n",
       "      <td>0.0</td>\n",
       "      <td>0.0</td>\n",
       "      <td>0.0</td>\n",
       "      <td>NaN</td>\n",
       "    </tr>\n",
       "    <tr>\n",
       "      <th>4</th>\n",
       "      <td>2022-02-14 00:00:00</td>\n",
       "      <td>15:09:21</td>\n",
       "      <td>15:09:31</td>\n",
       "      <td>2022-02-14 15:09:21</td>\n",
       "      <td>0.17</td>\n",
       "      <td>749.61</td>\n",
       "      <td>749.60</td>\n",
       "      <td>0.00</td>\n",
       "      <td>0.00</td>\n",
       "      <td>0.00</td>\n",
       "      <td>...</td>\n",
       "      <td>0.0</td>\n",
       "      <td>0.0</td>\n",
       "      <td>0.0</td>\n",
       "      <td>Wash Up/Down</td>\n",
       "      <td>TRIP IN</td>\n",
       "      <td>TRIP IN--Wash Up/Down</td>\n",
       "      <td>0.0</td>\n",
       "      <td>0.0</td>\n",
       "      <td>0.0</td>\n",
       "      <td>NaN</td>\n",
       "    </tr>\n",
       "    <tr>\n",
       "      <th>...</th>\n",
       "      <td>...</td>\n",
       "      <td>...</td>\n",
       "      <td>...</td>\n",
       "      <td>...</td>\n",
       "      <td>...</td>\n",
       "      <td>...</td>\n",
       "      <td>...</td>\n",
       "      <td>...</td>\n",
       "      <td>...</td>\n",
       "      <td>...</td>\n",
       "      <td>...</td>\n",
       "      <td>...</td>\n",
       "      <td>...</td>\n",
       "      <td>...</td>\n",
       "      <td>...</td>\n",
       "      <td>...</td>\n",
       "      <td>...</td>\n",
       "      <td>...</td>\n",
       "      <td>...</td>\n",
       "      <td>...</td>\n",
       "      <td>...</td>\n",
       "    </tr>\n",
       "    <tr>\n",
       "      <th>357</th>\n",
       "      <td>2022-02-15 00:00:00</td>\n",
       "      <td>23:27:27</td>\n",
       "      <td>23:30:57</td>\n",
       "      <td>2022-02-15 23:27:27</td>\n",
       "      <td>3.50</td>\n",
       "      <td>1080.00</td>\n",
       "      <td>1072.10</td>\n",
       "      <td>0.00</td>\n",
       "      <td>0.00</td>\n",
       "      <td>0.00</td>\n",
       "      <td>...</td>\n",
       "      <td>0.0</td>\n",
       "      <td>0.0</td>\n",
       "      <td>0.0</td>\n",
       "      <td>Wash Up/Down</td>\n",
       "      <td>DRILLING FORMATION</td>\n",
       "      <td>DRILLING FORMATION--Wash Up/Down</td>\n",
       "      <td>0.0</td>\n",
       "      <td>0.0</td>\n",
       "      <td>0.0</td>\n",
       "      <td>NaN</td>\n",
       "    </tr>\n",
       "    <tr>\n",
       "      <th>358</th>\n",
       "      <td>2022-02-15 00:00:00</td>\n",
       "      <td>23:31:02</td>\n",
       "      <td>23:45:42</td>\n",
       "      <td>2022-02-15 23:31:02</td>\n",
       "      <td>14.67</td>\n",
       "      <td>1082.00</td>\n",
       "      <td>1081.08</td>\n",
       "      <td>2.00</td>\n",
       "      <td>0.00</td>\n",
       "      <td>14.67</td>\n",
       "      <td>...</td>\n",
       "      <td>0.0</td>\n",
       "      <td>0.0</td>\n",
       "      <td>0.0</td>\n",
       "      <td>Slide Drilling</td>\n",
       "      <td>DRILLING FORMATION</td>\n",
       "      <td>DRILLING FORMATION--Slide Drilling</td>\n",
       "      <td>0.0</td>\n",
       "      <td>0.0</td>\n",
       "      <td>0.0</td>\n",
       "      <td>NaN</td>\n",
       "    </tr>\n",
       "    <tr>\n",
       "      <th>359</th>\n",
       "      <td>2022-02-15 00:00:00</td>\n",
       "      <td>23:45:47</td>\n",
       "      <td>23:46:47</td>\n",
       "      <td>2022-02-15 23:45:47</td>\n",
       "      <td>0.91</td>\n",
       "      <td>1082.00</td>\n",
       "      <td>1080.79</td>\n",
       "      <td>0.00</td>\n",
       "      <td>0.00</td>\n",
       "      <td>0.00</td>\n",
       "      <td>...</td>\n",
       "      <td>0.0</td>\n",
       "      <td>0.0</td>\n",
       "      <td>0.0</td>\n",
       "      <td>Wash Up/Down</td>\n",
       "      <td>DRILLING FORMATION</td>\n",
       "      <td>DRILLING FORMATION--Wash Up/Down</td>\n",
       "      <td>0.0</td>\n",
       "      <td>0.0</td>\n",
       "      <td>0.0</td>\n",
       "      <td>NaN</td>\n",
       "    </tr>\n",
       "    <tr>\n",
       "      <th>360</th>\n",
       "      <td>2022-02-15 00:00:00</td>\n",
       "      <td>23:46:52</td>\n",
       "      <td>23:48:17</td>\n",
       "      <td>2022-02-15 23:46:52</td>\n",
       "      <td>1.42</td>\n",
       "      <td>1082.00</td>\n",
       "      <td>1081.28</td>\n",
       "      <td>0.00</td>\n",
       "      <td>0.00</td>\n",
       "      <td>0.00</td>\n",
       "      <td>...</td>\n",
       "      <td>0.0</td>\n",
       "      <td>0.0</td>\n",
       "      <td>0.0</td>\n",
       "      <td>Reaming</td>\n",
       "      <td>DRILLING FORMATION</td>\n",
       "      <td>DRILLING FORMATION--Reaming</td>\n",
       "      <td>0.0</td>\n",
       "      <td>0.0</td>\n",
       "      <td>0.0</td>\n",
       "      <td>NaN</td>\n",
       "    </tr>\n",
       "    <tr>\n",
       "      <th>361</th>\n",
       "      <td>2022-02-15 00:00:00</td>\n",
       "      <td>23:48:22</td>\n",
       "      <td>23:59:57</td>\n",
       "      <td>2022-02-15 23:48:22</td>\n",
       "      <td>11.58</td>\n",
       "      <td>1084.19</td>\n",
       "      <td>1083.03</td>\n",
       "      <td>2.19</td>\n",
       "      <td>11.58</td>\n",
       "      <td>0.00</td>\n",
       "      <td>...</td>\n",
       "      <td>0.0</td>\n",
       "      <td>0.0</td>\n",
       "      <td>0.0</td>\n",
       "      <td>Rotary Drilling</td>\n",
       "      <td>DRILLING FORMATION</td>\n",
       "      <td>DRILLING FORMATION--Rotary Drilling</td>\n",
       "      <td>0.0</td>\n",
       "      <td>0.0</td>\n",
       "      <td>0.0</td>\n",
       "      <td>NaN</td>\n",
       "    </tr>\n",
       "  </tbody>\n",
       "</table>\n",
       "<p>362 rows × 21 columns</p>\n",
       "</div>"
      ],
      "text/plain": [
       "                    date Time_start  Time_end            date_time  \\\n",
       "0    2022-02-14 00:00:00   00:00:00  11:59:58  2022-02-14 00:00:00   \n",
       "1    2022-02-14 00:00:00   12:00:03  14:59:56  2022-02-14 12:00:03   \n",
       "2    2022-02-14 00:00:00   15:00:01  15:09:06  2022-02-14 15:00:01   \n",
       "3    2022-02-14 00:00:00   15:09:11  15:09:16  2022-02-14 15:09:11   \n",
       "4    2022-02-14 00:00:00   15:09:21  15:09:31  2022-02-14 15:09:21   \n",
       "..                   ...        ...       ...                  ...   \n",
       "357  2022-02-15 00:00:00   23:27:27  23:30:57  2022-02-15 23:27:27   \n",
       "358  2022-02-15 00:00:00   23:31:02  23:45:42  2022-02-15 23:31:02   \n",
       "359  2022-02-15 00:00:00   23:45:47  23:46:47  2022-02-15 23:45:47   \n",
       "360  2022-02-15 00:00:00   23:46:52  23:48:17  2022-02-15 23:46:52   \n",
       "361  2022-02-15 00:00:00   23:48:22  23:59:57  2022-02-15 23:48:22   \n",
       "\n",
       "     Duration(minutes)  Hole Depth(max)  Bit Depth(mean)  \\\n",
       "0               719.97           718.02           640.80   \n",
       "1               179.88           747.38           732.21   \n",
       "2                 9.08           749.55           748.48   \n",
       "3                 0.00           749.57           749.57   \n",
       "4                 0.17           749.61           749.60   \n",
       "..                 ...              ...              ...   \n",
       "357               3.50          1080.00          1072.10   \n",
       "358              14.67          1082.00          1081.08   \n",
       "359               0.91          1082.00          1080.79   \n",
       "360               1.42          1082.00          1081.28   \n",
       "361              11.58          1084.19          1083.03   \n",
       "\n",
       "     Meterage(m)(Drilling)  RotateDrilling  Slide Drilling  ...  \\\n",
       "0                     0.00            0.00            0.00  ...   \n",
       "1                     0.00            0.00            0.00  ...   \n",
       "2                     0.00            0.00            0.00  ...   \n",
       "3                     0.00            0.00            0.00  ...   \n",
       "4                     0.00            0.00            0.00  ...   \n",
       "..                     ...             ...             ...  ...   \n",
       "357                   0.00            0.00            0.00  ...   \n",
       "358                   2.00            0.00           14.67  ...   \n",
       "359                   0.00            0.00            0.00  ...   \n",
       "360                   0.00            0.00            0.00  ...   \n",
       "361                   2.19           11.58            0.00  ...   \n",
       "\n",
       "     ConnectionTime  On Bottom Hours  Stand Duration  LABEL_SubActivity  \\\n",
       "0               0.0              0.0             0.0        FALSE/Check   \n",
       "1               0.0              0.0             0.0        MAKE UP BHA   \n",
       "2               0.0              0.0             0.0       Wash Up/Down   \n",
       "3               0.0              0.0             0.0        Circulation   \n",
       "4               0.0              0.0             0.0       Wash Up/Down   \n",
       "..              ...              ...             ...                ...   \n",
       "357             0.0              0.0             0.0       Wash Up/Down   \n",
       "358             0.0              0.0             0.0     Slide Drilling   \n",
       "359             0.0              0.0             0.0       Wash Up/Down   \n",
       "360             0.0              0.0             0.0            Reaming   \n",
       "361             0.0              0.0             0.0    Rotary Drilling   \n",
       "\n",
       "         LABEL_Activity           MERGE_SubActivity-Activity  \\\n",
       "0                   NaN                     nan--FALSE/Check   \n",
       "1           MAKE UP BHA             MAKE UP BHA--MAKE UP BHA   \n",
       "2               TRIP IN                TRIP IN--Wash Up/Down   \n",
       "3               TRIP IN                 TRIP IN--Circulation   \n",
       "4               TRIP IN                TRIP IN--Wash Up/Down   \n",
       "..                  ...                                  ...   \n",
       "357  DRILLING FORMATION     DRILLING FORMATION--Wash Up/Down   \n",
       "358  DRILLING FORMATION   DRILLING FORMATION--Slide Drilling   \n",
       "359  DRILLING FORMATION     DRILLING FORMATION--Wash Up/Down   \n",
       "360  DRILLING FORMATION          DRILLING FORMATION--Reaming   \n",
       "361  DRILLING FORMATION  DRILLING FORMATION--Rotary Drilling   \n",
       "\n",
       "    Stand Meterage (m) (Drilling)  Stand Stand Duration (hrs)  \\\n",
       "0                             0.0                         0.0   \n",
       "1                             0.0                         0.0   \n",
       "2                             0.0                         0.0   \n",
       "3                             0.0                         0.0   \n",
       "4                             0.0                         0.0   \n",
       "..                            ...                         ...   \n",
       "357                           0.0                         0.0   \n",
       "358                           0.0                         0.0   \n",
       "359                           0.0                         0.0   \n",
       "360                           0.0                         0.0   \n",
       "361                           0.0                         0.0   \n",
       "\n",
       "     Stand On Bottom Hours  Stand Group_Pred  \n",
       "0                      0.0               NaN  \n",
       "1                      0.0               NaN  \n",
       "2                      0.0               NaN  \n",
       "3                      0.0               NaN  \n",
       "4                      0.0               NaN  \n",
       "..                     ...               ...  \n",
       "357                    0.0               NaN  \n",
       "358                    0.0               NaN  \n",
       "359                    0.0               NaN  \n",
       "360                    0.0               NaN  \n",
       "361                    0.0               NaN  \n",
       "\n",
       "[362 rows x 21 columns]"
      ]
     },
     "execution_count": 3,
     "metadata": {},
     "output_type": "execute_result"
    }
   ],
   "source": [
    "import pandas as pd\n",
    "data_load = pd.read_csv(\"C:\\\\Users\\\\irsya\\\\Downloads\\\\KS ORKA_SMP AAE-08_ActivitySummary.csv\")\n",
    "data_load"
   ]
  },
  {
   "cell_type": "code",
   "execution_count": 31,
   "metadata": {},
   "outputs": [],
   "source": [
    "def build_hierarchical_dataframe(df, levels, value_column, color_columns=None):\n",
    "    \"\"\"\n",
    "    Build a hierarchy of levels for Sunburst or Treemap charts.\n",
    "\n",
    "    Levels are given starting from the bottom to the top of the hierarchy,\n",
    "    ie the last level corresponds to the root.\n",
    "    \"\"\"\n",
    "    df_all_trees = pd.DataFrame(columns=['id', 'parent', 'value', 'color'])\n",
    "    for i, level in enumerate(levels):\n",
    "        df_tree = pd.DataFrame(columns=['id', 'parent', 'value', 'color'])\n",
    "        dfg = df.groupby(levels[i:]).sum()\n",
    "        dfg = dfg.reset_index()\n",
    "        df_tree['id'] = dfg[level].copy()\n",
    "        if i < len(levels) - 1:\n",
    "            df_tree['parent'] = dfg[levels[i+1]].copy()\n",
    "        else:\n",
    "            df_tree['parent'] = 'total'\n",
    "        df_tree['value'] = dfg[value_column]\n",
    "        df_tree['color'] = dfg[color_columns[0]] / dfg[color_columns[1]]\n",
    "        df_all_trees = df_all_trees.append(df_tree, ignore_index=True)\n",
    "    total = pd.Series(dict(id='total', parent='',\n",
    "                              value=df[value_column].sum(),\n",
    "                              color=df[color_columns[0]].sum() / df[color_columns[1]].sum()))\n",
    "    ))\n",
    "    df_all_trees = df_all_trees.append(total, ignore_index=True)\n",
    "    return df_all_trees\n",
    "\n",
    "# build_hierarchical_dataframe(df, levels, value_column)"
   ]
  },
  {
   "cell_type": "code",
   "execution_count": 41,
   "metadata": {},
   "outputs": [
    {
     "data": {
      "application/vnd.plotly.v1+json": {
       "config": {
        "plotlyServerURL": "https://plot.ly"
       },
       "data": [
        {
         "branchvalues": "total",
         "domain": {
          "x": [
           0,
           1
          ],
          "y": [
           0,
           1
          ]
         },
         "hovertemplate": "labels=%{label}<br>Duration(minutes)=%{value}<br>parent=%{parent}<br>id=%{id}<extra></extra>",
         "ids": [
          "Connection/CIRCULATE HOLE CLEANING",
          "Reaming/CIRCULATE HOLE CLEANING",
          "Rotary Drilling/CIRCULATE HOLE CLEANING",
          "Slide Drilling/CIRCULATE HOLE CLEANING",
          "Wash Up/Down/CIRCULATE HOLE CLEANING",
          "Reaming/DRILL OUT CEMENT",
          "Rotary Drilling/DRILL OUT CEMENT",
          "Slide Drilling/DRILL OUT CEMENT",
          "Wash Up/Down/DRILL OUT CEMENT",
          "Connection/DRILLING FORMATION",
          "FALSE/Check/DRILLING FORMATION",
          "Reaming/DRILLING FORMATION",
          "Rotary Drilling/DRILLING FORMATION",
          "Slide Drilling/DRILLING FORMATION",
          "Wash Up/Down/DRILLING FORMATION",
          "MAKE UP BHA/MAKE UP BHA",
          "Circulation/TRIP IN",
          "Connection/TRIP IN",
          "Moving/TRIP IN",
          "Reaming/TRIP IN",
          "Stationary/TRIP IN",
          "Wash Up/Down/TRIP IN",
          "Circulation/WIPER TRIP",
          "Connection/WIPER TRIP",
          "Moving/WIPER TRIP",
          "Reaming/WIPER TRIP",
          "Stationary/WIPER TRIP",
          "Wash Up/Down/WIPER TRIP",
          "Circulation",
          "Connection",
          "FALSE/Check",
          "MAKE UP BHA",
          "Moving",
          "Reaming",
          "Rotary Drilling",
          "Slide Drilling",
          "Stationary",
          "Wash Up/Down"
         ],
         "labels": [
          "CIRCULATE HOLE CLEANING",
          "CIRCULATE HOLE CLEANING",
          "CIRCULATE HOLE CLEANING",
          "CIRCULATE HOLE CLEANING",
          "CIRCULATE HOLE CLEANING",
          "DRILL OUT CEMENT",
          "DRILL OUT CEMENT",
          "DRILL OUT CEMENT",
          "DRILL OUT CEMENT",
          "DRILLING FORMATION",
          "DRILLING FORMATION",
          "DRILLING FORMATION",
          "DRILLING FORMATION",
          "DRILLING FORMATION",
          "DRILLING FORMATION",
          "MAKE UP BHA",
          "TRIP IN",
          "TRIP IN",
          "TRIP IN",
          "TRIP IN",
          "TRIP IN",
          "TRIP IN",
          "WIPER TRIP",
          "WIPER TRIP",
          "WIPER TRIP",
          "WIPER TRIP",
          "WIPER TRIP",
          "WIPER TRIP",
          "Circulation",
          "Connection",
          "FALSE/Check",
          "MAKE UP BHA",
          "Moving",
          "Reaming",
          "Rotary Drilling",
          "Slide Drilling",
          "Stationary",
          "Wash Up/Down"
         ],
         "name": "",
         "parents": [
          "Connection",
          "Reaming",
          "Rotary Drilling",
          "Slide Drilling",
          "Wash Up/Down",
          "Reaming",
          "Rotary Drilling",
          "Slide Drilling",
          "Wash Up/Down",
          "Connection",
          "FALSE/Check",
          "Reaming",
          "Rotary Drilling",
          "Slide Drilling",
          "Wash Up/Down",
          "MAKE UP BHA",
          "Circulation",
          "Connection",
          "Moving",
          "Reaming",
          "Stationary",
          "Wash Up/Down",
          "Circulation",
          "Connection",
          "Moving",
          "Reaming",
          "Stationary",
          "Wash Up/Down",
          "",
          "",
          "",
          "",
          "",
          "",
          "",
          "",
          "",
          ""
         ],
         "type": "sunburst",
         "values": [
          3.58,
          95.44,
          130.16,
          2,
          10.58,
          2.75,
          72.41,
          3.92,
          2.17,
          24.310000000000002,
          0,
          245.57999999999998,
          875.35,
          127.46000000000001,
          27.55,
          179.88,
          4.32,
          5.59,
          0,
          97.64999999999999,
          0.33,
          89.07,
          0.67,
          61.02,
          48.480000000000004,
          4,
          0.75,
          5.58,
          4.99,
          94.5,
          0,
          179.88,
          48.480000000000004,
          445.41999999999996,
          1077.92,
          133.38,
          1.08,
          134.95
         ]
        }
       ],
       "layout": {
        "legend": {
         "tracegroupgap": 0
        },
        "margin": {
         "t": 60
        },
        "template": {
         "data": {
          "bar": [
           {
            "error_x": {
             "color": "#2a3f5f"
            },
            "error_y": {
             "color": "#2a3f5f"
            },
            "marker": {
             "line": {
              "color": "#E5ECF6",
              "width": 0.5
             },
             "pattern": {
              "fillmode": "overlay",
              "size": 10,
              "solidity": 0.2
             }
            },
            "type": "bar"
           }
          ],
          "barpolar": [
           {
            "marker": {
             "line": {
              "color": "#E5ECF6",
              "width": 0.5
             },
             "pattern": {
              "fillmode": "overlay",
              "size": 10,
              "solidity": 0.2
             }
            },
            "type": "barpolar"
           }
          ],
          "carpet": [
           {
            "aaxis": {
             "endlinecolor": "#2a3f5f",
             "gridcolor": "white",
             "linecolor": "white",
             "minorgridcolor": "white",
             "startlinecolor": "#2a3f5f"
            },
            "baxis": {
             "endlinecolor": "#2a3f5f",
             "gridcolor": "white",
             "linecolor": "white",
             "minorgridcolor": "white",
             "startlinecolor": "#2a3f5f"
            },
            "type": "carpet"
           }
          ],
          "choropleth": [
           {
            "colorbar": {
             "outlinewidth": 0,
             "ticks": ""
            },
            "type": "choropleth"
           }
          ],
          "contour": [
           {
            "colorbar": {
             "outlinewidth": 0,
             "ticks": ""
            },
            "colorscale": [
             [
              0,
              "#0d0887"
             ],
             [
              0.1111111111111111,
              "#46039f"
             ],
             [
              0.2222222222222222,
              "#7201a8"
             ],
             [
              0.3333333333333333,
              "#9c179e"
             ],
             [
              0.4444444444444444,
              "#bd3786"
             ],
             [
              0.5555555555555556,
              "#d8576b"
             ],
             [
              0.6666666666666666,
              "#ed7953"
             ],
             [
              0.7777777777777778,
              "#fb9f3a"
             ],
             [
              0.8888888888888888,
              "#fdca26"
             ],
             [
              1,
              "#f0f921"
             ]
            ],
            "type": "contour"
           }
          ],
          "contourcarpet": [
           {
            "colorbar": {
             "outlinewidth": 0,
             "ticks": ""
            },
            "type": "contourcarpet"
           }
          ],
          "heatmap": [
           {
            "colorbar": {
             "outlinewidth": 0,
             "ticks": ""
            },
            "colorscale": [
             [
              0,
              "#0d0887"
             ],
             [
              0.1111111111111111,
              "#46039f"
             ],
             [
              0.2222222222222222,
              "#7201a8"
             ],
             [
              0.3333333333333333,
              "#9c179e"
             ],
             [
              0.4444444444444444,
              "#bd3786"
             ],
             [
              0.5555555555555556,
              "#d8576b"
             ],
             [
              0.6666666666666666,
              "#ed7953"
             ],
             [
              0.7777777777777778,
              "#fb9f3a"
             ],
             [
              0.8888888888888888,
              "#fdca26"
             ],
             [
              1,
              "#f0f921"
             ]
            ],
            "type": "heatmap"
           }
          ],
          "heatmapgl": [
           {
            "colorbar": {
             "outlinewidth": 0,
             "ticks": ""
            },
            "colorscale": [
             [
              0,
              "#0d0887"
             ],
             [
              0.1111111111111111,
              "#46039f"
             ],
             [
              0.2222222222222222,
              "#7201a8"
             ],
             [
              0.3333333333333333,
              "#9c179e"
             ],
             [
              0.4444444444444444,
              "#bd3786"
             ],
             [
              0.5555555555555556,
              "#d8576b"
             ],
             [
              0.6666666666666666,
              "#ed7953"
             ],
             [
              0.7777777777777778,
              "#fb9f3a"
             ],
             [
              0.8888888888888888,
              "#fdca26"
             ],
             [
              1,
              "#f0f921"
             ]
            ],
            "type": "heatmapgl"
           }
          ],
          "histogram": [
           {
            "marker": {
             "pattern": {
              "fillmode": "overlay",
              "size": 10,
              "solidity": 0.2
             }
            },
            "type": "histogram"
           }
          ],
          "histogram2d": [
           {
            "colorbar": {
             "outlinewidth": 0,
             "ticks": ""
            },
            "colorscale": [
             [
              0,
              "#0d0887"
             ],
             [
              0.1111111111111111,
              "#46039f"
             ],
             [
              0.2222222222222222,
              "#7201a8"
             ],
             [
              0.3333333333333333,
              "#9c179e"
             ],
             [
              0.4444444444444444,
              "#bd3786"
             ],
             [
              0.5555555555555556,
              "#d8576b"
             ],
             [
              0.6666666666666666,
              "#ed7953"
             ],
             [
              0.7777777777777778,
              "#fb9f3a"
             ],
             [
              0.8888888888888888,
              "#fdca26"
             ],
             [
              1,
              "#f0f921"
             ]
            ],
            "type": "histogram2d"
           }
          ],
          "histogram2dcontour": [
           {
            "colorbar": {
             "outlinewidth": 0,
             "ticks": ""
            },
            "colorscale": [
             [
              0,
              "#0d0887"
             ],
             [
              0.1111111111111111,
              "#46039f"
             ],
             [
              0.2222222222222222,
              "#7201a8"
             ],
             [
              0.3333333333333333,
              "#9c179e"
             ],
             [
              0.4444444444444444,
              "#bd3786"
             ],
             [
              0.5555555555555556,
              "#d8576b"
             ],
             [
              0.6666666666666666,
              "#ed7953"
             ],
             [
              0.7777777777777778,
              "#fb9f3a"
             ],
             [
              0.8888888888888888,
              "#fdca26"
             ],
             [
              1,
              "#f0f921"
             ]
            ],
            "type": "histogram2dcontour"
           }
          ],
          "mesh3d": [
           {
            "colorbar": {
             "outlinewidth": 0,
             "ticks": ""
            },
            "type": "mesh3d"
           }
          ],
          "parcoords": [
           {
            "line": {
             "colorbar": {
              "outlinewidth": 0,
              "ticks": ""
             }
            },
            "type": "parcoords"
           }
          ],
          "pie": [
           {
            "automargin": true,
            "type": "pie"
           }
          ],
          "scatter": [
           {
            "marker": {
             "colorbar": {
              "outlinewidth": 0,
              "ticks": ""
             }
            },
            "type": "scatter"
           }
          ],
          "scatter3d": [
           {
            "line": {
             "colorbar": {
              "outlinewidth": 0,
              "ticks": ""
             }
            },
            "marker": {
             "colorbar": {
              "outlinewidth": 0,
              "ticks": ""
             }
            },
            "type": "scatter3d"
           }
          ],
          "scattercarpet": [
           {
            "marker": {
             "colorbar": {
              "outlinewidth": 0,
              "ticks": ""
             }
            },
            "type": "scattercarpet"
           }
          ],
          "scattergeo": [
           {
            "marker": {
             "colorbar": {
              "outlinewidth": 0,
              "ticks": ""
             }
            },
            "type": "scattergeo"
           }
          ],
          "scattergl": [
           {
            "marker": {
             "colorbar": {
              "outlinewidth": 0,
              "ticks": ""
             }
            },
            "type": "scattergl"
           }
          ],
          "scattermapbox": [
           {
            "marker": {
             "colorbar": {
              "outlinewidth": 0,
              "ticks": ""
             }
            },
            "type": "scattermapbox"
           }
          ],
          "scatterpolar": [
           {
            "marker": {
             "colorbar": {
              "outlinewidth": 0,
              "ticks": ""
             }
            },
            "type": "scatterpolar"
           }
          ],
          "scatterpolargl": [
           {
            "marker": {
             "colorbar": {
              "outlinewidth": 0,
              "ticks": ""
             }
            },
            "type": "scatterpolargl"
           }
          ],
          "scatterternary": [
           {
            "marker": {
             "colorbar": {
              "outlinewidth": 0,
              "ticks": ""
             }
            },
            "type": "scatterternary"
           }
          ],
          "surface": [
           {
            "colorbar": {
             "outlinewidth": 0,
             "ticks": ""
            },
            "colorscale": [
             [
              0,
              "#0d0887"
             ],
             [
              0.1111111111111111,
              "#46039f"
             ],
             [
              0.2222222222222222,
              "#7201a8"
             ],
             [
              0.3333333333333333,
              "#9c179e"
             ],
             [
              0.4444444444444444,
              "#bd3786"
             ],
             [
              0.5555555555555556,
              "#d8576b"
             ],
             [
              0.6666666666666666,
              "#ed7953"
             ],
             [
              0.7777777777777778,
              "#fb9f3a"
             ],
             [
              0.8888888888888888,
              "#fdca26"
             ],
             [
              1,
              "#f0f921"
             ]
            ],
            "type": "surface"
           }
          ],
          "table": [
           {
            "cells": {
             "fill": {
              "color": "#EBF0F8"
             },
             "line": {
              "color": "white"
             }
            },
            "header": {
             "fill": {
              "color": "#C8D4E3"
             },
             "line": {
              "color": "white"
             }
            },
            "type": "table"
           }
          ]
         },
         "layout": {
          "annotationdefaults": {
           "arrowcolor": "#2a3f5f",
           "arrowhead": 0,
           "arrowwidth": 1
          },
          "autotypenumbers": "strict",
          "coloraxis": {
           "colorbar": {
            "outlinewidth": 0,
            "ticks": ""
           }
          },
          "colorscale": {
           "diverging": [
            [
             0,
             "#8e0152"
            ],
            [
             0.1,
             "#c51b7d"
            ],
            [
             0.2,
             "#de77ae"
            ],
            [
             0.3,
             "#f1b6da"
            ],
            [
             0.4,
             "#fde0ef"
            ],
            [
             0.5,
             "#f7f7f7"
            ],
            [
             0.6,
             "#e6f5d0"
            ],
            [
             0.7,
             "#b8e186"
            ],
            [
             0.8,
             "#7fbc41"
            ],
            [
             0.9,
             "#4d9221"
            ],
            [
             1,
             "#276419"
            ]
           ],
           "sequential": [
            [
             0,
             "#0d0887"
            ],
            [
             0.1111111111111111,
             "#46039f"
            ],
            [
             0.2222222222222222,
             "#7201a8"
            ],
            [
             0.3333333333333333,
             "#9c179e"
            ],
            [
             0.4444444444444444,
             "#bd3786"
            ],
            [
             0.5555555555555556,
             "#d8576b"
            ],
            [
             0.6666666666666666,
             "#ed7953"
            ],
            [
             0.7777777777777778,
             "#fb9f3a"
            ],
            [
             0.8888888888888888,
             "#fdca26"
            ],
            [
             1,
             "#f0f921"
            ]
           ],
           "sequentialminus": [
            [
             0,
             "#0d0887"
            ],
            [
             0.1111111111111111,
             "#46039f"
            ],
            [
             0.2222222222222222,
             "#7201a8"
            ],
            [
             0.3333333333333333,
             "#9c179e"
            ],
            [
             0.4444444444444444,
             "#bd3786"
            ],
            [
             0.5555555555555556,
             "#d8576b"
            ],
            [
             0.6666666666666666,
             "#ed7953"
            ],
            [
             0.7777777777777778,
             "#fb9f3a"
            ],
            [
             0.8888888888888888,
             "#fdca26"
            ],
            [
             1,
             "#f0f921"
            ]
           ]
          },
          "colorway": [
           "#636efa",
           "#EF553B",
           "#00cc96",
           "#ab63fa",
           "#FFA15A",
           "#19d3f3",
           "#FF6692",
           "#B6E880",
           "#FF97FF",
           "#FECB52"
          ],
          "font": {
           "color": "#2a3f5f"
          },
          "geo": {
           "bgcolor": "white",
           "lakecolor": "white",
           "landcolor": "#E5ECF6",
           "showlakes": true,
           "showland": true,
           "subunitcolor": "white"
          },
          "hoverlabel": {
           "align": "left"
          },
          "hovermode": "closest",
          "mapbox": {
           "style": "light"
          },
          "paper_bgcolor": "white",
          "plot_bgcolor": "#E5ECF6",
          "polar": {
           "angularaxis": {
            "gridcolor": "white",
            "linecolor": "white",
            "ticks": ""
           },
           "bgcolor": "#E5ECF6",
           "radialaxis": {
            "gridcolor": "white",
            "linecolor": "white",
            "ticks": ""
           }
          },
          "scene": {
           "xaxis": {
            "backgroundcolor": "#E5ECF6",
            "gridcolor": "white",
            "gridwidth": 2,
            "linecolor": "white",
            "showbackground": true,
            "ticks": "",
            "zerolinecolor": "white"
           },
           "yaxis": {
            "backgroundcolor": "#E5ECF6",
            "gridcolor": "white",
            "gridwidth": 2,
            "linecolor": "white",
            "showbackground": true,
            "ticks": "",
            "zerolinecolor": "white"
           },
           "zaxis": {
            "backgroundcolor": "#E5ECF6",
            "gridcolor": "white",
            "gridwidth": 2,
            "linecolor": "white",
            "showbackground": true,
            "ticks": "",
            "zerolinecolor": "white"
           }
          },
          "shapedefaults": {
           "line": {
            "color": "#2a3f5f"
           }
          },
          "ternary": {
           "aaxis": {
            "gridcolor": "white",
            "linecolor": "white",
            "ticks": ""
           },
           "baxis": {
            "gridcolor": "white",
            "linecolor": "white",
            "ticks": ""
           },
           "bgcolor": "#E5ECF6",
           "caxis": {
            "gridcolor": "white",
            "linecolor": "white",
            "ticks": ""
           }
          },
          "title": {
           "x": 0.05
          },
          "xaxis": {
           "automargin": true,
           "gridcolor": "white",
           "linecolor": "white",
           "ticks": "",
           "title": {
            "standoff": 15
           },
           "zerolinecolor": "white",
           "zerolinewidth": 2
          },
          "yaxis": {
           "automargin": true,
           "gridcolor": "white",
           "linecolor": "white",
           "ticks": "",
           "title": {
            "standoff": 15
           },
           "zerolinecolor": "white",
           "zerolinewidth": 2
          }
         }
        }
       }
      }
     },
     "metadata": {},
     "output_type": "display_data"
    }
   ],
   "source": [
    "import plotly.graph_objects as go\n",
    "PieChart_DF = data_load.groupby(['LABEL_SubActivity', 'LABEL_Activity']).sum().reset_index()\n",
    "PieChart_DF = PieChart_DF[['LABEL_SubActivity', 'LABEL_Activity', 'Duration(minutes)']]\n",
    "\n",
    "fig = px.sunburst(PieChart_DF, path=['LABEL_SubActivity', 'LABEL_Activity'], values='Duration(minutes)')\n",
    "# fig.update_layout(uniformtext=dict(minsize=10, mode='hide'))\n",
    "fig.show()"
   ]
  },
  {
   "cell_type": "code",
   "execution_count": 81,
   "metadata": {},
   "outputs": [
    {
     "data": {
      "application/vnd.plotly.v1+json": {
       "config": {
        "plotlyServerURL": "https://plot.ly"
       },
       "data": [
        {
         "alignmentgroup": "True",
         "hovertemplate": "variable=RotateDrilling<br>date_time=%{x}<br>value=%{y}<extra></extra>",
         "legendgroup": "RotateDrilling",
         "marker": {
          "color": "#636efa",
          "pattern": {
           "shape": ""
          }
         },
         "name": "RotateDrilling",
         "offsetgroup": "RotateDrilling",
         "orientation": "v",
         "showlegend": true,
         "textposition": "auto",
         "type": "bar",
         "x": [
          "2022-02-14 17:34:01",
          "2022-02-14 20:08:51",
          "2022-02-15 04:24:23",
          "2022-02-15 06:18:59",
          "2022-02-15 08:32:36",
          "2022-02-15 10:45:45",
          "2022-02-15 12:57:01",
          "2022-02-15 15:49:13",
          "2022-02-14 22:23:46",
          "2022-02-15 18:06:09"
         ],
         "xaxis": "x",
         "y": [
          72.66,
          110.5,
          97.02,
          101.28,
          92.81,
          109.26,
          81.85,
          99.36,
          126.33,
          149.17
         ],
         "yaxis": "y"
        },
        {
         "alignmentgroup": "True",
         "hovertemplate": "variable=Slide Drilling<br>date_time=%{x}<br>value=%{y}<extra></extra>",
         "legendgroup": "Slide Drilling",
         "marker": {
          "color": "#EF553B",
          "pattern": {
           "shape": ""
          }
         },
         "name": "Slide Drilling",
         "offsetgroup": "Slide Drilling",
         "orientation": "v",
         "showlegend": true,
         "textposition": "auto",
         "type": "bar",
         "x": [
          "2022-02-14 17:34:01",
          "2022-02-14 20:08:51",
          "2022-02-15 04:24:23",
          "2022-02-15 06:18:59",
          "2022-02-15 08:32:36",
          "2022-02-15 10:45:45",
          "2022-02-15 12:57:01",
          "2022-02-15 15:49:13",
          "2022-02-14 22:23:46",
          "2022-02-15 18:06:09"
         ],
         "xaxis": "x",
         "y": [
          3.92,
          2,
          1.34,
          1.33,
          1.25,
          0,
          55.67,
          3.5,
          0,
          0
         ],
         "yaxis": "y"
        },
        {
         "alignmentgroup": "True",
         "hovertemplate": "variable=ReamingTime<br>date_time=%{x}<br>value=%{y}<extra></extra>",
         "legendgroup": "ReamingTime",
         "marker": {
          "color": "#00cc96",
          "pattern": {
           "shape": ""
          }
         },
         "name": "ReamingTime",
         "offsetgroup": "ReamingTime",
         "orientation": "v",
         "showlegend": true,
         "textposition": "auto",
         "type": "bar",
         "x": [
          "2022-02-14 17:34:01",
          "2022-02-14 20:08:51",
          "2022-02-15 04:24:23",
          "2022-02-15 06:18:59",
          "2022-02-15 08:32:36",
          "2022-02-15 10:45:45",
          "2022-02-15 12:57:01",
          "2022-02-15 15:49:13",
          "2022-02-14 22:23:46",
          "2022-02-15 18:06:09"
         ],
         "xaxis": "x",
         "y": [
          14.67,
          15.08,
          11.5,
          25.16,
          31.92,
          15.34,
          26.490000000000002,
          30.990000000000002,
          88.94,
          74.1
         ],
         "yaxis": "y"
        },
        {
         "alignmentgroup": "True",
         "hovertemplate": "variable=ConnectionTime<br>date_time=%{x}<br>value=%{y}<extra></extra>",
         "legendgroup": "ConnectionTime",
         "marker": {
          "color": "#ab63fa",
          "pattern": {
           "shape": ""
          }
         },
         "name": "ConnectionTime",
         "offsetgroup": "ConnectionTime",
         "orientation": "v",
         "showlegend": true,
         "textposition": "auto",
         "type": "bar",
         "x": [
          "2022-02-14 17:34:01",
          "2022-02-14 20:08:51",
          "2022-02-15 04:24:23",
          "2022-02-15 06:18:59",
          "2022-02-15 08:32:36",
          "2022-02-15 10:45:45",
          "2022-02-15 12:57:01",
          "2022-02-15 15:49:13",
          "2022-02-14 22:23:46",
          "2022-02-15 18:06:09"
         ],
         "xaxis": "x",
         "y": [
          0,
          0,
          0,
          0,
          0,
          0,
          0,
          0,
          0,
          0
         ],
         "yaxis": "y"
        }
       ],
       "layout": {
        "barmode": "relative",
        "height": 1000,
        "legend": {
         "title": {
          "text": "variable"
         },
         "tracegroupgap": 0
        },
        "margin": {
         "t": 60
        },
        "template": {
         "data": {
          "bar": [
           {
            "error_x": {
             "color": "#2a3f5f"
            },
            "error_y": {
             "color": "#2a3f5f"
            },
            "marker": {
             "line": {
              "color": "#E5ECF6",
              "width": 0.5
             },
             "pattern": {
              "fillmode": "overlay",
              "size": 10,
              "solidity": 0.2
             }
            },
            "type": "bar"
           }
          ],
          "barpolar": [
           {
            "marker": {
             "line": {
              "color": "#E5ECF6",
              "width": 0.5
             },
             "pattern": {
              "fillmode": "overlay",
              "size": 10,
              "solidity": 0.2
             }
            },
            "type": "barpolar"
           }
          ],
          "carpet": [
           {
            "aaxis": {
             "endlinecolor": "#2a3f5f",
             "gridcolor": "white",
             "linecolor": "white",
             "minorgridcolor": "white",
             "startlinecolor": "#2a3f5f"
            },
            "baxis": {
             "endlinecolor": "#2a3f5f",
             "gridcolor": "white",
             "linecolor": "white",
             "minorgridcolor": "white",
             "startlinecolor": "#2a3f5f"
            },
            "type": "carpet"
           }
          ],
          "choropleth": [
           {
            "colorbar": {
             "outlinewidth": 0,
             "ticks": ""
            },
            "type": "choropleth"
           }
          ],
          "contour": [
           {
            "colorbar": {
             "outlinewidth": 0,
             "ticks": ""
            },
            "colorscale": [
             [
              0,
              "#0d0887"
             ],
             [
              0.1111111111111111,
              "#46039f"
             ],
             [
              0.2222222222222222,
              "#7201a8"
             ],
             [
              0.3333333333333333,
              "#9c179e"
             ],
             [
              0.4444444444444444,
              "#bd3786"
             ],
             [
              0.5555555555555556,
              "#d8576b"
             ],
             [
              0.6666666666666666,
              "#ed7953"
             ],
             [
              0.7777777777777778,
              "#fb9f3a"
             ],
             [
              0.8888888888888888,
              "#fdca26"
             ],
             [
              1,
              "#f0f921"
             ]
            ],
            "type": "contour"
           }
          ],
          "contourcarpet": [
           {
            "colorbar": {
             "outlinewidth": 0,
             "ticks": ""
            },
            "type": "contourcarpet"
           }
          ],
          "heatmap": [
           {
            "colorbar": {
             "outlinewidth": 0,
             "ticks": ""
            },
            "colorscale": [
             [
              0,
              "#0d0887"
             ],
             [
              0.1111111111111111,
              "#46039f"
             ],
             [
              0.2222222222222222,
              "#7201a8"
             ],
             [
              0.3333333333333333,
              "#9c179e"
             ],
             [
              0.4444444444444444,
              "#bd3786"
             ],
             [
              0.5555555555555556,
              "#d8576b"
             ],
             [
              0.6666666666666666,
              "#ed7953"
             ],
             [
              0.7777777777777778,
              "#fb9f3a"
             ],
             [
              0.8888888888888888,
              "#fdca26"
             ],
             [
              1,
              "#f0f921"
             ]
            ],
            "type": "heatmap"
           }
          ],
          "heatmapgl": [
           {
            "colorbar": {
             "outlinewidth": 0,
             "ticks": ""
            },
            "colorscale": [
             [
              0,
              "#0d0887"
             ],
             [
              0.1111111111111111,
              "#46039f"
             ],
             [
              0.2222222222222222,
              "#7201a8"
             ],
             [
              0.3333333333333333,
              "#9c179e"
             ],
             [
              0.4444444444444444,
              "#bd3786"
             ],
             [
              0.5555555555555556,
              "#d8576b"
             ],
             [
              0.6666666666666666,
              "#ed7953"
             ],
             [
              0.7777777777777778,
              "#fb9f3a"
             ],
             [
              0.8888888888888888,
              "#fdca26"
             ],
             [
              1,
              "#f0f921"
             ]
            ],
            "type": "heatmapgl"
           }
          ],
          "histogram": [
           {
            "marker": {
             "pattern": {
              "fillmode": "overlay",
              "size": 10,
              "solidity": 0.2
             }
            },
            "type": "histogram"
           }
          ],
          "histogram2d": [
           {
            "colorbar": {
             "outlinewidth": 0,
             "ticks": ""
            },
            "colorscale": [
             [
              0,
              "#0d0887"
             ],
             [
              0.1111111111111111,
              "#46039f"
             ],
             [
              0.2222222222222222,
              "#7201a8"
             ],
             [
              0.3333333333333333,
              "#9c179e"
             ],
             [
              0.4444444444444444,
              "#bd3786"
             ],
             [
              0.5555555555555556,
              "#d8576b"
             ],
             [
              0.6666666666666666,
              "#ed7953"
             ],
             [
              0.7777777777777778,
              "#fb9f3a"
             ],
             [
              0.8888888888888888,
              "#fdca26"
             ],
             [
              1,
              "#f0f921"
             ]
            ],
            "type": "histogram2d"
           }
          ],
          "histogram2dcontour": [
           {
            "colorbar": {
             "outlinewidth": 0,
             "ticks": ""
            },
            "colorscale": [
             [
              0,
              "#0d0887"
             ],
             [
              0.1111111111111111,
              "#46039f"
             ],
             [
              0.2222222222222222,
              "#7201a8"
             ],
             [
              0.3333333333333333,
              "#9c179e"
             ],
             [
              0.4444444444444444,
              "#bd3786"
             ],
             [
              0.5555555555555556,
              "#d8576b"
             ],
             [
              0.6666666666666666,
              "#ed7953"
             ],
             [
              0.7777777777777778,
              "#fb9f3a"
             ],
             [
              0.8888888888888888,
              "#fdca26"
             ],
             [
              1,
              "#f0f921"
             ]
            ],
            "type": "histogram2dcontour"
           }
          ],
          "mesh3d": [
           {
            "colorbar": {
             "outlinewidth": 0,
             "ticks": ""
            },
            "type": "mesh3d"
           }
          ],
          "parcoords": [
           {
            "line": {
             "colorbar": {
              "outlinewidth": 0,
              "ticks": ""
             }
            },
            "type": "parcoords"
           }
          ],
          "pie": [
           {
            "automargin": true,
            "type": "pie"
           }
          ],
          "scatter": [
           {
            "marker": {
             "colorbar": {
              "outlinewidth": 0,
              "ticks": ""
             }
            },
            "type": "scatter"
           }
          ],
          "scatter3d": [
           {
            "line": {
             "colorbar": {
              "outlinewidth": 0,
              "ticks": ""
             }
            },
            "marker": {
             "colorbar": {
              "outlinewidth": 0,
              "ticks": ""
             }
            },
            "type": "scatter3d"
           }
          ],
          "scattercarpet": [
           {
            "marker": {
             "colorbar": {
              "outlinewidth": 0,
              "ticks": ""
             }
            },
            "type": "scattercarpet"
           }
          ],
          "scattergeo": [
           {
            "marker": {
             "colorbar": {
              "outlinewidth": 0,
              "ticks": ""
             }
            },
            "type": "scattergeo"
           }
          ],
          "scattergl": [
           {
            "marker": {
             "colorbar": {
              "outlinewidth": 0,
              "ticks": ""
             }
            },
            "type": "scattergl"
           }
          ],
          "scattermapbox": [
           {
            "marker": {
             "colorbar": {
              "outlinewidth": 0,
              "ticks": ""
             }
            },
            "type": "scattermapbox"
           }
          ],
          "scatterpolar": [
           {
            "marker": {
             "colorbar": {
              "outlinewidth": 0,
              "ticks": ""
             }
            },
            "type": "scatterpolar"
           }
          ],
          "scatterpolargl": [
           {
            "marker": {
             "colorbar": {
              "outlinewidth": 0,
              "ticks": ""
             }
            },
            "type": "scatterpolargl"
           }
          ],
          "scatterternary": [
           {
            "marker": {
             "colorbar": {
              "outlinewidth": 0,
              "ticks": ""
             }
            },
            "type": "scatterternary"
           }
          ],
          "surface": [
           {
            "colorbar": {
             "outlinewidth": 0,
             "ticks": ""
            },
            "colorscale": [
             [
              0,
              "#0d0887"
             ],
             [
              0.1111111111111111,
              "#46039f"
             ],
             [
              0.2222222222222222,
              "#7201a8"
             ],
             [
              0.3333333333333333,
              "#9c179e"
             ],
             [
              0.4444444444444444,
              "#bd3786"
             ],
             [
              0.5555555555555556,
              "#d8576b"
             ],
             [
              0.6666666666666666,
              "#ed7953"
             ],
             [
              0.7777777777777778,
              "#fb9f3a"
             ],
             [
              0.8888888888888888,
              "#fdca26"
             ],
             [
              1,
              "#f0f921"
             ]
            ],
            "type": "surface"
           }
          ],
          "table": [
           {
            "cells": {
             "fill": {
              "color": "#EBF0F8"
             },
             "line": {
              "color": "white"
             }
            },
            "header": {
             "fill": {
              "color": "#C8D4E3"
             },
             "line": {
              "color": "white"
             }
            },
            "type": "table"
           }
          ]
         },
         "layout": {
          "annotationdefaults": {
           "arrowcolor": "#2a3f5f",
           "arrowhead": 0,
           "arrowwidth": 1
          },
          "autotypenumbers": "strict",
          "coloraxis": {
           "colorbar": {
            "outlinewidth": 0,
            "ticks": ""
           }
          },
          "colorscale": {
           "diverging": [
            [
             0,
             "#8e0152"
            ],
            [
             0.1,
             "#c51b7d"
            ],
            [
             0.2,
             "#de77ae"
            ],
            [
             0.3,
             "#f1b6da"
            ],
            [
             0.4,
             "#fde0ef"
            ],
            [
             0.5,
             "#f7f7f7"
            ],
            [
             0.6,
             "#e6f5d0"
            ],
            [
             0.7,
             "#b8e186"
            ],
            [
             0.8,
             "#7fbc41"
            ],
            [
             0.9,
             "#4d9221"
            ],
            [
             1,
             "#276419"
            ]
           ],
           "sequential": [
            [
             0,
             "#0d0887"
            ],
            [
             0.1111111111111111,
             "#46039f"
            ],
            [
             0.2222222222222222,
             "#7201a8"
            ],
            [
             0.3333333333333333,
             "#9c179e"
            ],
            [
             0.4444444444444444,
             "#bd3786"
            ],
            [
             0.5555555555555556,
             "#d8576b"
            ],
            [
             0.6666666666666666,
             "#ed7953"
            ],
            [
             0.7777777777777778,
             "#fb9f3a"
            ],
            [
             0.8888888888888888,
             "#fdca26"
            ],
            [
             1,
             "#f0f921"
            ]
           ],
           "sequentialminus": [
            [
             0,
             "#0d0887"
            ],
            [
             0.1111111111111111,
             "#46039f"
            ],
            [
             0.2222222222222222,
             "#7201a8"
            ],
            [
             0.3333333333333333,
             "#9c179e"
            ],
            [
             0.4444444444444444,
             "#bd3786"
            ],
            [
             0.5555555555555556,
             "#d8576b"
            ],
            [
             0.6666666666666666,
             "#ed7953"
            ],
            [
             0.7777777777777778,
             "#fb9f3a"
            ],
            [
             0.8888888888888888,
             "#fdca26"
            ],
            [
             1,
             "#f0f921"
            ]
           ]
          },
          "colorway": [
           "#636efa",
           "#EF553B",
           "#00cc96",
           "#ab63fa",
           "#FFA15A",
           "#19d3f3",
           "#FF6692",
           "#B6E880",
           "#FF97FF",
           "#FECB52"
          ],
          "font": {
           "color": "#2a3f5f"
          },
          "geo": {
           "bgcolor": "white",
           "lakecolor": "white",
           "landcolor": "#E5ECF6",
           "showlakes": true,
           "showland": true,
           "subunitcolor": "white"
          },
          "hoverlabel": {
           "align": "left"
          },
          "hovermode": "closest",
          "mapbox": {
           "style": "light"
          },
          "paper_bgcolor": "white",
          "plot_bgcolor": "#E5ECF6",
          "polar": {
           "angularaxis": {
            "gridcolor": "white",
            "linecolor": "white",
            "ticks": ""
           },
           "bgcolor": "#E5ECF6",
           "radialaxis": {
            "gridcolor": "white",
            "linecolor": "white",
            "ticks": ""
           }
          },
          "scene": {
           "xaxis": {
            "backgroundcolor": "#E5ECF6",
            "gridcolor": "white",
            "gridwidth": 2,
            "linecolor": "white",
            "showbackground": true,
            "ticks": "",
            "zerolinecolor": "white"
           },
           "yaxis": {
            "backgroundcolor": "#E5ECF6",
            "gridcolor": "white",
            "gridwidth": 2,
            "linecolor": "white",
            "showbackground": true,
            "ticks": "",
            "zerolinecolor": "white"
           },
           "zaxis": {
            "backgroundcolor": "#E5ECF6",
            "gridcolor": "white",
            "gridwidth": 2,
            "linecolor": "white",
            "showbackground": true,
            "ticks": "",
            "zerolinecolor": "white"
           }
          },
          "shapedefaults": {
           "line": {
            "color": "#2a3f5f"
           }
          },
          "ternary": {
           "aaxis": {
            "gridcolor": "white",
            "linecolor": "white",
            "ticks": ""
           },
           "baxis": {
            "gridcolor": "white",
            "linecolor": "white",
            "ticks": ""
           },
           "bgcolor": "#E5ECF6",
           "caxis": {
            "gridcolor": "white",
            "linecolor": "white",
            "ticks": ""
           }
          },
          "title": {
           "x": 0.05
          },
          "xaxis": {
           "automargin": true,
           "gridcolor": "white",
           "linecolor": "white",
           "ticks": "",
           "title": {
            "standoff": 15
           },
           "zerolinecolor": "white",
           "zerolinewidth": 2
          },
          "yaxis": {
           "automargin": true,
           "gridcolor": "white",
           "linecolor": "white",
           "ticks": "",
           "title": {
            "standoff": 15
           },
           "zerolinecolor": "white",
           "zerolinewidth": 2
          }
         }
        },
        "width": 1000,
        "xaxis": {
         "anchor": "y",
         "domain": [
          0,
          1
         ],
         "title": {
          "text": "date_time"
         }
        },
        "yaxis": {
         "anchor": "x",
         "domain": [
          0,
          1
         ],
         "title": {
          "text": "value"
         }
        }
       }
      }
     },
     "metadata": {},
     "output_type": "display_data"
    }
   ],
   "source": [
    "data_load = pd.read_csv(\"C:\\\\Users\\\\irsya\\\\Downloads\\\\KS ORKA_SMP AAE-08_ActivitySummary.csv\")\n",
    "\n",
    "ConnectionTime_DF = data_load.groupby(['Stand Group_Pred']).agg({\n",
    "    'date_time':'first', \n",
    "    'RotateDrilling':'sum', \n",
    "    'Slide Drilling':'sum',\n",
    "    'ReamingTime':'sum',\n",
    "    'ConnectionTime':'sum',\n",
    "}).reset_index()\n",
    "\n",
    "# ConnectionTime_DF_Plot = pd.DataFrame(columns=['date_time', 'Stand Group_Pred', 'Duration', 'Labels'])\n",
    "\n",
    "# for i,j in enumerate(['RotateDrilling', 'Slide Drilling','ReamingTime','ConnectionTime']):\n",
    "#     if i ==0:\n",
    "#         ConnectionTime_DF_Plot_temp = pd.DataFrame(columns=['date_time', 'Stand Group_Pred', 'Duration', 'Labels'])\n",
    "#         ConnectionTime_DF_Plot_temp['date_time'] = ConnectionTime_DF['date_time']\n",
    "#         ConnectionTime_DF_Plot_temp['Stand Group_Pred'] = ConnectionTime_DF['Stand Group_Pred']\n",
    "#         ConnectionTime_DF_Plot_temp['Duration'] = ConnectionTime_DF[j]\n",
    "#         ConnectionTime_DF_Plot_temp['Labels'] = j\n",
    "#         # ConnectionTime_DF_Plot = pd.concat(ConnectionTime_DF_Plot, ConnectionTime_DF_Plot_temp)\n",
    "#         ConnectionTime_DF_Plot = pd.concat([ConnectionTime_DF_Plot, ConnectionTime_DF_Plot_temp])\n",
    "#     else:\n",
    "#         ConnectionTime_DF_Plot_temp = pd.DataFrame(columns=['date_time', 'Stand Group_Pred', 'Duration', 'Labels'])\n",
    "#         ConnectionTime_DF_Plot_temp['date_time'] = ConnectionTime_DF['date_time']\n",
    "#         ConnectionTime_DF_Plot_temp['Stand Group_Pred'] = ConnectionTime_DF['Stand Group_Pred']\n",
    "#         ConnectionTime_DF_Plot_temp['Duration'] = ConnectionTime_DF[j]\n",
    "#         ConnectionTime_DF_Plot_temp['Labels'] = j\n",
    "#         ConnectionTime_DF_Plot = pd.concat([ConnectionTime_DF_Plot, ConnectionTime_DF_Plot_temp])\n",
    "\n",
    "# ConnectionTime_DF_Plot = ConnectionTime_DF_Plot.sort_values('date_time')\n",
    "\n",
    "\n",
    "        \n",
    "ConnectionTime_DF = ConnectionTime_DF[ConnectionTime_DF['RotateDrilling'] != 0]\n",
    "fig = px.bar(ConnectionTime_DF, x='date_time', y=['RotateDrilling', 'Slide Drilling','ReamingTime','ConnectionTime'], width=1000, height=1000\n",
    "             )\n",
    "fig.show()\n"
   ]
  },
  {
   "cell_type": "code",
   "execution_count": 105,
   "metadata": {},
   "outputs": [
    {
     "data": {
      "application/vnd.plotly.v1+json": {
       "config": {
        "plotlyServerURL": "https://plot.ly"
       },
       "data": [
        {
         "alignmentgroup": "True",
         "hovertemplate": "variable=ROP<br>date_time=%{x}<br>value=%{y}<extra></extra>",
         "legendgroup": "ROP",
         "marker": {
          "color": "#636efa",
          "pattern": {
           "shape": ""
          }
         },
         "name": "ROP",
         "offsetgroup": "ROP",
         "orientation": "v",
         "showlegend": true,
         "textposition": "auto",
         "type": "bar",
         "x": [
          "2022-02-14 20:03:46",
          "2022-02-14 22:19:46",
          "2022-02-15 02:13:02",
          "2022-02-15 06:16:09",
          "2022-02-15 08:30:01",
          "2022-02-15 10:42:50",
          "2022-02-15 12:54:06",
          "2022-02-15 15:46:33",
          "2022-02-15 18:05:34",
          "2022-02-15 21:53:40"
         ],
         "xaxis": "x",
         "y": [
          15.325150169757116,
          15.669333333333332,
          14.063167893611967,
          17.793818625457504,
          17.197154273462626,
          18.696576653200083,
          16.210873146622735,
          12.92321116928447,
          17.18452265214855,
          12.211570691157737
         ],
         "yaxis": "y"
        },
        {
         "alignmentgroup": "True",
         "hovertemplate": "variable=OBH<br>date_time=%{x}<br>value=%{y}<extra></extra>",
         "legendgroup": "OBH",
         "marker": {
          "color": "#EF553B",
          "pattern": {
           "shape": ""
          }
         },
         "name": "OBH",
         "offsetgroup": "OBH",
         "orientation": "v",
         "showlegend": true,
         "textposition": "auto",
         "type": "bar",
         "x": [
          "2022-02-14 20:03:46",
          "2022-02-14 22:19:46",
          "2022-02-15 02:13:02",
          "2022-02-15 06:16:09",
          "2022-02-15 08:30:01",
          "2022-02-15 10:42:50",
          "2022-02-15 12:54:06",
          "2022-02-15 15:46:33",
          "2022-02-15 18:05:34",
          "2022-02-15 21:53:40"
         ],
         "xaxis": "x",
         "y": [
          1.2763333333333333,
          1.875,
          2.1055,
          1.6393333333333333,
          1.7101666666666666,
          1.5676666666666668,
          1.8210000000000002,
          2.292,
          1.7143333333333333,
          2.486166666666667
         ],
         "yaxis": "y"
        }
       ],
       "layout": {
        "barmode": "group",
        "height": 400,
        "legend": {
         "title": {
          "text": "variable"
         },
         "tracegroupgap": 0
        },
        "margin": {
         "t": 60
        },
        "template": {
         "data": {
          "bar": [
           {
            "error_x": {
             "color": "#2a3f5f"
            },
            "error_y": {
             "color": "#2a3f5f"
            },
            "marker": {
             "line": {
              "color": "#E5ECF6",
              "width": 0.5
             },
             "pattern": {
              "fillmode": "overlay",
              "size": 10,
              "solidity": 0.2
             }
            },
            "type": "bar"
           }
          ],
          "barpolar": [
           {
            "marker": {
             "line": {
              "color": "#E5ECF6",
              "width": 0.5
             },
             "pattern": {
              "fillmode": "overlay",
              "size": 10,
              "solidity": 0.2
             }
            },
            "type": "barpolar"
           }
          ],
          "carpet": [
           {
            "aaxis": {
             "endlinecolor": "#2a3f5f",
             "gridcolor": "white",
             "linecolor": "white",
             "minorgridcolor": "white",
             "startlinecolor": "#2a3f5f"
            },
            "baxis": {
             "endlinecolor": "#2a3f5f",
             "gridcolor": "white",
             "linecolor": "white",
             "minorgridcolor": "white",
             "startlinecolor": "#2a3f5f"
            },
            "type": "carpet"
           }
          ],
          "choropleth": [
           {
            "colorbar": {
             "outlinewidth": 0,
             "ticks": ""
            },
            "type": "choropleth"
           }
          ],
          "contour": [
           {
            "colorbar": {
             "outlinewidth": 0,
             "ticks": ""
            },
            "colorscale": [
             [
              0,
              "#0d0887"
             ],
             [
              0.1111111111111111,
              "#46039f"
             ],
             [
              0.2222222222222222,
              "#7201a8"
             ],
             [
              0.3333333333333333,
              "#9c179e"
             ],
             [
              0.4444444444444444,
              "#bd3786"
             ],
             [
              0.5555555555555556,
              "#d8576b"
             ],
             [
              0.6666666666666666,
              "#ed7953"
             ],
             [
              0.7777777777777778,
              "#fb9f3a"
             ],
             [
              0.8888888888888888,
              "#fdca26"
             ],
             [
              1,
              "#f0f921"
             ]
            ],
            "type": "contour"
           }
          ],
          "contourcarpet": [
           {
            "colorbar": {
             "outlinewidth": 0,
             "ticks": ""
            },
            "type": "contourcarpet"
           }
          ],
          "heatmap": [
           {
            "colorbar": {
             "outlinewidth": 0,
             "ticks": ""
            },
            "colorscale": [
             [
              0,
              "#0d0887"
             ],
             [
              0.1111111111111111,
              "#46039f"
             ],
             [
              0.2222222222222222,
              "#7201a8"
             ],
             [
              0.3333333333333333,
              "#9c179e"
             ],
             [
              0.4444444444444444,
              "#bd3786"
             ],
             [
              0.5555555555555556,
              "#d8576b"
             ],
             [
              0.6666666666666666,
              "#ed7953"
             ],
             [
              0.7777777777777778,
              "#fb9f3a"
             ],
             [
              0.8888888888888888,
              "#fdca26"
             ],
             [
              1,
              "#f0f921"
             ]
            ],
            "type": "heatmap"
           }
          ],
          "heatmapgl": [
           {
            "colorbar": {
             "outlinewidth": 0,
             "ticks": ""
            },
            "colorscale": [
             [
              0,
              "#0d0887"
             ],
             [
              0.1111111111111111,
              "#46039f"
             ],
             [
              0.2222222222222222,
              "#7201a8"
             ],
             [
              0.3333333333333333,
              "#9c179e"
             ],
             [
              0.4444444444444444,
              "#bd3786"
             ],
             [
              0.5555555555555556,
              "#d8576b"
             ],
             [
              0.6666666666666666,
              "#ed7953"
             ],
             [
              0.7777777777777778,
              "#fb9f3a"
             ],
             [
              0.8888888888888888,
              "#fdca26"
             ],
             [
              1,
              "#f0f921"
             ]
            ],
            "type": "heatmapgl"
           }
          ],
          "histogram": [
           {
            "marker": {
             "pattern": {
              "fillmode": "overlay",
              "size": 10,
              "solidity": 0.2
             }
            },
            "type": "histogram"
           }
          ],
          "histogram2d": [
           {
            "colorbar": {
             "outlinewidth": 0,
             "ticks": ""
            },
            "colorscale": [
             [
              0,
              "#0d0887"
             ],
             [
              0.1111111111111111,
              "#46039f"
             ],
             [
              0.2222222222222222,
              "#7201a8"
             ],
             [
              0.3333333333333333,
              "#9c179e"
             ],
             [
              0.4444444444444444,
              "#bd3786"
             ],
             [
              0.5555555555555556,
              "#d8576b"
             ],
             [
              0.6666666666666666,
              "#ed7953"
             ],
             [
              0.7777777777777778,
              "#fb9f3a"
             ],
             [
              0.8888888888888888,
              "#fdca26"
             ],
             [
              1,
              "#f0f921"
             ]
            ],
            "type": "histogram2d"
           }
          ],
          "histogram2dcontour": [
           {
            "colorbar": {
             "outlinewidth": 0,
             "ticks": ""
            },
            "colorscale": [
             [
              0,
              "#0d0887"
             ],
             [
              0.1111111111111111,
              "#46039f"
             ],
             [
              0.2222222222222222,
              "#7201a8"
             ],
             [
              0.3333333333333333,
              "#9c179e"
             ],
             [
              0.4444444444444444,
              "#bd3786"
             ],
             [
              0.5555555555555556,
              "#d8576b"
             ],
             [
              0.6666666666666666,
              "#ed7953"
             ],
             [
              0.7777777777777778,
              "#fb9f3a"
             ],
             [
              0.8888888888888888,
              "#fdca26"
             ],
             [
              1,
              "#f0f921"
             ]
            ],
            "type": "histogram2dcontour"
           }
          ],
          "mesh3d": [
           {
            "colorbar": {
             "outlinewidth": 0,
             "ticks": ""
            },
            "type": "mesh3d"
           }
          ],
          "parcoords": [
           {
            "line": {
             "colorbar": {
              "outlinewidth": 0,
              "ticks": ""
             }
            },
            "type": "parcoords"
           }
          ],
          "pie": [
           {
            "automargin": true,
            "type": "pie"
           }
          ],
          "scatter": [
           {
            "marker": {
             "colorbar": {
              "outlinewidth": 0,
              "ticks": ""
             }
            },
            "type": "scatter"
           }
          ],
          "scatter3d": [
           {
            "line": {
             "colorbar": {
              "outlinewidth": 0,
              "ticks": ""
             }
            },
            "marker": {
             "colorbar": {
              "outlinewidth": 0,
              "ticks": ""
             }
            },
            "type": "scatter3d"
           }
          ],
          "scattercarpet": [
           {
            "marker": {
             "colorbar": {
              "outlinewidth": 0,
              "ticks": ""
             }
            },
            "type": "scattercarpet"
           }
          ],
          "scattergeo": [
           {
            "marker": {
             "colorbar": {
              "outlinewidth": 0,
              "ticks": ""
             }
            },
            "type": "scattergeo"
           }
          ],
          "scattergl": [
           {
            "marker": {
             "colorbar": {
              "outlinewidth": 0,
              "ticks": ""
             }
            },
            "type": "scattergl"
           }
          ],
          "scattermapbox": [
           {
            "marker": {
             "colorbar": {
              "outlinewidth": 0,
              "ticks": ""
             }
            },
            "type": "scattermapbox"
           }
          ],
          "scatterpolar": [
           {
            "marker": {
             "colorbar": {
              "outlinewidth": 0,
              "ticks": ""
             }
            },
            "type": "scatterpolar"
           }
          ],
          "scatterpolargl": [
           {
            "marker": {
             "colorbar": {
              "outlinewidth": 0,
              "ticks": ""
             }
            },
            "type": "scatterpolargl"
           }
          ],
          "scatterternary": [
           {
            "marker": {
             "colorbar": {
              "outlinewidth": 0,
              "ticks": ""
             }
            },
            "type": "scatterternary"
           }
          ],
          "surface": [
           {
            "colorbar": {
             "outlinewidth": 0,
             "ticks": ""
            },
            "colorscale": [
             [
              0,
              "#0d0887"
             ],
             [
              0.1111111111111111,
              "#46039f"
             ],
             [
              0.2222222222222222,
              "#7201a8"
             ],
             [
              0.3333333333333333,
              "#9c179e"
             ],
             [
              0.4444444444444444,
              "#bd3786"
             ],
             [
              0.5555555555555556,
              "#d8576b"
             ],
             [
              0.6666666666666666,
              "#ed7953"
             ],
             [
              0.7777777777777778,
              "#fb9f3a"
             ],
             [
              0.8888888888888888,
              "#fdca26"
             ],
             [
              1,
              "#f0f921"
             ]
            ],
            "type": "surface"
           }
          ],
          "table": [
           {
            "cells": {
             "fill": {
              "color": "#EBF0F8"
             },
             "line": {
              "color": "white"
             }
            },
            "header": {
             "fill": {
              "color": "#C8D4E3"
             },
             "line": {
              "color": "white"
             }
            },
            "type": "table"
           }
          ]
         },
         "layout": {
          "annotationdefaults": {
           "arrowcolor": "#2a3f5f",
           "arrowhead": 0,
           "arrowwidth": 1
          },
          "autotypenumbers": "strict",
          "coloraxis": {
           "colorbar": {
            "outlinewidth": 0,
            "ticks": ""
           }
          },
          "colorscale": {
           "diverging": [
            [
             0,
             "#8e0152"
            ],
            [
             0.1,
             "#c51b7d"
            ],
            [
             0.2,
             "#de77ae"
            ],
            [
             0.3,
             "#f1b6da"
            ],
            [
             0.4,
             "#fde0ef"
            ],
            [
             0.5,
             "#f7f7f7"
            ],
            [
             0.6,
             "#e6f5d0"
            ],
            [
             0.7,
             "#b8e186"
            ],
            [
             0.8,
             "#7fbc41"
            ],
            [
             0.9,
             "#4d9221"
            ],
            [
             1,
             "#276419"
            ]
           ],
           "sequential": [
            [
             0,
             "#0d0887"
            ],
            [
             0.1111111111111111,
             "#46039f"
            ],
            [
             0.2222222222222222,
             "#7201a8"
            ],
            [
             0.3333333333333333,
             "#9c179e"
            ],
            [
             0.4444444444444444,
             "#bd3786"
            ],
            [
             0.5555555555555556,
             "#d8576b"
            ],
            [
             0.6666666666666666,
             "#ed7953"
            ],
            [
             0.7777777777777778,
             "#fb9f3a"
            ],
            [
             0.8888888888888888,
             "#fdca26"
            ],
            [
             1,
             "#f0f921"
            ]
           ],
           "sequentialminus": [
            [
             0,
             "#0d0887"
            ],
            [
             0.1111111111111111,
             "#46039f"
            ],
            [
             0.2222222222222222,
             "#7201a8"
            ],
            [
             0.3333333333333333,
             "#9c179e"
            ],
            [
             0.4444444444444444,
             "#bd3786"
            ],
            [
             0.5555555555555556,
             "#d8576b"
            ],
            [
             0.6666666666666666,
             "#ed7953"
            ],
            [
             0.7777777777777778,
             "#fb9f3a"
            ],
            [
             0.8888888888888888,
             "#fdca26"
            ],
            [
             1,
             "#f0f921"
            ]
           ]
          },
          "colorway": [
           "#636efa",
           "#EF553B",
           "#00cc96",
           "#ab63fa",
           "#FFA15A",
           "#19d3f3",
           "#FF6692",
           "#B6E880",
           "#FF97FF",
           "#FECB52"
          ],
          "font": {
           "color": "#2a3f5f"
          },
          "geo": {
           "bgcolor": "white",
           "lakecolor": "white",
           "landcolor": "#E5ECF6",
           "showlakes": true,
           "showland": true,
           "subunitcolor": "white"
          },
          "hoverlabel": {
           "align": "left"
          },
          "hovermode": "closest",
          "mapbox": {
           "style": "light"
          },
          "paper_bgcolor": "white",
          "plot_bgcolor": "#E5ECF6",
          "polar": {
           "angularaxis": {
            "gridcolor": "white",
            "linecolor": "white",
            "ticks": ""
           },
           "bgcolor": "#E5ECF6",
           "radialaxis": {
            "gridcolor": "white",
            "linecolor": "white",
            "ticks": ""
           }
          },
          "scene": {
           "xaxis": {
            "backgroundcolor": "#E5ECF6",
            "gridcolor": "white",
            "gridwidth": 2,
            "linecolor": "white",
            "showbackground": true,
            "ticks": "",
            "zerolinecolor": "white"
           },
           "yaxis": {
            "backgroundcolor": "#E5ECF6",
            "gridcolor": "white",
            "gridwidth": 2,
            "linecolor": "white",
            "showbackground": true,
            "ticks": "",
            "zerolinecolor": "white"
           },
           "zaxis": {
            "backgroundcolor": "#E5ECF6",
            "gridcolor": "white",
            "gridwidth": 2,
            "linecolor": "white",
            "showbackground": true,
            "ticks": "",
            "zerolinecolor": "white"
           }
          },
          "shapedefaults": {
           "line": {
            "color": "#2a3f5f"
           }
          },
          "ternary": {
           "aaxis": {
            "gridcolor": "white",
            "linecolor": "white",
            "ticks": ""
           },
           "baxis": {
            "gridcolor": "white",
            "linecolor": "white",
            "ticks": ""
           },
           "bgcolor": "#E5ECF6",
           "caxis": {
            "gridcolor": "white",
            "linecolor": "white",
            "ticks": ""
           }
          },
          "title": {
           "x": 0.05
          },
          "xaxis": {
           "automargin": true,
           "gridcolor": "white",
           "linecolor": "white",
           "ticks": "",
           "title": {
            "standoff": 15
           },
           "zerolinecolor": "white",
           "zerolinewidth": 2
          },
          "yaxis": {
           "automargin": true,
           "gridcolor": "white",
           "linecolor": "white",
           "ticks": "",
           "title": {
            "standoff": 15
           },
           "zerolinecolor": "white",
           "zerolinewidth": 2
          }
         }
        },
        "xaxis": {
         "anchor": "y",
         "domain": [
          0,
          1
         ],
         "title": {
          "text": "date_time"
         }
        },
        "yaxis": {
         "anchor": "x",
         "domain": [
          0,
          1
         ],
         "title": {
          "text": "value"
         }
        }
       }
      }
     },
     "metadata": {},
     "output_type": "display_data"
    }
   ],
   "source": [
    "data_load = pd.read_csv(\"C:\\\\Users\\\\irsya\\\\Downloads\\\\KS ORKA_SMP AAE-08_ActivitySummary.csv\")\n",
    "\n",
    "\n",
    "data_load['Stand Group_Pred_Shift'] = data_load['Stand Group_Pred'].shift(1)\n",
    "data_load = data_load[data_load['LABEL_SubActivity']=='Connection']\n",
    "data_load = data_load.dropna(subset=['Stand Group_Pred_Shift'])\n",
    "data_load = data_load[data_load['Stand Meterage (m) (Drilling)']!=0]\n",
    "data_load['ROP'] = data_load['Stand Meterage (m) (Drilling)'] / (data_load['Stand On Bottom Hours']/60)\n",
    "data_load['OBH'] = (data_load['Stand On Bottom Hours']/60)\n",
    "\n",
    "\n",
    "df = px.data.tips()\n",
    "fig = px.bar(data_load, x=\"date_time\", y=['ROP','OBH'] ,\n",
    "              barmode='group',\n",
    "             height=400)\n",
    "fig.show()\n",
    "\n",
    " "
   ]
  },
  {
   "cell_type": "code",
   "execution_count": 92,
   "metadata": {},
   "outputs": [
    {
     "data": {
      "text/html": [
       "<div>\n",
       "<style scoped>\n",
       "    .dataframe tbody tr th:only-of-type {\n",
       "        vertical-align: middle;\n",
       "    }\n",
       "\n",
       "    .dataframe tbody tr th {\n",
       "        vertical-align: top;\n",
       "    }\n",
       "\n",
       "    .dataframe thead th {\n",
       "        text-align: right;\n",
       "    }\n",
       "</style>\n",
       "<table border=\"1\" class=\"dataframe\">\n",
       "  <thead>\n",
       "    <tr style=\"text-align: right;\">\n",
       "      <th></th>\n",
       "      <th>date</th>\n",
       "      <th>Time_start</th>\n",
       "      <th>Time_end</th>\n",
       "      <th>date_time</th>\n",
       "      <th>Duration(minutes)</th>\n",
       "      <th>Hole Depth(max)</th>\n",
       "      <th>Bit Depth(mean)</th>\n",
       "      <th>Meterage(m)(Drilling)</th>\n",
       "      <th>RotateDrilling</th>\n",
       "      <th>Slide Drilling</th>\n",
       "      <th>...</th>\n",
       "      <th>ConnectionTime</th>\n",
       "      <th>On Bottom Hours</th>\n",
       "      <th>Stand Duration</th>\n",
       "      <th>LABEL_SubActivity</th>\n",
       "      <th>LABEL_Activity</th>\n",
       "      <th>MERGE_SubActivity-Activity</th>\n",
       "      <th>Stand Meterage (m) (Drilling)</th>\n",
       "      <th>Stand Stand Duration (hrs)</th>\n",
       "      <th>Stand On Bottom Hours</th>\n",
       "      <th>Stand Group_Pred</th>\n",
       "    </tr>\n",
       "  </thead>\n",
       "  <tbody>\n",
       "    <tr>\n",
       "      <th>0</th>\n",
       "      <td>2022-02-14 00:00:00</td>\n",
       "      <td>00:00:00</td>\n",
       "      <td>11:59:58</td>\n",
       "      <td>2022-02-14 00:00:00</td>\n",
       "      <td>719.97</td>\n",
       "      <td>718.02</td>\n",
       "      <td>640.80</td>\n",
       "      <td>0.00</td>\n",
       "      <td>0.00</td>\n",
       "      <td>0.00</td>\n",
       "      <td>...</td>\n",
       "      <td>0.0</td>\n",
       "      <td>0.0</td>\n",
       "      <td>0.0</td>\n",
       "      <td>FALSE/Check</td>\n",
       "      <td>NaN</td>\n",
       "      <td>nan--FALSE/Check</td>\n",
       "      <td>0.0</td>\n",
       "      <td>0.0</td>\n",
       "      <td>0.0</td>\n",
       "      <td>NaN</td>\n",
       "    </tr>\n",
       "    <tr>\n",
       "      <th>1</th>\n",
       "      <td>2022-02-14 00:00:00</td>\n",
       "      <td>12:00:03</td>\n",
       "      <td>14:59:56</td>\n",
       "      <td>2022-02-14 12:00:03</td>\n",
       "      <td>179.88</td>\n",
       "      <td>747.38</td>\n",
       "      <td>732.21</td>\n",
       "      <td>0.00</td>\n",
       "      <td>0.00</td>\n",
       "      <td>0.00</td>\n",
       "      <td>...</td>\n",
       "      <td>0.0</td>\n",
       "      <td>0.0</td>\n",
       "      <td>0.0</td>\n",
       "      <td>MAKE UP BHA</td>\n",
       "      <td>MAKE UP BHA</td>\n",
       "      <td>MAKE UP BHA--MAKE UP BHA</td>\n",
       "      <td>0.0</td>\n",
       "      <td>0.0</td>\n",
       "      <td>0.0</td>\n",
       "      <td>NaN</td>\n",
       "    </tr>\n",
       "    <tr>\n",
       "      <th>2</th>\n",
       "      <td>2022-02-14 00:00:00</td>\n",
       "      <td>15:00:01</td>\n",
       "      <td>15:09:06</td>\n",
       "      <td>2022-02-14 15:00:01</td>\n",
       "      <td>9.08</td>\n",
       "      <td>749.55</td>\n",
       "      <td>748.48</td>\n",
       "      <td>0.00</td>\n",
       "      <td>0.00</td>\n",
       "      <td>0.00</td>\n",
       "      <td>...</td>\n",
       "      <td>0.0</td>\n",
       "      <td>0.0</td>\n",
       "      <td>0.0</td>\n",
       "      <td>Wash Up/Down</td>\n",
       "      <td>TRIP IN</td>\n",
       "      <td>TRIP IN--Wash Up/Down</td>\n",
       "      <td>0.0</td>\n",
       "      <td>0.0</td>\n",
       "      <td>0.0</td>\n",
       "      <td>NaN</td>\n",
       "    </tr>\n",
       "    <tr>\n",
       "      <th>3</th>\n",
       "      <td>2022-02-14 00:00:00</td>\n",
       "      <td>15:09:11</td>\n",
       "      <td>15:09:16</td>\n",
       "      <td>2022-02-14 15:09:11</td>\n",
       "      <td>0.00</td>\n",
       "      <td>749.57</td>\n",
       "      <td>749.57</td>\n",
       "      <td>0.00</td>\n",
       "      <td>0.00</td>\n",
       "      <td>0.00</td>\n",
       "      <td>...</td>\n",
       "      <td>0.0</td>\n",
       "      <td>0.0</td>\n",
       "      <td>0.0</td>\n",
       "      <td>Circulation</td>\n",
       "      <td>TRIP IN</td>\n",
       "      <td>TRIP IN--Circulation</td>\n",
       "      <td>0.0</td>\n",
       "      <td>0.0</td>\n",
       "      <td>0.0</td>\n",
       "      <td>NaN</td>\n",
       "    </tr>\n",
       "    <tr>\n",
       "      <th>4</th>\n",
       "      <td>2022-02-14 00:00:00</td>\n",
       "      <td>15:09:21</td>\n",
       "      <td>15:09:31</td>\n",
       "      <td>2022-02-14 15:09:21</td>\n",
       "      <td>0.17</td>\n",
       "      <td>749.61</td>\n",
       "      <td>749.60</td>\n",
       "      <td>0.00</td>\n",
       "      <td>0.00</td>\n",
       "      <td>0.00</td>\n",
       "      <td>...</td>\n",
       "      <td>0.0</td>\n",
       "      <td>0.0</td>\n",
       "      <td>0.0</td>\n",
       "      <td>Wash Up/Down</td>\n",
       "      <td>TRIP IN</td>\n",
       "      <td>TRIP IN--Wash Up/Down</td>\n",
       "      <td>0.0</td>\n",
       "      <td>0.0</td>\n",
       "      <td>0.0</td>\n",
       "      <td>NaN</td>\n",
       "    </tr>\n",
       "    <tr>\n",
       "      <th>...</th>\n",
       "      <td>...</td>\n",
       "      <td>...</td>\n",
       "      <td>...</td>\n",
       "      <td>...</td>\n",
       "      <td>...</td>\n",
       "      <td>...</td>\n",
       "      <td>...</td>\n",
       "      <td>...</td>\n",
       "      <td>...</td>\n",
       "      <td>...</td>\n",
       "      <td>...</td>\n",
       "      <td>...</td>\n",
       "      <td>...</td>\n",
       "      <td>...</td>\n",
       "      <td>...</td>\n",
       "      <td>...</td>\n",
       "      <td>...</td>\n",
       "      <td>...</td>\n",
       "      <td>...</td>\n",
       "      <td>...</td>\n",
       "      <td>...</td>\n",
       "    </tr>\n",
       "    <tr>\n",
       "      <th>357</th>\n",
       "      <td>2022-02-15 00:00:00</td>\n",
       "      <td>23:27:27</td>\n",
       "      <td>23:30:57</td>\n",
       "      <td>2022-02-15 23:27:27</td>\n",
       "      <td>3.50</td>\n",
       "      <td>1080.00</td>\n",
       "      <td>1072.10</td>\n",
       "      <td>0.00</td>\n",
       "      <td>0.00</td>\n",
       "      <td>0.00</td>\n",
       "      <td>...</td>\n",
       "      <td>0.0</td>\n",
       "      <td>0.0</td>\n",
       "      <td>0.0</td>\n",
       "      <td>Wash Up/Down</td>\n",
       "      <td>DRILLING FORMATION</td>\n",
       "      <td>DRILLING FORMATION--Wash Up/Down</td>\n",
       "      <td>0.0</td>\n",
       "      <td>0.0</td>\n",
       "      <td>0.0</td>\n",
       "      <td>NaN</td>\n",
       "    </tr>\n",
       "    <tr>\n",
       "      <th>358</th>\n",
       "      <td>2022-02-15 00:00:00</td>\n",
       "      <td>23:31:02</td>\n",
       "      <td>23:45:42</td>\n",
       "      <td>2022-02-15 23:31:02</td>\n",
       "      <td>14.67</td>\n",
       "      <td>1082.00</td>\n",
       "      <td>1081.08</td>\n",
       "      <td>2.00</td>\n",
       "      <td>0.00</td>\n",
       "      <td>14.67</td>\n",
       "      <td>...</td>\n",
       "      <td>0.0</td>\n",
       "      <td>0.0</td>\n",
       "      <td>0.0</td>\n",
       "      <td>Slide Drilling</td>\n",
       "      <td>DRILLING FORMATION</td>\n",
       "      <td>DRILLING FORMATION--Slide Drilling</td>\n",
       "      <td>0.0</td>\n",
       "      <td>0.0</td>\n",
       "      <td>0.0</td>\n",
       "      <td>NaN</td>\n",
       "    </tr>\n",
       "    <tr>\n",
       "      <th>359</th>\n",
       "      <td>2022-02-15 00:00:00</td>\n",
       "      <td>23:45:47</td>\n",
       "      <td>23:46:47</td>\n",
       "      <td>2022-02-15 23:45:47</td>\n",
       "      <td>0.91</td>\n",
       "      <td>1082.00</td>\n",
       "      <td>1080.79</td>\n",
       "      <td>0.00</td>\n",
       "      <td>0.00</td>\n",
       "      <td>0.00</td>\n",
       "      <td>...</td>\n",
       "      <td>0.0</td>\n",
       "      <td>0.0</td>\n",
       "      <td>0.0</td>\n",
       "      <td>Wash Up/Down</td>\n",
       "      <td>DRILLING FORMATION</td>\n",
       "      <td>DRILLING FORMATION--Wash Up/Down</td>\n",
       "      <td>0.0</td>\n",
       "      <td>0.0</td>\n",
       "      <td>0.0</td>\n",
       "      <td>NaN</td>\n",
       "    </tr>\n",
       "    <tr>\n",
       "      <th>360</th>\n",
       "      <td>2022-02-15 00:00:00</td>\n",
       "      <td>23:46:52</td>\n",
       "      <td>23:48:17</td>\n",
       "      <td>2022-02-15 23:46:52</td>\n",
       "      <td>1.42</td>\n",
       "      <td>1082.00</td>\n",
       "      <td>1081.28</td>\n",
       "      <td>0.00</td>\n",
       "      <td>0.00</td>\n",
       "      <td>0.00</td>\n",
       "      <td>...</td>\n",
       "      <td>0.0</td>\n",
       "      <td>0.0</td>\n",
       "      <td>0.0</td>\n",
       "      <td>Reaming</td>\n",
       "      <td>DRILLING FORMATION</td>\n",
       "      <td>DRILLING FORMATION--Reaming</td>\n",
       "      <td>0.0</td>\n",
       "      <td>0.0</td>\n",
       "      <td>0.0</td>\n",
       "      <td>NaN</td>\n",
       "    </tr>\n",
       "    <tr>\n",
       "      <th>361</th>\n",
       "      <td>2022-02-15 00:00:00</td>\n",
       "      <td>23:48:22</td>\n",
       "      <td>23:59:57</td>\n",
       "      <td>2022-02-15 23:48:22</td>\n",
       "      <td>11.58</td>\n",
       "      <td>1084.19</td>\n",
       "      <td>1083.03</td>\n",
       "      <td>2.19</td>\n",
       "      <td>11.58</td>\n",
       "      <td>0.00</td>\n",
       "      <td>...</td>\n",
       "      <td>0.0</td>\n",
       "      <td>0.0</td>\n",
       "      <td>0.0</td>\n",
       "      <td>Rotary Drilling</td>\n",
       "      <td>DRILLING FORMATION</td>\n",
       "      <td>DRILLING FORMATION--Rotary Drilling</td>\n",
       "      <td>0.0</td>\n",
       "      <td>0.0</td>\n",
       "      <td>0.0</td>\n",
       "      <td>NaN</td>\n",
       "    </tr>\n",
       "  </tbody>\n",
       "</table>\n",
       "<p>362 rows × 21 columns</p>\n",
       "</div>"
      ],
      "text/plain": [
       "                    date Time_start  Time_end            date_time  \\\n",
       "0    2022-02-14 00:00:00   00:00:00  11:59:58  2022-02-14 00:00:00   \n",
       "1    2022-02-14 00:00:00   12:00:03  14:59:56  2022-02-14 12:00:03   \n",
       "2    2022-02-14 00:00:00   15:00:01  15:09:06  2022-02-14 15:00:01   \n",
       "3    2022-02-14 00:00:00   15:09:11  15:09:16  2022-02-14 15:09:11   \n",
       "4    2022-02-14 00:00:00   15:09:21  15:09:31  2022-02-14 15:09:21   \n",
       "..                   ...        ...       ...                  ...   \n",
       "357  2022-02-15 00:00:00   23:27:27  23:30:57  2022-02-15 23:27:27   \n",
       "358  2022-02-15 00:00:00   23:31:02  23:45:42  2022-02-15 23:31:02   \n",
       "359  2022-02-15 00:00:00   23:45:47  23:46:47  2022-02-15 23:45:47   \n",
       "360  2022-02-15 00:00:00   23:46:52  23:48:17  2022-02-15 23:46:52   \n",
       "361  2022-02-15 00:00:00   23:48:22  23:59:57  2022-02-15 23:48:22   \n",
       "\n",
       "     Duration(minutes)  Hole Depth(max)  Bit Depth(mean)  \\\n",
       "0               719.97           718.02           640.80   \n",
       "1               179.88           747.38           732.21   \n",
       "2                 9.08           749.55           748.48   \n",
       "3                 0.00           749.57           749.57   \n",
       "4                 0.17           749.61           749.60   \n",
       "..                 ...              ...              ...   \n",
       "357               3.50          1080.00          1072.10   \n",
       "358              14.67          1082.00          1081.08   \n",
       "359               0.91          1082.00          1080.79   \n",
       "360               1.42          1082.00          1081.28   \n",
       "361              11.58          1084.19          1083.03   \n",
       "\n",
       "     Meterage(m)(Drilling)  RotateDrilling  Slide Drilling  ...  \\\n",
       "0                     0.00            0.00            0.00  ...   \n",
       "1                     0.00            0.00            0.00  ...   \n",
       "2                     0.00            0.00            0.00  ...   \n",
       "3                     0.00            0.00            0.00  ...   \n",
       "4                     0.00            0.00            0.00  ...   \n",
       "..                     ...             ...             ...  ...   \n",
       "357                   0.00            0.00            0.00  ...   \n",
       "358                   2.00            0.00           14.67  ...   \n",
       "359                   0.00            0.00            0.00  ...   \n",
       "360                   0.00            0.00            0.00  ...   \n",
       "361                   2.19           11.58            0.00  ...   \n",
       "\n",
       "     ConnectionTime  On Bottom Hours  Stand Duration  LABEL_SubActivity  \\\n",
       "0               0.0              0.0             0.0        FALSE/Check   \n",
       "1               0.0              0.0             0.0        MAKE UP BHA   \n",
       "2               0.0              0.0             0.0       Wash Up/Down   \n",
       "3               0.0              0.0             0.0        Circulation   \n",
       "4               0.0              0.0             0.0       Wash Up/Down   \n",
       "..              ...              ...             ...                ...   \n",
       "357             0.0              0.0             0.0       Wash Up/Down   \n",
       "358             0.0              0.0             0.0     Slide Drilling   \n",
       "359             0.0              0.0             0.0       Wash Up/Down   \n",
       "360             0.0              0.0             0.0            Reaming   \n",
       "361             0.0              0.0             0.0    Rotary Drilling   \n",
       "\n",
       "         LABEL_Activity           MERGE_SubActivity-Activity  \\\n",
       "0                   NaN                     nan--FALSE/Check   \n",
       "1           MAKE UP BHA             MAKE UP BHA--MAKE UP BHA   \n",
       "2               TRIP IN                TRIP IN--Wash Up/Down   \n",
       "3               TRIP IN                 TRIP IN--Circulation   \n",
       "4               TRIP IN                TRIP IN--Wash Up/Down   \n",
       "..                  ...                                  ...   \n",
       "357  DRILLING FORMATION     DRILLING FORMATION--Wash Up/Down   \n",
       "358  DRILLING FORMATION   DRILLING FORMATION--Slide Drilling   \n",
       "359  DRILLING FORMATION     DRILLING FORMATION--Wash Up/Down   \n",
       "360  DRILLING FORMATION          DRILLING FORMATION--Reaming   \n",
       "361  DRILLING FORMATION  DRILLING FORMATION--Rotary Drilling   \n",
       "\n",
       "    Stand Meterage (m) (Drilling)  Stand Stand Duration (hrs)  \\\n",
       "0                             0.0                         0.0   \n",
       "1                             0.0                         0.0   \n",
       "2                             0.0                         0.0   \n",
       "3                             0.0                         0.0   \n",
       "4                             0.0                         0.0   \n",
       "..                            ...                         ...   \n",
       "357                           0.0                         0.0   \n",
       "358                           0.0                         0.0   \n",
       "359                           0.0                         0.0   \n",
       "360                           0.0                         0.0   \n",
       "361                           0.0                         0.0   \n",
       "\n",
       "     Stand On Bottom Hours  Stand Group_Pred  \n",
       "0                      0.0               NaN  \n",
       "1                      0.0               NaN  \n",
       "2                      0.0               NaN  \n",
       "3                      0.0               NaN  \n",
       "4                      0.0               NaN  \n",
       "..                     ...               ...  \n",
       "357                    0.0               NaN  \n",
       "358                    0.0               NaN  \n",
       "359                    0.0               NaN  \n",
       "360                    0.0               NaN  \n",
       "361                    0.0               NaN  \n",
       "\n",
       "[362 rows x 21 columns]"
      ]
     },
     "execution_count": 92,
     "metadata": {},
     "output_type": "execute_result"
    }
   ],
   "source": [
    "data_load"
   ]
  },
  {
   "cell_type": "code",
   "execution_count": null,
   "metadata": {},
   "outputs": [],
   "source": []
  }
 ],
 "metadata": {
  "interpreter": {
   "hash": "00fc6f8063a31d0bfe3c63c246bdb94246fdfb53b42a9a4fc3d4187a46a15b50"
  },
  "kernelspec": {
   "display_name": "Python 3.8.10 64-bit ('python38': conda)",
   "language": "python",
   "name": "python3"
  },
  "language_info": {
   "codemirror_mode": {
    "name": "ipython",
    "version": 3
   },
   "file_extension": ".py",
   "mimetype": "text/x-python",
   "name": "python",
   "nbconvert_exporter": "python",
   "pygments_lexer": "ipython3",
   "version": "3.8.10"
  },
  "orig_nbformat": 4
 },
 "nbformat": 4,
 "nbformat_minor": 2
}
